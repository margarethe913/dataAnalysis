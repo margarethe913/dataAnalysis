{
 "cells": [
  {
   "cell_type": "code",
   "execution_count": 133,
   "outputs": [],
   "source": [
    "from collections import defaultdict\n",
    "\n",
    "import numpy as np\n",
    "import pandas as pd"
   ],
   "metadata": {
    "collapsed": false,
    "pycharm": {
     "name": "#%%\n"
    }
   }
  },
  {
   "cell_type": "code",
   "execution_count": 134,
   "outputs": [],
   "source": [
    "df = pd.read_csv('responses.csv')\n",
    "answers = pd.read_csv('answers.csv')"
   ],
   "metadata": {
    "collapsed": false,
    "pycharm": {
     "name": "#%%\n"
    }
   }
  },
  {
   "cell_type": "code",
   "execution_count": 135,
   "outputs": [],
   "source": [
    "a_dict = dict()\n",
    "questions = answers.loc[:,\"Example Scenario in Survey\"]\n",
    "correct = answers.loc[:,\"Correct Answer\"]\n",
    "for i in range(0, len(questions)):\n",
    "    a_dict[questions[i]] = correct[i]"
   ],
   "metadata": {
    "collapsed": false,
    "pycharm": {
     "name": "#%%\n"
    }
   }
  },
  {
   "cell_type": "code",
   "execution_count": 136,
   "outputs": [],
   "source": [
    "analysis = dict()\n",
    "valcounts = list(df.columns.values.tolist())\n",
    "for i in range(7, len(valcounts)):\n",
    "    correct = 0\n",
    "    incorrect = 0\n",
    "    answers = df[list(df.columns.values.tolist())[i]].value_counts().keys().tolist()\n",
    "    counts = df[list(df.columns.values.tolist())[i]].value_counts().tolist()\n",
    "    if a_dict.get(valcounts[i], 42) == 42: continue\n",
    "    for j in range(len(answers)):\n",
    "        if answers[j] == a_dict[valcounts[i]]:\n",
    "            correct = counts[j]\n",
    "        else:\n",
    "            incorrect += counts[j]\n",
    "    analysis[valcounts[i]] = (correct, incorrect)"
   ],
   "metadata": {
    "collapsed": false,
    "pycharm": {
     "name": "#%%\n"
    }
   }
  },
  {
   "cell_type": "code",
   "execution_count": 137,
   "outputs": [
    {
     "name": "stdout",
     "output_type": "stream",
     "text": [
      "Section 1: \n",
      "\n"
     ]
    }
   ],
   "source": [
    "print(\"Section 1: \\n\")\n",
    "for val in analysis:\n",
    "    if \"user/device physical location to area greater\" in val:\n",
    "        print(\"Section 2: \\n\")\n",
    "    (correct, incorrect) = analysis[val]\n",
    "    print(val + \": \")\n",
    "    print(\"Correct= \" + str(correct) + \", Incorrect= \" + str(incorrect))\n",
    "    print(\"Rate= \" + str((correct/(correct+incorrect))))\n",
    "    print(\"\\n\")"
   ],
   "metadata": {
    "collapsed": false,
    "pycharm": {
     "name": "#%%\n"
    }
   }
  },
  {
   "cell_type": "code",
   "execution_count": 138,
   "outputs": [],
   "source": [
    "df = pd.read_csv('responses.csv')\n",
    "\n",
    "descriptionsDict = dict()\n",
    "start = df.columns.get_loc(\"Q109\")\n",
    "end = df.columns.get_loc(\"Q101\")\n",
    "for i in range(start, end + 1, 1):\n",
    "    key = df.columns[i]\n",
    "    descriptionsDict[key] = df.iat[0, i]"
   ],
   "metadata": {
    "collapsed": false,
    "pycharm": {
     "name": "#%%\n"
    }
   }
  },
  {
   "cell_type": "code",
   "execution_count": 139,
   "outputs": [],
   "source": [
    "# only keep responses that can pass the attention check\n",
    "df = df[df[\"Q135\"] == \"Neither\"]\n",
    "df = df[df[\"Q137\"] == \"Health and Fitness\"]"
   ],
   "metadata": {
    "collapsed": false,
    "pycharm": {
     "name": "#%%\n"
    }
   }
  },
  {
   "cell_type": "code",
   "execution_count": 140,
   "outputs": [
    {
     "ename": "ValueError",
     "evalue": "'Personal info' is not in list",
     "output_type": "error",
     "traceback": [
      "\u001B[0;31m---------------------------------------------------------------------------\u001B[0m",
      "\u001B[0;31mValueError\u001B[0m                                Traceback (most recent call last)",
      "\u001B[0;32m<ipython-input-140-07ea95a3b071>\u001B[0m in \u001B[0;36m<module>\u001B[0;34m\u001B[0m\n\u001B[1;32m     33\u001B[0m             \u001B[0;32melse\u001B[0m\u001B[0;34m:\u001B[0m\u001B[0;34m\u001B[0m\u001B[0;34m\u001B[0m\u001B[0m\n\u001B[1;32m     34\u001B[0m                 \u001B[0mindex_given\u001B[0m \u001B[0;34m=\u001B[0m \u001B[0msection2\u001B[0m\u001B[0;34m.\u001B[0m\u001B[0mindex\u001B[0m\u001B[0;34m(\u001B[0m\u001B[0manswer\u001B[0m\u001B[0;34m)\u001B[0m\u001B[0;34m\u001B[0m\u001B[0;34m\u001B[0m\u001B[0m\n\u001B[0;32m---> 35\u001B[0;31m                 \u001B[0mindex_expected\u001B[0m \u001B[0;34m=\u001B[0m \u001B[0msection2\u001B[0m\u001B[0;34m.\u001B[0m\u001B[0mindex\u001B[0m\u001B[0;34m(\u001B[0m\u001B[0ma_dict\u001B[0m\u001B[0;34m[\u001B[0m\u001B[0mdescriptionsDict\u001B[0m\u001B[0;34m[\u001B[0m\u001B[0mquestionId\u001B[0m\u001B[0;34m]\u001B[0m\u001B[0;34m]\u001B[0m\u001B[0;34m)\u001B[0m\u001B[0;34m\u001B[0m\u001B[0;34m\u001B[0m\u001B[0m\n\u001B[0m\u001B[1;32m     36\u001B[0m             \u001B[0mindexGivenDict\u001B[0m\u001B[0;34m[\u001B[0m\u001B[0mrowId\u001B[0m\u001B[0;34m]\u001B[0m \u001B[0;34m=\u001B[0m \u001B[0mindex_given\u001B[0m\u001B[0;34m\u001B[0m\u001B[0;34m\u001B[0m\u001B[0m\n\u001B[1;32m     37\u001B[0m             \u001B[0mindexExpectedDict\u001B[0m\u001B[0;34m[\u001B[0m\u001B[0mrowId\u001B[0m\u001B[0;34m]\u001B[0m \u001B[0;34m=\u001B[0m \u001B[0mindex_expected\u001B[0m\u001B[0;34m\u001B[0m\u001B[0;34m\u001B[0m\u001B[0m\n",
      "\u001B[0;31mValueError\u001B[0m: 'Personal info' is not in list"
     ]
    }
   ],
   "source": [
    "typeDict = dict()\n",
    "datatypeQIds = {\"Q109\", \"Q108\", \"Q128\", \"Q16\", \"Q17\", \"Q129\", \"Q19\", \"Q26\", \"Q20\", \"Q122\", \"Q22\", \"Q21\", \"Q23\", \"Q132\", \"Q133\", \"Q24\", \"Q123\", \"Q125\", \"Q25\", \"Q127\", \"Q27\", \"Q130\"}\n",
    "section1 = ['Data Collection', 'Data Sharing', 'Both', 'Neither']\n",
    "section2 = ['Location', 'Personal Information', 'Financial Information', 'Health and Fitness', 'Messages', 'Photos or Videos', 'Audio Files', 'Files and docs', 'Calendar', 'Contacts', 'App Activity', 'Web Browsing', 'App Information and Performance', 'Device or Other Identifiers', 'None of the Above']\n",
    "for i in range(start, end + 1, 1):\n",
    "    key = df.columns[i]\n",
    "    if key in datatypeQIds:\n",
    "        entry = 1\n",
    "    else:\n",
    "        entry = 2\n",
    "    typeDict[key] = entry\n",
    "answerDict = defaultdict(str)\n",
    "correctAnswerDict = defaultdict(str)\n",
    "indexGivenDict = defaultdict(str)\n",
    "indexExpectedDict = defaultdict(str)\n",
    "for i in range(start, end+1, 1):\n",
    "    for j in range(0, len(df.iloc[:, 0]), 1):\n",
    "        participantId = df.iat[j, df.columns.get_loc(\"Q162\")]\n",
    "        questionId = df.columns[i]\n",
    "        rowId = (participantId, questionId)\n",
    "        answer = df.iat[j, i]\n",
    "        if isinstance(answer, str):\n",
    "            answer = answer.strip()\n",
    "        if \"(Optional)\" in descriptionsDict[questionId]: continue\n",
    "        else:\n",
    "            if answer not in section1 and answer not in section2:\n",
    "                continue\n",
    "            answerDict[rowId] = answer\n",
    "            correctAnswerDict[rowId] = a_dict[descriptionsDict[questionId]]\n",
    "            if typeDict[questionId] == 1:\n",
    "                index_given = section1.index(answer)\n",
    "                index_expected = section1.index(a_dict[descriptionsDict[questionId]])\n",
    "            else:\n",
    "                index_given = section2.index(answer)\n",
    "                index_expected = section2.index(a_dict[descriptionsDict[questionId]])\n",
    "            indexGivenDict[rowId] = index_given\n",
    "            indexExpectedDict[rowId] = index_expected\n",
    "conditionDict = dict()\n",
    "for j in range(0, len(df.iloc[:, 0]), 1):\n",
    "    conditionDict[df.iat[j, df.columns.get_loc(\"Q162\")]] = df.iat[j, -1]"
   ],
   "metadata": {
    "collapsed": false,
    "pycharm": {
     "name": "#%%\n"
    }
   }
  },
  {
   "cell_type": "code",
   "execution_count": null,
   "outputs": [],
   "source": [
    "rowIds = []\n",
    "for i in range(0, len(df.iloc[:, 0]), 1):\n",
    "    participantId = df.iat[i, df.columns.get_loc(\"Q162\")]\n",
    "    for j in range(start, df.columns.get_loc(\"Q101\")+ 1):\n",
    "        questionId = df.columns[j]\n",
    "        if \"(Optional)\" in descriptionsDict[questionId]: continue\n",
    "        else: rowIds.append((participantId, questionId))\n",
    "rowIds = sorted(rowIds)"
   ],
   "metadata": {
    "collapsed": false,
    "pycharm": {
     "name": "#%%\n"
    }
   }
  },
  {
   "cell_type": "code",
   "execution_count": null,
   "outputs": [],
   "source": [
    "results = pd.DataFrame()\n",
    "participantIds = [p for p, q in rowIds]\n",
    "questionIds = [q for p, q in rowIds]\n",
    "descriptions = [descriptionsDict[q] for q in questionIds]\n",
    "types = [typeDict[q] for q in questionIds]\n",
    "answers = [answerDict[(p, q)] for p, q in zip(participantIds, questionIds)]\n",
    "correctAnswers = [correctAnswerDict[(p, q)] for p, q in zip(participantIds, questionIds)]\n",
    "conditions = [conditionDict[p] for p in participantIds]\n",
    "givenIndices = [indexGivenDict[(p, q)] for p, q in zip(participantIds, questionIds)]\n",
    "expectedIndices = [indexExpectedDict[(p, q)] for p, q in zip(participantIds, questionIds)]\n",
    "\n",
    "results['Question ID'] = questionIds\n",
    "results['Participant ID'] = participantIds\n",
    "results['Description'] = descriptions\n",
    "results['Answer'] = answers\n",
    "results['Correct Answer'] = correctAnswers\n",
    "results['Question Type'] = types\n",
    "results['Prompt Condition'] = conditions\n",
    "results['Answer Index'] = givenIndices\n",
    "results['Correct Answer Index'] = expectedIndices\n",
    "\n",
    "# filter out rows with empty answers (i.e., not selected in the study)\n",
    "results = results[results[\"Answer\"] != \"\"]\n",
    "\n",
    "results['Correctness'] = (results['Answer'] == results['Correct Answer']).apply(lambda v: 1 if v else 0)\n",
    "results['Order Difference'] =\\\n",
    "    (results['Answer Index'] - results['Correct Answer Index']).apply(lambda v: 0 if v == 0 else 1 if v > 0 else -1)\n",
    "\n",
    "print(results)"
   ],
   "metadata": {
    "collapsed": false,
    "pycharm": {
     "name": "#%%\n"
    }
   }
  },
  {
   "cell_type": "code",
   "execution_count": null,
   "outputs": [],
   "source": [
    "results.to_csv(\"output.csv\")"
   ],
   "metadata": {
    "collapsed": false,
    "pycharm": {
     "name": "#%%\n"
    }
   }
  },
  {
   "cell_type": "code",
   "execution_count": null,
   "outputs": [],
   "source": [],
   "metadata": {
    "collapsed": false,
    "pycharm": {
     "name": "#%%\n"
    }
   }
  }
 ],
 "metadata": {
  "kernelspec": {
   "display_name": "Python 3",
   "language": "python",
   "name": "python3"
  },
  "language_info": {
   "codemirror_mode": {
    "name": "ipython",
    "version": 2
   },
   "file_extension": ".py",
   "mimetype": "text/x-python",
   "name": "python",
   "nbconvert_exporter": "python",
   "pygments_lexer": "ipython2",
   "version": "2.7.6"
  }
 },
 "nbformat": 4,
 "nbformat_minor": 0
}