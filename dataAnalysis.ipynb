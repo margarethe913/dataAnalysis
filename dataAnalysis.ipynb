{
 "cells": [
  {
   "cell_type": "code",
   "execution_count": 1,
   "outputs": [],
   "source": [
    "from collections import defaultdict\n",
    "\n",
    "import numpy as np\n",
    "import pandas as pd"
   ],
   "metadata": {
    "collapsed": false,
    "pycharm": {
     "name": "#%%\n"
    }
   }
  },
  {
   "cell_type": "code",
   "execution_count": 2,
   "outputs": [],
   "source": [
    "#get answers from csv\n",
    "a_dict = dict()\n",
    "answers = pd.read_csv('answers.csv')\n",
    "questions = answers.loc[:,\"Example Scenario in Survey\"]\n",
    "correct = answers.loc[:,\"Correct Answer\"]\n",
    "for i in range(0, len(questions)):\n",
    "    cq = str(questions[i]).strip()\n",
    "    ca = str(correct[i]).strip()\n",
    "    a_dict[cq] = str(ca)"
   ],
   "metadata": {
    "collapsed": false,
    "pycharm": {
     "name": "#%%\n"
    }
   }
  },
  {
   "cell_type": "code",
   "execution_count": 3,
   "outputs": [],
   "source": [
    "#dataframe raw responses\n",
    "df = pd.read_csv('responses.csv')\n",
    "#optional questions should not be collected\n",
    "ignore = {\"Q200\", \"Q629\", \"Q1051\", \"Q227\", \"Q1052\", \"Q254.1\", \"Q549\", \"Q1053\", \"Q401.1\",  \"Q202\", \"Q229\"}\n",
    "#drop QID row\n",
    "df = df.drop(labels=1, axis=0)\n",
    "\n",
    "#match question ids to question text\n",
    "descriptionsDict = dict()\n",
    "start = df.columns.get_loc(\"Q176\")\n",
    "end = df.columns.get_loc(\"QID1054\")\n",
    "for i in range(start, end + 1, 1):\n",
    "    key = df.columns[i]\n",
    "    if key not in ignore:\n",
    "        descriptionsDict[key] = df.iat[0, i]"
   ],
   "metadata": {
    "collapsed": false,
    "pycharm": {
     "name": "#%%\n"
    }
   }
  },
  {
   "cell_type": "code",
   "execution_count": 4,
   "outputs": [
    {
     "name": "stdout",
     "output_type": "stream",
     "text": [
      "{'nither', 'Too much scrolling past all the same options for every question. It would be better if the options are listed with radio buttons in a fixed area with a smaller lower area containing the questions. After selecting the answer and clicking forward button then the buttons are cleared and the next question appears. The user should be able to press a back arrow button in case they want to change a previous answer. Then a submit button at the end to send all the answers.', 'the questions were easy to understand', \"Questions regarding login using email address I felt could be considered as App Functionality or Fraud Prevention or Account Management. So that wasn't entirely clear as it depends how you interpret the need.\", 'When sending data to a third party server, I have assumed that my app would and could also collect this.', 'I did get a bit confused between some of the ones for app functionality and personalization. But overall I found it pretty clear and straightforward', 'The last 2 questions might raise doubts (Advertising or marketing/Personalization)', 'I think that the line bewtween Advertising and Personalization is small and can develope some misconceptions depending on how the question is made. ', 'The inclusion of questions with 3km or less, made me think and do a bit of reading, thanks it will help me in the near future.', 'Those related to the webview were a bit confusing', 'Would be nice to include (International Mobile Equipment Identity) next to IMEI', \"When asked about a user's credit score, I was stuck between personal and financial information. I ended up selecting financial since that seemed closest to the data type.\", 'This was quite tricky as the definitions of collected and shared are so similar.', 'About half of them could be multiple categories depending on what they actually do with the information', 'I thought a few a couple of the scenarios may be recorded for more than once purpose and so I deliberated on a few and finally chose the option I believed was most applicable.', 'I am a little unsure if Google’s servers are classed as as external due to Google creating the APIs and them being part of the standard SDK. I presumed on a case by case basis.', 'Yes', 'Maybe define what a MAC address is', 'More difficult than the last page but I think it was still pretty clear'}\n"
     ]
    }
   ],
   "source": [
    "optional = set()\n",
    "for question in ignore:\n",
    "    for j in range(1, len(df.iloc[:, 0])):\n",
    "        col = df.columns.get_loc(question)\n",
    "        response = df.iat[j, col]\n",
    "        if(str(response) != \"nan\") and (\"no\" not in str(response).lower()):\n",
    "            optional.add(response)\n",
    "print(optional)\n",
    "\n",
    "\n"
   ],
   "metadata": {
    "collapsed": false,
    "pycharm": {
     "name": "#%%\n"
    }
   }
  },
  {
   "cell_type": "code",
   "execution_count": 5,
   "outputs": [],
   "source": [
    "#categorize questions by type\n",
    "section1 = set()\n",
    "section2 = set()\n",
    "section3 = set()\n",
    "attentionChecks = set()\n",
    "for question in descriptionsDict:\n",
    "    if 'attention check. Please go ahead and select the option that begins with \"N\".' in descriptionsDict[question]:\n",
    "        section1.add(question)\n",
    "        attentionChecks.add(question)\n",
    "    if 'attention check. Please go ahead and select the option that begins with \"H\".' in descriptionsDict[question]:\n",
    "        section2.add(question)\n",
    "        attentionChecks.add(question)\n",
    "    if 'attention check. Please go ahead and select the option that begins with \"P\".' in descriptionsDict[question]:\n",
    "        section3.add(question)\n",
    "        attentionChecks.add(question)\n",
    "    if \"collection and sharing\" in descriptionsDict[question]:\n",
    "        section1.add(question)\n",
    "    if \"user data type\" in descriptionsDict[question]:\n",
    "        section2.add(question)\n",
    "    if \"Why\" in descriptionsDict[question]:\n",
    "        section3.add(question)\n",
    "typeDict = dict()\n",
    "count = 0\n",
    "start = df.columns.get_loc(\"Q176\")\n",
    "end = df.columns.get_loc(\"QID1054\")\n",
    "for i in range(start, end + 1, 1):\n",
    "    key = df.columns[i]\n",
    "    if key in ignore:\n",
    "        continue\n",
    "    if key in section1:\n",
    "        entry = 1\n",
    "    elif key in section2:\n",
    "        entry = 2\n",
    "    elif key in section3:\n",
    "        entry = 3\n",
    "    typeDict[key] = entry"
   ],
   "metadata": {
    "collapsed": false,
    "pycharm": {
     "name": "#%%\n"
    }
   }
  },
  {
   "cell_type": "code",
   "execution_count": 6,
   "outputs": [],
   "source": [
    "#categorize questions by case\n",
    "categoryDict = dict()\n",
    "for question in typeDict:\n",
    "    if typeDict[question] == 1:\n",
    "        if \"Our app accesses GPS location and sends it to our server.\" in descriptionsDict[question]:\n",
    "             categoryDict[question] = \"collect basic\"\n",
    "        elif \"Our app accesses GPS location and sends it to a third party server.\" in descriptionsDict[question]:\n",
    "            categoryDict[question] = \"share basic\"\n",
    "        elif \"users to navigate the open web via a webview. When the user opens google.com, it accesses the user's GPS location and sends the GPS location to Google's server\" in descriptionsDict[question] or \"Our app accesses and processes the user's GPS location directly on the user’s device. The data never leaves the device\" in descriptionsDict[question] or \"Our app encrypts the user’s message before it is sent to another user, where it is decrypted\" in descriptionsDict[question]:\n",
    "            categoryDict[question] = \"collect exempt\"\n",
    "        elif \"Our app allows users to navigate the open web via a webview. When the user opens google.com, it accesses the user's GPS location and sends the GPS location to a third party server\" in descriptionsDict[question] or \"Our app accesses GPS location and sends it off the device to Google Maps to get real-time traffic updates\" in descriptionsDict[question] or \"Our app accesses GPS location and stores it on Google's server using Google Cloud Storage\" in descriptionsDict[question] or \"Our app accesses the user’s GPS location and sends it to government agencies in response to a legal request\" in descriptionsDict[question] or \"Our app's user explicitly initiates an action that sends their full name to a third party server\" in descriptionsDict[question] or \"Our app sends the user's full name to a third party server after obtaining the user's consent to it\" in descriptionsDict[question] or \"Our app sends the user's medical records that have been fully anonymized to a third party server.\" in descriptionsDict[question]:\n",
    "            categoryDict[question] = \"share exempt\"\n",
    "        elif \"Our app accesses GPS location and sends it to our server via libraries and/or SDKs included in our app\" in descriptionsDict[question] or \"website then accesses the user's GPS location through the webview, and sends it to our server\" in descriptionsDict[question] or \"Our app sends the user's GPS location to our server to search for nearby places but does not store the GPS location after serving the request\" in descriptionsDict[question] or \"Our app requests for the user's full name and only sends the pseudonymized name to our server\" in descriptionsDict[question] or \"Our app encrypts the user’s bank account information and sends it to our server\" in descriptionsDict[question] or \"Our app asks for a user's birthday for marketing communication, but that info is not required\" in descriptionsDict[question]:\n",
    "            categoryDict[question] = \"collect special\"\n",
    "        else:\n",
    "            categoryDict[question] = \"share special\"\n",
    "    else:\n",
    "        categoryDict[question] = \"basic\""
   ],
   "metadata": {
    "collapsed": false,
    "pycharm": {
     "name": "#%%\n"
    }
   }
  },
  {
   "cell_type": "code",
   "execution_count": 7,
   "outputs": [],
   "source": [
    "#get correct answers for each question (based on ID)\n",
    "correctAnswerDict = dict()\n",
    "#question names\n",
    "nameDict = dict()\n",
    "for question in descriptionsDict:\n",
    "    search_key = descriptionsDict[question]\n",
    "    if \"Data usage scenario:\" in search_key:\n",
    "        search_key = search_key.replace(\"Data usage scenario:\", \"\")\n",
    "    if \"Our app collects:\" in search_key:\n",
    "        search_key = search_key.replace(\"Our app collects:\", \"\")\n",
    "    if \"Select\" in search_key:\n",
    "        end = search_key.index(\"Select\")\n",
    "        search_key = search_key[1:end-1].strip()\n",
    "    elif \"Why\" in search_key:\n",
    "        end = search_key.index(\"Why\")\n",
    "        search_key = search_key[1:end-1].strip()\n",
    "    elif \"Is\" in search_key:\n",
    "        end = search_key.index(\"Is\")\n",
    "        search_key = search_key[1:end-1].strip()\n",
    "    else:\n",
    "        end = len(search_key)\n",
    "        search_key = search_key[1:end-1].strip()\n",
    "    if search_key[-1] == \".\":\n",
    "        search_key = search_key[:-1]\n",
    "    if search_key in a_dict:\n",
    "        correctAnswerDict[question] = a_dict[search_key]\n",
    "        nameDict[question] = search_key.replace(\"\\n\", \"\")\n",
    "    else:\n",
    "        for key in a_dict:\n",
    "            if search_key in key:\n",
    "                    correctAnswerDict[question] = a_dict[key]\n",
    "                    break\n",
    "        nameDict[question] = key.replace(\"\\n\", \"\")\n",
    "    if \"Please\" in nameDict[question]:\n",
    "        nameDict[question] = nameDict[question].replace(\"Please\" , \" Please\").strip()"
   ],
   "metadata": {
    "collapsed": false,
    "pycharm": {
     "name": "#%%\n"
    }
   }
  },
  {
   "cell_type": "code",
   "execution_count": 8,
   "outputs": [
    {
     "name": "stdout",
     "output_type": "stream",
     "text": [
      "59ea4e1116ecc200016ff81e\n",
      "Shared\n",
      "Q176\n",
      "57309f6b30a556000fecdd47\n",
      "None of the Above\n",
      "Q554\n",
      "6113a86e9e254bad97528743\n",
      "App functionality\n",
      "Q944\n",
      "606540bd35c28c87db3e2ef9\n",
      "0\n"
     ]
    }
   ],
   "source": [
    "#potential answers, for indexing\n",
    "collection = ['Collected', 'Shared', 'Both', 'Neither']\n",
    "types = ['Location', 'Personal Information', 'Financial Information', 'Health and Fitness', 'Messages', 'Photos or Videos', 'Audio Files', 'Files and docs', 'Calendar', 'Contacts', 'App Activity', 'Web Browsing', 'App Information and Performance', 'Device or Other Identifiers', 'None of the Above']\n",
    "purpose = ['App functionality', 'Analytics', 'Developer communications', 'Advertising or marketing', 'Fraud prevention, security, and compliance', 'Personalization', 'Account management', 'None of the Above']\n",
    "ignore = {\"Q200\", \"Q629\", \"Q1051\", \"Q227\", \"Q1052\", \"Q254.1\", \"Q549\", \"Q1053\", \"Q401.1\",  \"Q202\", \"Q229\"}\n",
    "\n",
    "#calculating index of correct answer\n",
    "answerDict = defaultdict(str)\n",
    "indexGivenDict = defaultdict(str)\n",
    "indexExpectedDict = defaultdict(str)\n",
    "rowIds = []\n",
    "start = df.columns.get_loc(\"Q176\")\n",
    "end = df.columns.get_loc(\"QID1054\")\n",
    "question1Count = dict()\n",
    "question2Count = dict()\n",
    "question3Count = dict()\n",
    "#participants who did not pass the attention check\n",
    "remove = set()\n",
    "count = 0\n",
    "start = df.columns.get_loc(\"Q176\")\n",
    "end = df.columns.get_loc(\"QID1054\")\n",
    "for i in range(start, end+1, 1):\n",
    "    for j in range(1, len(df.iloc[:, 0])):\n",
    "        participantId = df.iat[j, df.columns.get_loc(\"Q162\")]\n",
    "        questionId = df.columns[i]\n",
    "        if questionId in ignore:\n",
    "            continue\n",
    "        rowId = (participantId, questionId)\n",
    "        if questionId not in attentionChecks:\n",
    "            rowIds.append(rowId)\n",
    "        answer = str(df.iat[j, i])\n",
    "        if answer == \"nan\":\n",
    "            answerDict[rowId] = \"\"\n",
    "            continue\n",
    "        answer = str(answer).strip()\n",
    "        if answer in collection or answer in types or answer in purpose:\n",
    "            answer = answer\n",
    "        else:\n",
    "            if typeDict[questionId] == 1:\n",
    "                for word in collection:\n",
    "                    if answer[0:6] in word:\n",
    "                        answer = word\n",
    "            elif typeDict[questionId] == 2:\n",
    "                for word in types:\n",
    "                    if answer[0:9] in word:\n",
    "                        answer = word\n",
    "            elif typeDict[questionId] == 3:\n",
    "                for word in purpose:\n",
    "                    if answer[0:9] in word:\n",
    "                        answer = word\n",
    "        if answer not in collection and answer not in types and answer not in purpose:\n",
    "            continue\n",
    "        answerDict[rowId] = str(answer)\n",
    "        #remove questions that don't pass the attentionChecks\n",
    "        if questionId in attentionChecks:\n",
    "            if answer != correctAnswerDict[questionId]:\n",
    "                remove.add(participantId)\n",
    "                print(participantId)\n",
    "                print(answer)\n",
    "                print(questionId)\n",
    "            if typeDict[questionId] == 1:\n",
    "                question1Count[participantId] = question1Count.get(participantId, 0) + 1\n",
    "            elif typeDict[questionId] == 2:\n",
    "                question2Count[participantId] = question2Count.get(participantId, 0) + 1\n",
    "            else:\n",
    "                question3Count[participantId] = question3Count.get(participantId, 0) + 1\n",
    "            continue\n",
    "        #look at difference between expected index and given index\n",
    "        if typeDict[questionId] == 1:\n",
    "            index_given = collection.index(answer)\n",
    "            index_expected = collection.index(correctAnswerDict[questionId])\n",
    "            question1Count[participantId] = question1Count.get(participantId, 0) + 1\n",
    "        elif typeDict[questionId] == 2:\n",
    "            index_given = types.index(answer)\n",
    "            index_expected = types.index(correctAnswerDict[questionId])\n",
    "            question2Count[participantId] = question2Count.get(participantId, 0) + 1\n",
    "        else:\n",
    "            index_given = purpose.index(answer)\n",
    "            index_expected = purpose.index(correctAnswerDict[questionId])\n",
    "            question3Count[participantId] = question3Count.get(participantId, 0) + 1\n",
    "        indexGivenDict[rowId] = index_given\n",
    "        indexExpectedDict[rowId] = index_expected\n",
    "#make sure user answered required amount of questions\n",
    "for participant in question1Count:\n",
    "    if question1Count[participant] < 11:\n",
    "        print(participant)\n",
    "        print(question1Count[participant])\n",
    "        remove.add(participant)\n",
    "    if participant not in question2Count or question2Count[participant] != 16:\n",
    "        print(participant)\n",
    "        print(0 if participant not in question2Count else question2Count[participant])\n",
    "        remove.add(participant)\n",
    "        continue\n",
    "    if participant not in question3Count or question3Count[participant] != 16:\n",
    "        print(participant)\n",
    "        print(0 if participant not in question3Count else question3Count[participant])\n",
    "        remove.add(participant)"
   ],
   "metadata": {
    "collapsed": false,
    "pycharm": {
     "name": "#%%\n"
    }
   }
  },
  {
   "cell_type": "code",
   "execution_count": 9,
   "outputs": [
    {
     "name": "stdout",
     "output_type": "stream",
     "text": [
      "Yes\n",
      "5\n",
      "56435b83942576000a66eb5d\n",
      "Yes\n",
      "5\n",
      "612520bd6605794b27e6a0fd\n",
      "Yes\n",
      "5\n",
      "5ad0f1934d061300011b0a4d\n",
      "Yes\n",
      "5\n",
      "602454a47d0d7d121a1e444b\n",
      "Yes\n",
      "5\n",
      "5e6c0b0fede0271d08d1a3cd\n",
      "Yes\n",
      "5\n",
      "5fa23c9b64b18a4067cc842e\n",
      "Yes\n",
      "5\n",
      "6025ba2ad22ee81ad428c38c\n",
      "Yes\n",
      "5\n",
      "610ce0a48fc7e68abc4070c1\n",
      "Yes\n",
      "nan\n",
      "61015f63f9a351d3171a0f98\n",
      "Yes\n",
      "nan\n",
      "607dc10ae5bc5c8b32b18e9a\n"
     ]
    }
   ],
   "source": [
    "#make sure user answered all eligibility questions\n",
    "for j in range(1, len(df.iloc[:, 0])):\n",
    "    participantId = df.iat[j, df.columns.get_loc(\"Q162\")]\n",
    "    ageQuestion = df.columns.get_loc(\"Q4\")\n",
    "    expQuestion = df.columns.get_loc(\"Q102\")\n",
    "    if str(df.iat[j, ageQuestion]) != \"Yes\" or str(df.iat[j, expQuestion]) != \"Yes\":\n",
    "        print(str(df.iat[j, ageQuestion]))\n",
    "        print(str(df.iat[j, expQuestion]))\n",
    "        remove.add(participantId)\n",
    "        print(participantId)"
   ],
   "metadata": {
    "collapsed": false,
    "pycharm": {
     "name": "#%%\n"
    }
   }
  },
  {
   "cell_type": "code",
   "execution_count": 10,
   "outputs": [
    {
     "name": "stdout",
     "output_type": "stream",
     "text": [
      "{'2': 47, '3': 47, '1': 49}\n",
      "2\n",
      "3\n",
      "2\n",
      "3\n",
      "2\n",
      "1\n",
      "2\n",
      "3\n",
      "3\n",
      "3\n",
      "2\n",
      "1\n",
      "1\n",
      "3\n",
      "{'5fa23c9b64b18a4067cc842e', '6113a86e9e254bad97528743', '606540bd35c28c87db3e2ef9', '6025ba2ad22ee81ad428c38c', '607dc10ae5bc5c8b32b18e9a', '59ea4e1116ecc200016ff81e', '612520bd6605794b27e6a0fd', '5e6c0b0fede0271d08d1a3cd', '61015f63f9a351d3171a0f98', '5ad0f1934d061300011b0a4d', '56435b83942576000a66eb5d', '602454a47d0d7d121a1e444b', '57309f6b30a556000fecdd47', '610ce0a48fc7e68abc4070c1'}\n"
     ]
    }
   ],
   "source": [
    "#get condition\n",
    "conditionDict = dict()\n",
    "for j in range(0, len(df.iloc[:, 0]), 1):\n",
    "    conditionDict[df.iat[j, df.columns.get_loc(\"Q162\")]] = df.iat[j, -1]\n",
    "conditionDict.pop('What is your Prolific ID?')\n",
    "\n",
    "balanced = dict()\n",
    "for person in conditionDict:\n",
    "    balanced[conditionDict[person]] = balanced.get(conditionDict[person], 0) + 1\n",
    "print(balanced)\n",
    "\n",
    "for participant in remove:\n",
    "    print(conditionDict[participant])\n",
    "print(remove)"
   ],
   "metadata": {
    "collapsed": false,
    "pycharm": {
     "name": "#%%\n"
    }
   }
  },
  {
   "cell_type": "code",
   "execution_count": 11,
   "outputs": [],
   "source": [
    "#generating dataframe columns\n",
    "results = pd.DataFrame()\n",
    "participantIds = [p for p, q in rowIds]\n",
    "questionIds = [q for p, q in rowIds]\n",
    "descriptions = [descriptionsDict[q] for q in questionIds]\n",
    "types = [typeDict[q] for q in questionIds]\n",
    "categories = [categoryDict[q] for q in questionIds]\n",
    "answers = [answerDict[(p, q)] for p, q in zip(participantIds, questionIds)]\n",
    "correctAnswers = [correctAnswerDict[q] for q in questionIds]\n",
    "conditions = [conditionDict[p] for p in participantIds]\n",
    "givenIndices = [indexGivenDict[(p, q)] for p, q in zip(participantIds, questionIds)]\n",
    "expectedIndices = [indexExpectedDict[(p, q)] for p, q in zip(participantIds, questionIds)]\n",
    "names = [nameDict[q] for q in questionIds]\n",
    "results['Question ID'] = questionIds\n",
    "results['Participant ID'] = participantIds\n",
    "results['Description'] = descriptions\n",
    "results['Answer'] = answers\n",
    "results['Correct Answer'] = correctAnswers\n",
    "results['Question Type'] = types\n",
    "results[\"Question Category\"] = categories\n",
    "results['Question Name'] = names\n",
    "results['Prompt Condition'] = conditions\n",
    "results['Answer Index'] = givenIndices\n",
    "results['Correct Answer Index'] = expectedIndices\n",
    "# filter out rows with empty answers (i.e., not selected in the study)\n",
    "results = results[results[\"Answer\"] != \"\"]\n",
    "#remove rows that don't pass the attentionChecks\n",
    "results = results[~results[\"Participant ID\"].isin(remove)]\n",
    "results['Correctness'] = (results['Answer'] == results['Correct Answer']).apply(lambda v: 1 if v else 0)\n",
    "\n",
    "results['Order Difference'] =\\\n",
    "    (results['Answer Index'] - results['Correct Answer Index']).apply(lambda v: 0 if v == 0 else 1 if v > 0 else -1)"
   ],
   "metadata": {
    "collapsed": false,
    "pycharm": {
     "name": "#%%\n"
    }
   }
  },
  {
   "cell_type": "code",
   "execution_count": 12,
   "outputs": [],
   "source": [
    "#export to csv\n",
    "results.to_csv(\"output.csv\")"
   ],
   "metadata": {
    "collapsed": false,
    "pycharm": {
     "name": "#%%\n"
    }
   }
  },
  {
   "cell_type": "code",
   "execution_count": 13,
   "outputs": [
    {
     "name": "stdout",
     "output_type": "stream",
     "text": [
      "1    1866\n",
      "3    1622\n",
      "2    1621\n",
      "Name: Prompt Condition, dtype: int64\n"
     ]
    }
   ],
   "source": [
    "print(results[\"Prompt Condition\"].value_counts())"
   ],
   "metadata": {
    "collapsed": false,
    "pycharm": {
     "name": "#%%\n"
    }
   }
  },
  {
   "cell_type": "code",
   "execution_count": 173,
   "outputs": [],
   "source": [],
   "metadata": {
    "collapsed": false,
    "pycharm": {
     "name": "#%%\n"
    }
   }
  }
 ],
 "metadata": {
  "kernelspec": {
   "display_name": "Python 3",
   "language": "python",
   "name": "python3"
  },
  "language_info": {
   "codemirror_mode": {
    "name": "ipython",
    "version": 2
   },
   "file_extension": ".py",
   "mimetype": "text/x-python",
   "name": "python",
   "nbconvert_exporter": "python",
   "pygments_lexer": "ipython2",
   "version": "2.7.6"
  }
 },
 "nbformat": 4,
 "nbformat_minor": 0
}