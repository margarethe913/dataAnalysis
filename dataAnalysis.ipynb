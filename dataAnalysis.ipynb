{
 "cells": [
  {
   "cell_type": "code",
   "execution_count": 3,
   "outputs": [],
   "source": [
    "import pandas as pd\n",
    "df = pd.read_csv('/Users/margarethe/Downloads/Data Safety_May 19, 2022_13.05.csv')"
   ],
   "metadata": {
    "collapsed": false,
    "pycharm": {
     "name": "#%%\n"
    }
   }
  },
  {
   "cell_type": "code",
   "execution_count": 4,
   "outputs": [],
   "source": [
    "answers = pd.read_csv('/Users/margarethe/Downloads/Matcha definition-example table - Data collection.csv')"
   ],
   "metadata": {
    "collapsed": false,
    "pycharm": {
     "name": "#%%\n"
    }
   }
  },
  {
   "cell_type": "code",
   "execution_count": 5,
   "outputs": [],
   "source": [
    "a_dict = dict()\n",
    "questions = answers.loc[:,\"Example Scenario in Survey\"]\n",
    "correct = answers.loc[:,\"Correct Answer\"]\n",
    "for i in range(0, len(questions)):\n",
    "    a_dict[questions[i]] = correct[i]"
   ],
   "metadata": {
    "collapsed": false,
    "pycharm": {
     "name": "#%%\n"
    }
   }
  },
  {
   "cell_type": "code",
   "execution_count": 6,
   "outputs": [],
   "source": [
    "analysis = dict()\n",
    "valcounts = list(df.columns.values.tolist())\n",
    "for i in range(7, len(valcounts)):\n",
    "    correct = 0\n",
    "    incorrect = 0\n",
    "    answers = df[list(df.columns.values.tolist())[i]].value_counts().keys().tolist()\n",
    "    counts = df[list(df.columns.values.tolist())[i]].value_counts().tolist()\n",
    "    if a_dict.get(valcounts[i], 42) == 42: continue\n",
    "    for j in range(len(answers)):\n",
    "        if answers[j] == a_dict[valcounts[i]]:\n",
    "            correct = counts[j]\n",
    "        else:\n",
    "            incorrect += counts[j]\n",
    "    analysis[valcounts[i]] = (correct, incorrect)"
   ],
   "metadata": {
    "collapsed": false,
    "pycharm": {
     "name": "#%%\n"
    }
   }
  },
  {
   "cell_type": "code",
   "execution_count": null,
   "outputs": [],
   "source": [
    "print(\"Section 1: \\n\")\n",
    "for val in analysis:\n",
    "    if \"user/device physical location to area greater\" in val:\n",
    "        print(\"Section 2: \\n\")\n",
    "    (correct, incorrect) = analysis[val]\n",
    "    print(val + \": \")\n",
    "    print(\"Correct= \" + str(correct) + \", Incorrect= \" + str(incorrect))\n",
    "    print(\"Rate= \" + str((correct/(correct+incorrect))))\n",
    "    print(\"\\n\")"
   ],
   "metadata": {
    "collapsed": false,
    "pycharm": {
     "name": "#%%\n",
     "is_executing": true
    }
   }
  },
  {
   "cell_type": "code",
   "execution_count": 122,
   "outputs": [],
   "source": [
    "df = pd.read_csv('/Users/margarethe/Downloads/Data Safety_May 19, 2022_13.05-3.csv')\n",
    "descriptionsDict = dict()\n",
    "for i in range(2, len(df.iloc[0, :]), 1):\n",
    "    key = df.columns[i]\n",
    "    entry = df.iat[0, i]\n",
    "    descriptionsDict[key] = entry\n",
    "typeDict = dict()\n",
    "datatypes = {'Q162', 'Q135', 'Q109', 'Q108', 'Q128', 'Q16',\t'Q17', 'Q129', 'Q19', 'Q26', 'Q20', 'Q122', 'Q22', 'Q21', 'Q23', 'Q132', 'Q133', 'Q24', 'Q123', 'Q125', 'Q25', 'Q127', 'Q27', 'Q130'}\n",
    "for i in range(2, len(df.iloc[0, :]), 1):\n",
    "    key = df.columns[i]\n",
    "    if key in datatypes:\n",
    "        entry = 1\n",
    "    else:\n",
    "        entry = 2\n",
    "    typeDict[key] = entry\n"
   ],
   "metadata": {
    "collapsed": false,
    "pycharm": {
     "name": "#%%\n"
    }
   }
  },
  {
   "cell_type": "code",
   "execution_count": 121,
   "outputs": [
    {
     "name": "stdout",
     "output_type": "stream",
     "text": [
      "                Participant ID  Question Type  \\\n",
      "Q135  614dec67f6eb129c3a77defd              1   \n",
      "Q109  614dec67f6eb129c3a77defd              1   \n",
      "Q108  614dec67f6eb129c3a77defd              1   \n",
      "Q128  614dec67f6eb129c3a77defd              1   \n",
      "Q16   614dec67f6eb129c3a77defd              1   \n",
      "...                        ...            ...   \n",
      "Q97   5e52af31a0002e2c6056b13f              2   \n",
      "Q98   5e52af31a0002e2c6056b13f              2   \n",
      "Q99   5e52af31a0002e2c6056b13f              2   \n",
      "Q100  5e52af31a0002e2c6056b13f              2   \n",
      "Q101  5e52af31a0002e2c6056b13f              2   \n",
      "\n",
      "                                            Description Answer Correctness  \\\n",
      "Q135  This is an attention check. Please go ahead an...    NaN         NaN   \n",
      "Q109  Our app accesses GPS location and sends it to ...    NaN         NaN   \n",
      "Q108  Our app accesses GPS location and sends it to ...    NaN         NaN   \n",
      "Q128  We send the user's GPS location stored on our ...    NaN         NaN   \n",
      "Q16   Our app accesses GPS location and sends it to ...    NaN         NaN   \n",
      "...                                                 ...    ...         ...   \n",
      "Q97                                         IMEI number    NaN         NaN   \n",
      "Q98                                         MAC address    NaN         NaN   \n",
      "Q99                                  Widevine Device ID    NaN         NaN   \n",
      "Q100                           Firebase installation ID    NaN         NaN   \n",
      "Q101                   the app's advertising identifier    NaN         NaN   \n",
      "\n",
      "     Prompt Condition Order Difference  \n",
      "Q135              NaN              NaN  \n",
      "Q109              NaN              NaN  \n",
      "Q108              NaN              NaN  \n",
      "Q128              NaN              NaN  \n",
      "Q16               NaN              NaN  \n",
      "...               ...              ...  \n",
      "Q97               NaN              NaN  \n",
      "Q98               NaN              NaN  \n",
      "Q99               NaN              NaN  \n",
      "Q100              NaN              NaN  \n",
      "Q101              NaN              NaN  \n",
      "\n",
      "[776 rows x 7 columns]\n"
     ]
    }
   ],
   "source": [
    "columnNames = ['Answer', 'Correctness', 'Prompt Condition', 'Order Difference']\n",
    "rowNames = []\n",
    "participantId = []\n",
    "for i in range(len(df.iloc[:, 0]) - 2):\n",
    "    currList = []\n",
    "    rowNames.extend(df.iloc[0:0, 2:-1])\n",
    "    currList.extend([df.iloc[i+2, 1] for j in range(len(df.iloc[0, 2:-1]))])\n",
    "    participantId.extend(currList)\n",
    "results = pd.DataFrame(columns=columnNames, index= rowNames)\n",
    "results.insert(0, 'Participant ID', participantId)\n",
    "descriptions = list()\n",
    "for i in range(len(rowNames)):\n",
    "    descriptions.append(descriptionsDict[rowNames[i]])\n",
    "types = list()\n",
    "for i in range(len(rowNames)):\n",
    "    types.append(typeDict[rowNames[i]])\n",
    "results.insert(1, 'Description', descriptions)\n",
    "results.insert(1, 'Question Type', types)\n",
    "print(results)\n"
   ],
   "metadata": {
    "collapsed": false,
    "pycharm": {
     "name": "#%%\n"
    }
   }
  },
  {
   "cell_type": "code",
   "execution_count": 43,
   "outputs": [],
   "source": [],
   "metadata": {
    "collapsed": false,
    "pycharm": {
     "name": "#%%\n"
    }
   }
  },
  {
   "cell_type": "code",
   "execution_count": null,
   "outputs": [],
   "source": [],
   "metadata": {
    "collapsed": false,
    "pycharm": {
     "name": "#%%\n"
    }
   }
  }
 ],
 "metadata": {
  "kernelspec": {
   "display_name": "Python 3",
   "language": "python",
   "name": "python3"
  },
  "language_info": {
   "codemirror_mode": {
    "name": "ipython",
    "version": 2
   },
   "file_extension": ".py",
   "mimetype": "text/x-python",
   "name": "python",
   "nbconvert_exporter": "python",
   "pygments_lexer": "ipython2",
   "version": "2.7.6"
  }
 },
 "nbformat": 4,
 "nbformat_minor": 0
}