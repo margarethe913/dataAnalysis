{
 "cells": [
  {
   "cell_type": "code",
   "execution_count": 1,
   "outputs": [],
   "source": [
    "import pandas as pd\n",
    "df = pd.read_csv('/Users/margarethe/Downloads/Data Safety_May 23, 2022_15.15.csv')"
   ],
   "metadata": {
    "collapsed": false,
    "pycharm": {
     "name": "#%%\n"
    }
   }
  },
  {
   "cell_type": "code",
   "execution_count": 2,
   "outputs": [],
   "source": [
    "answers = pd.read_csv('/Users/margarethe/Downloads/Matcha definition-example table - Data collection.csv')"
   ],
   "metadata": {
    "collapsed": false,
    "pycharm": {
     "name": "#%%\n"
    }
   }
  },
  {
   "cell_type": "code",
   "execution_count": 3,
   "outputs": [],
   "source": [
    "a_dict = dict()\n",
    "questions = answers.loc[:,\"Example Scenario in Survey\"]\n",
    "correct = answers.loc[:,\"Correct Answer\"]\n",
    "for i in range(0, len(questions)):\n",
    "    a_dict[questions[i]] = correct[i]"
   ],
   "metadata": {
    "collapsed": false,
    "pycharm": {
     "name": "#%%\n"
    }
   }
  },
  {
   "cell_type": "code",
   "execution_count": 4,
   "outputs": [],
   "source": [
    "analysis = dict()\n",
    "valcounts = list(df.columns.values.tolist())\n",
    "for i in range(7, len(valcounts)):\n",
    "    correct = 0\n",
    "    incorrect = 0\n",
    "    answers = df[list(df.columns.values.tolist())[i]].value_counts().keys().tolist()\n",
    "    counts = df[list(df.columns.values.tolist())[i]].value_counts().tolist()\n",
    "    if a_dict.get(valcounts[i], 42) == 42: continue\n",
    "    for j in range(len(answers)):\n",
    "        if answers[j] == a_dict[valcounts[i]]:\n",
    "            correct = counts[j]\n",
    "        else:\n",
    "            incorrect += counts[j]\n",
    "    analysis[valcounts[i]] = (correct, incorrect)"
   ],
   "metadata": {
    "collapsed": false,
    "pycharm": {
     "name": "#%%\n"
    }
   }
  },
  {
   "cell_type": "code",
   "execution_count": 5,
   "outputs": [
    {
     "name": "stdout",
     "output_type": "stream",
     "text": [
      "Section 1: \n",
      "\n"
     ]
    }
   ],
   "source": [
    "print(\"Section 1: \\n\")\n",
    "for val in analysis:\n",
    "    if \"user/device physical location to area greater\" in val:\n",
    "        print(\"Section 2: \\n\")\n",
    "    (correct, incorrect) = analysis[val]\n",
    "    print(val + \": \")\n",
    "    print(\"Correct= \" + str(correct) + \", Incorrect= \" + str(incorrect))\n",
    "    print(\"Rate= \" + str((correct/(correct+incorrect))))\n",
    "    print(\"\\n\")"
   ],
   "metadata": {
    "collapsed": false,
    "pycharm": {
     "name": "#%%\n"
    }
   }
  },
  {
   "cell_type": "code",
   "execution_count": 40,
   "outputs": [],
   "source": [
    "df = pd.read_csv('/Users/margarethe/Downloads/Data Safety_May 23, 2022_15.15.csv')\n",
    "descriptionsDict = dict()\n",
    "start = df.columns.get_loc(\"Q135\")\n",
    "end = df.columns.get_loc(\"Q101\")\n",
    "for i in range(start, end + 1, 1):\n",
    "    key = df.columns[i]\n",
    "    entry = df.iat[0, i]\n",
    "    descriptionsDict[key] = entry\n",
    "typeDict = dict()\n",
    "datatypes = {'Q162', 'Q135', 'Q109', 'Q108', 'Q128', 'Q16',\t'Q17', 'Q129', 'Q19', 'Q26', 'Q20', 'Q122', 'Q22', 'Q21', 'Q23', 'Q132', 'Q133', 'Q24', 'Q123', 'Q125', 'Q25', 'Q127', 'Q27', 'Q130'}\n",
    "section1 = ['Data Collection', 'Data Sharing', 'Both', 'Neither']\n",
    "section2 = ['Location', 'Personal Information', 'Financial Information', 'Health and Fitness', 'Messages', 'Photos or Videos', 'Audio Files', 'Files and docs', 'Calendar', 'Contacts', 'App Activity', 'Web Browsing', 'App Information and Performance', 'Device or Other Identifiers', 'None of the Above']\n",
    "for i in range(start, end + 1, 1):\n",
    "    key = df.columns[i]\n",
    "    if key in datatypes:\n",
    "        entry = 1\n",
    "    else:\n",
    "        entry = 2\n",
    "    typeDict[key] = entry\n",
    "answerDict = dict()\n",
    "correct = dict()\n",
    "order = dict()\n",
    "for i in range(start, end+1, 1):\n",
    "    for j in range(3, len(df.iloc[:, 1]), 1):\n",
    "        name = df.iat[j, df.columns.get_loc(\"Q162\")]\n",
    "        question = df.columns[i]\n",
    "        answer = df.iat[j, i]\n",
    "        if \"(Optional)\" in descriptionsDict[question]: continue\n",
    "        else:\n",
    "            answerDict[(name, question)] = answer\n",
    "            if answer == a_dict[descriptionsDict[question]]:\n",
    "                correct[(name, question)] = 1\n",
    "            else:\n",
    "                correct[(name, question)] = 0\n",
    "            if answer not in section1 and answer not in section2:\n",
    "                continue\n",
    "            if typeDict[question] == 1:\n",
    "                index_given = section1.index(answer)\n",
    "                index_expected = section1.index(a_dict[descriptionsDict[question]])\n",
    "            else:\n",
    "                index_given = section2.index(answer)\n",
    "                index_expected = section2.index(a_dict[descriptionsDict[question]])\n",
    "            if index_given < index_expected :\n",
    "                order[(name, question)] = -1\n",
    "            elif index_given < index_expected :\n",
    "                order[(name, question)] = 0\n",
    "            else :\n",
    "                order[(name, question)] = 1\n",
    "condition = dict()\n",
    "for j in range(3, len(df.iloc[:, 1]), 1):\n",
    "    condition[df.iat[j, df.columns.get_loc(\"Q162\")]] = df.iat[j, -1]"
   ],
   "metadata": {
    "collapsed": false,
    "pycharm": {
     "name": "#%%\n"
    }
   }
  },
  {
   "cell_type": "code",
   "execution_count": 41,
   "outputs": [
    {
     "name": "stdout",
     "output_type": "stream",
     "text": [
      "121\n",
      "[('Q100', '5e52af31a0002e2c6056b13f'), ('Q100', '5ea043fbbfbe190687467966'), ('Q100', '5eaf3e142627076426921b1b'), ('Q100', '5fe635082fcdc9404d6fc610'), ('Q100', '602d86345f6c24812bfc3a4e'), ('Q100', '603411dbcf15a5036c87fc2b'), ('Q100', '61123bdc9bdfe87e54a459a6'), ('Q100', '6124f281ce42cb9bf7ed738f'), ('Q100', '614dec67f6eb129c3a77defd'), ('Q101', '5e52af31a0002e2c6056b13f'), ('Q101', '5ea043fbbfbe190687467966'), ('Q101', '5eaf3e142627076426921b1b'), ('Q101', '5fe635082fcdc9404d6fc610'), ('Q101', '602d86345f6c24812bfc3a4e'), ('Q101', '603411dbcf15a5036c87fc2b'), ('Q101', '61123bdc9bdfe87e54a459a6'), ('Q101', '6124f281ce42cb9bf7ed738f'), ('Q101', '614dec67f6eb129c3a77defd'), ('Q108', '5e52af31a0002e2c6056b13f'), ('Q108', '5ea043fbbfbe190687467966'), ('Q108', '5eaf3e142627076426921b1b'), ('Q108', '5fe635082fcdc9404d6fc610'), ('Q108', '602d86345f6c24812bfc3a4e'), ('Q108', '603411dbcf15a5036c87fc2b'), ('Q108', '61123bdc9bdfe87e54a459a6'), ('Q108', '6124f281ce42cb9bf7ed738f'), ('Q108', '614dec67f6eb129c3a77defd'), ('Q109', '5e52af31a0002e2c6056b13f'), ('Q109', '5ea043fbbfbe190687467966'), ('Q109', '5eaf3e142627076426921b1b'), ('Q109', '5fe635082fcdc9404d6fc610'), ('Q109', '602d86345f6c24812bfc3a4e'), ('Q109', '603411dbcf15a5036c87fc2b'), ('Q109', '61123bdc9bdfe87e54a459a6'), ('Q109', '6124f281ce42cb9bf7ed738f'), ('Q109', '614dec67f6eb129c3a77defd'), ('Q122', '5e52af31a0002e2c6056b13f'), ('Q122', '5ea043fbbfbe190687467966'), ('Q122', '5eaf3e142627076426921b1b'), ('Q122', '5fe635082fcdc9404d6fc610'), ('Q122', '602d86345f6c24812bfc3a4e'), ('Q122', '603411dbcf15a5036c87fc2b'), ('Q122', '61123bdc9bdfe87e54a459a6'), ('Q122', '6124f281ce42cb9bf7ed738f'), ('Q122', '614dec67f6eb129c3a77defd'), ('Q123', '5e52af31a0002e2c6056b13f'), ('Q123', '5ea043fbbfbe190687467966'), ('Q123', '5eaf3e142627076426921b1b'), ('Q123', '5fe635082fcdc9404d6fc610'), ('Q123', '602d86345f6c24812bfc3a4e'), ('Q123', '603411dbcf15a5036c87fc2b'), ('Q123', '61123bdc9bdfe87e54a459a6'), ('Q123', '6124f281ce42cb9bf7ed738f'), ('Q123', '614dec67f6eb129c3a77defd'), ('Q125', '5e52af31a0002e2c6056b13f'), ('Q125', '5ea043fbbfbe190687467966'), ('Q125', '5eaf3e142627076426921b1b'), ('Q125', '5fe635082fcdc9404d6fc610'), ('Q125', '602d86345f6c24812bfc3a4e'), ('Q125', '603411dbcf15a5036c87fc2b'), ('Q125', '61123bdc9bdfe87e54a459a6'), ('Q125', '6124f281ce42cb9bf7ed738f'), ('Q125', '614dec67f6eb129c3a77defd'), ('Q127', '5e52af31a0002e2c6056b13f'), ('Q127', '5ea043fbbfbe190687467966'), ('Q127', '5eaf3e142627076426921b1b'), ('Q127', '5fe635082fcdc9404d6fc610'), ('Q127', '602d86345f6c24812bfc3a4e'), ('Q127', '603411dbcf15a5036c87fc2b'), ('Q127', '61123bdc9bdfe87e54a459a6'), ('Q127', '6124f281ce42cb9bf7ed738f'), ('Q127', '614dec67f6eb129c3a77defd'), ('Q128', '5e52af31a0002e2c6056b13f'), ('Q128', '5ea043fbbfbe190687467966'), ('Q128', '5eaf3e142627076426921b1b'), ('Q128', '5fe635082fcdc9404d6fc610'), ('Q128', '602d86345f6c24812bfc3a4e'), ('Q128', '603411dbcf15a5036c87fc2b'), ('Q128', '61123bdc9bdfe87e54a459a6'), ('Q128', '6124f281ce42cb9bf7ed738f'), ('Q128', '614dec67f6eb129c3a77defd'), ('Q129', '5e52af31a0002e2c6056b13f'), ('Q129', '5ea043fbbfbe190687467966'), ('Q129', '5eaf3e142627076426921b1b'), ('Q129', '5fe635082fcdc9404d6fc610'), ('Q129', '602d86345f6c24812bfc3a4e'), ('Q129', '603411dbcf15a5036c87fc2b'), ('Q129', '61123bdc9bdfe87e54a459a6'), ('Q129', '6124f281ce42cb9bf7ed738f'), ('Q129', '614dec67f6eb129c3a77defd'), ('Q130', '5e52af31a0002e2c6056b13f'), ('Q130', '5ea043fbbfbe190687467966'), ('Q130', '5eaf3e142627076426921b1b'), ('Q130', '5fe635082fcdc9404d6fc610'), ('Q130', '602d86345f6c24812bfc3a4e'), ('Q130', '603411dbcf15a5036c87fc2b'), ('Q130', '61123bdc9bdfe87e54a459a6'), ('Q130', '6124f281ce42cb9bf7ed738f'), ('Q130', '614dec67f6eb129c3a77defd'), ('Q132', '5e52af31a0002e2c6056b13f'), ('Q132', '5ea043fbbfbe190687467966'), ('Q132', '5eaf3e142627076426921b1b'), ('Q132', '5fe635082fcdc9404d6fc610'), ('Q132', '602d86345f6c24812bfc3a4e'), ('Q132', '603411dbcf15a5036c87fc2b'), ('Q132', '61123bdc9bdfe87e54a459a6'), ('Q132', '6124f281ce42cb9bf7ed738f'), ('Q132', '614dec67f6eb129c3a77defd'), ('Q133', '5e52af31a0002e2c6056b13f'), ('Q133', '5ea043fbbfbe190687467966'), ('Q133', '5eaf3e142627076426921b1b'), ('Q133', '5fe635082fcdc9404d6fc610'), ('Q133', '602d86345f6c24812bfc3a4e'), ('Q133', '603411dbcf15a5036c87fc2b'), ('Q133', '61123bdc9bdfe87e54a459a6'), ('Q133', '6124f281ce42cb9bf7ed738f'), ('Q133', '614dec67f6eb129c3a77defd'), ('Q135', '5e52af31a0002e2c6056b13f'), ('Q135', '5ea043fbbfbe190687467966'), ('Q135', '5eaf3e142627076426921b1b'), ('Q135', '5fe635082fcdc9404d6fc610'), ('Q135', '602d86345f6c24812bfc3a4e'), ('Q135', '603411dbcf15a5036c87fc2b'), ('Q135', '61123bdc9bdfe87e54a459a6'), ('Q135', '6124f281ce42cb9bf7ed738f'), ('Q135', '614dec67f6eb129c3a77defd'), ('Q137', '5e52af31a0002e2c6056b13f'), ('Q137', '5ea043fbbfbe190687467966'), ('Q137', '5eaf3e142627076426921b1b'), ('Q137', '5fe635082fcdc9404d6fc610'), ('Q137', '602d86345f6c24812bfc3a4e'), ('Q137', '603411dbcf15a5036c87fc2b'), ('Q137', '61123bdc9bdfe87e54a459a6'), ('Q137', '6124f281ce42cb9bf7ed738f'), ('Q137', '614dec67f6eb129c3a77defd'), ('Q16', '5e52af31a0002e2c6056b13f'), ('Q16', '5ea043fbbfbe190687467966'), ('Q16', '5eaf3e142627076426921b1b'), ('Q16', '5fe635082fcdc9404d6fc610'), ('Q16', '602d86345f6c24812bfc3a4e'), ('Q16', '603411dbcf15a5036c87fc2b'), ('Q16', '61123bdc9bdfe87e54a459a6'), ('Q16', '6124f281ce42cb9bf7ed738f'), ('Q16', '614dec67f6eb129c3a77defd'), ('Q165', '5e52af31a0002e2c6056b13f'), ('Q165', '5ea043fbbfbe190687467966'), ('Q165', '5eaf3e142627076426921b1b'), ('Q165', '5fe635082fcdc9404d6fc610'), ('Q165', '602d86345f6c24812bfc3a4e'), ('Q165', '603411dbcf15a5036c87fc2b'), ('Q165', '61123bdc9bdfe87e54a459a6'), ('Q165', '6124f281ce42cb9bf7ed738f'), ('Q165', '614dec67f6eb129c3a77defd'), ('Q17', '5e52af31a0002e2c6056b13f'), ('Q17', '5ea043fbbfbe190687467966'), ('Q17', '5eaf3e142627076426921b1b'), ('Q17', '5fe635082fcdc9404d6fc610'), ('Q17', '602d86345f6c24812bfc3a4e'), ('Q17', '603411dbcf15a5036c87fc2b'), ('Q17', '61123bdc9bdfe87e54a459a6'), ('Q17', '6124f281ce42cb9bf7ed738f'), ('Q17', '614dec67f6eb129c3a77defd'), ('Q19', '5e52af31a0002e2c6056b13f'), ('Q19', '5ea043fbbfbe190687467966'), ('Q19', '5eaf3e142627076426921b1b'), ('Q19', '5fe635082fcdc9404d6fc610'), ('Q19', '602d86345f6c24812bfc3a4e'), ('Q19', '603411dbcf15a5036c87fc2b'), ('Q19', '61123bdc9bdfe87e54a459a6'), ('Q19', '6124f281ce42cb9bf7ed738f'), ('Q19', '614dec67f6eb129c3a77defd'), ('Q190', '5e52af31a0002e2c6056b13f'), ('Q190', '5ea043fbbfbe190687467966'), ('Q190', '5eaf3e142627076426921b1b'), ('Q190', '5fe635082fcdc9404d6fc610'), ('Q190', '602d86345f6c24812bfc3a4e'), ('Q190', '603411dbcf15a5036c87fc2b'), ('Q190', '61123bdc9bdfe87e54a459a6'), ('Q190', '6124f281ce42cb9bf7ed738f'), ('Q190', '614dec67f6eb129c3a77defd'), ('Q20', '5e52af31a0002e2c6056b13f'), ('Q20', '5ea043fbbfbe190687467966'), ('Q20', '5eaf3e142627076426921b1b'), ('Q20', '5fe635082fcdc9404d6fc610'), ('Q20', '602d86345f6c24812bfc3a4e'), ('Q20', '603411dbcf15a5036c87fc2b'), ('Q20', '61123bdc9bdfe87e54a459a6'), ('Q20', '6124f281ce42cb9bf7ed738f'), ('Q20', '614dec67f6eb129c3a77defd'), ('Q21', '5e52af31a0002e2c6056b13f'), ('Q21', '5ea043fbbfbe190687467966'), ('Q21', '5eaf3e142627076426921b1b'), ('Q21', '5fe635082fcdc9404d6fc610'), ('Q21', '602d86345f6c24812bfc3a4e'), ('Q21', '603411dbcf15a5036c87fc2b'), ('Q21', '61123bdc9bdfe87e54a459a6'), ('Q21', '6124f281ce42cb9bf7ed738f'), ('Q21', '614dec67f6eb129c3a77defd'), ('Q22', '5e52af31a0002e2c6056b13f'), ('Q22', '5ea043fbbfbe190687467966'), ('Q22', '5eaf3e142627076426921b1b'), ('Q22', '5fe635082fcdc9404d6fc610'), ('Q22', '602d86345f6c24812bfc3a4e'), ('Q22', '603411dbcf15a5036c87fc2b'), ('Q22', '61123bdc9bdfe87e54a459a6'), ('Q22', '6124f281ce42cb9bf7ed738f'), ('Q22', '614dec67f6eb129c3a77defd'), ('Q23', '5e52af31a0002e2c6056b13f'), ('Q23', '5ea043fbbfbe190687467966'), ('Q23', '5eaf3e142627076426921b1b'), ('Q23', '5fe635082fcdc9404d6fc610'), ('Q23', '602d86345f6c24812bfc3a4e'), ('Q23', '603411dbcf15a5036c87fc2b'), ('Q23', '61123bdc9bdfe87e54a459a6'), ('Q23', '6124f281ce42cb9bf7ed738f'), ('Q23', '614dec67f6eb129c3a77defd'), ('Q24', '5e52af31a0002e2c6056b13f'), ('Q24', '5ea043fbbfbe190687467966'), ('Q24', '5eaf3e142627076426921b1b'), ('Q24', '5fe635082fcdc9404d6fc610'), ('Q24', '602d86345f6c24812bfc3a4e'), ('Q24', '603411dbcf15a5036c87fc2b'), ('Q24', '61123bdc9bdfe87e54a459a6'), ('Q24', '6124f281ce42cb9bf7ed738f'), ('Q24', '614dec67f6eb129c3a77defd'), ('Q25', '5e52af31a0002e2c6056b13f'), ('Q25', '5ea043fbbfbe190687467966'), ('Q25', '5eaf3e142627076426921b1b'), ('Q25', '5fe635082fcdc9404d6fc610'), ('Q25', '602d86345f6c24812bfc3a4e'), ('Q25', '603411dbcf15a5036c87fc2b'), ('Q25', '61123bdc9bdfe87e54a459a6'), ('Q25', '6124f281ce42cb9bf7ed738f'), ('Q25', '614dec67f6eb129c3a77defd'), ('Q26', '5e52af31a0002e2c6056b13f'), ('Q26', '5ea043fbbfbe190687467966'), ('Q26', '5eaf3e142627076426921b1b'), ('Q26', '5fe635082fcdc9404d6fc610'), ('Q26', '602d86345f6c24812bfc3a4e'), ('Q26', '603411dbcf15a5036c87fc2b'), ('Q26', '61123bdc9bdfe87e54a459a6'), ('Q26', '6124f281ce42cb9bf7ed738f'), ('Q26', '614dec67f6eb129c3a77defd'), ('Q27', '5e52af31a0002e2c6056b13f'), ('Q27', '5ea043fbbfbe190687467966'), ('Q27', '5eaf3e142627076426921b1b'), ('Q27', '5fe635082fcdc9404d6fc610'), ('Q27', '602d86345f6c24812bfc3a4e'), ('Q27', '603411dbcf15a5036c87fc2b'), ('Q27', '61123bdc9bdfe87e54a459a6'), ('Q27', '6124f281ce42cb9bf7ed738f'), ('Q27', '614dec67f6eb129c3a77defd'), ('Q28', '5e52af31a0002e2c6056b13f'), ('Q28', '5ea043fbbfbe190687467966'), ('Q28', '5eaf3e142627076426921b1b'), ('Q28', '5fe635082fcdc9404d6fc610'), ('Q28', '602d86345f6c24812bfc3a4e'), ('Q28', '603411dbcf15a5036c87fc2b'), ('Q28', '61123bdc9bdfe87e54a459a6'), ('Q28', '6124f281ce42cb9bf7ed738f'), ('Q28', '614dec67f6eb129c3a77defd'), ('Q29', '5e52af31a0002e2c6056b13f'), ('Q29', '5ea043fbbfbe190687467966'), ('Q29', '5eaf3e142627076426921b1b'), ('Q29', '5fe635082fcdc9404d6fc610'), ('Q29', '602d86345f6c24812bfc3a4e'), ('Q29', '603411dbcf15a5036c87fc2b'), ('Q29', '61123bdc9bdfe87e54a459a6'), ('Q29', '6124f281ce42cb9bf7ed738f'), ('Q29', '614dec67f6eb129c3a77defd'), ('Q30', '5e52af31a0002e2c6056b13f'), ('Q30', '5ea043fbbfbe190687467966'), ('Q30', '5eaf3e142627076426921b1b'), ('Q30', '5fe635082fcdc9404d6fc610'), ('Q30', '602d86345f6c24812bfc3a4e'), ('Q30', '603411dbcf15a5036c87fc2b'), ('Q30', '61123bdc9bdfe87e54a459a6'), ('Q30', '6124f281ce42cb9bf7ed738f'), ('Q30', '614dec67f6eb129c3a77defd'), ('Q31', '5e52af31a0002e2c6056b13f'), ('Q31', '5ea043fbbfbe190687467966'), ('Q31', '5eaf3e142627076426921b1b'), ('Q31', '5fe635082fcdc9404d6fc610'), ('Q31', '602d86345f6c24812bfc3a4e'), ('Q31', '603411dbcf15a5036c87fc2b'), ('Q31', '61123bdc9bdfe87e54a459a6'), ('Q31', '6124f281ce42cb9bf7ed738f'), ('Q31', '614dec67f6eb129c3a77defd'), ('Q32', '5e52af31a0002e2c6056b13f'), ('Q32', '5ea043fbbfbe190687467966'), ('Q32', '5eaf3e142627076426921b1b'), ('Q32', '5fe635082fcdc9404d6fc610'), ('Q32', '602d86345f6c24812bfc3a4e'), ('Q32', '603411dbcf15a5036c87fc2b'), ('Q32', '61123bdc9bdfe87e54a459a6'), ('Q32', '6124f281ce42cb9bf7ed738f'), ('Q32', '614dec67f6eb129c3a77defd'), ('Q33', '5e52af31a0002e2c6056b13f'), ('Q33', '5ea043fbbfbe190687467966'), ('Q33', '5eaf3e142627076426921b1b'), ('Q33', '5fe635082fcdc9404d6fc610'), ('Q33', '602d86345f6c24812bfc3a4e'), ('Q33', '603411dbcf15a5036c87fc2b'), ('Q33', '61123bdc9bdfe87e54a459a6'), ('Q33', '6124f281ce42cb9bf7ed738f'), ('Q33', '614dec67f6eb129c3a77defd'), ('Q34', '5e52af31a0002e2c6056b13f'), ('Q34', '5ea043fbbfbe190687467966'), ('Q34', '5eaf3e142627076426921b1b'), ('Q34', '5fe635082fcdc9404d6fc610'), ('Q34', '602d86345f6c24812bfc3a4e'), ('Q34', '603411dbcf15a5036c87fc2b'), ('Q34', '61123bdc9bdfe87e54a459a6'), ('Q34', '6124f281ce42cb9bf7ed738f'), ('Q34', '614dec67f6eb129c3a77defd'), ('Q36', '5e52af31a0002e2c6056b13f'), ('Q36', '5ea043fbbfbe190687467966'), ('Q36', '5eaf3e142627076426921b1b'), ('Q36', '5fe635082fcdc9404d6fc610'), ('Q36', '602d86345f6c24812bfc3a4e'), ('Q36', '603411dbcf15a5036c87fc2b'), ('Q36', '61123bdc9bdfe87e54a459a6'), ('Q36', '6124f281ce42cb9bf7ed738f'), ('Q36', '614dec67f6eb129c3a77defd'), ('Q37', '5e52af31a0002e2c6056b13f'), ('Q37', '5ea043fbbfbe190687467966'), ('Q37', '5eaf3e142627076426921b1b'), ('Q37', '5fe635082fcdc9404d6fc610'), ('Q37', '602d86345f6c24812bfc3a4e'), ('Q37', '603411dbcf15a5036c87fc2b'), ('Q37', '61123bdc9bdfe87e54a459a6'), ('Q37', '6124f281ce42cb9bf7ed738f'), ('Q37', '614dec67f6eb129c3a77defd'), ('Q38', '5e52af31a0002e2c6056b13f'), ('Q38', '5ea043fbbfbe190687467966'), ('Q38', '5eaf3e142627076426921b1b'), ('Q38', '5fe635082fcdc9404d6fc610'), ('Q38', '602d86345f6c24812bfc3a4e'), ('Q38', '603411dbcf15a5036c87fc2b'), ('Q38', '61123bdc9bdfe87e54a459a6'), ('Q38', '6124f281ce42cb9bf7ed738f'), ('Q38', '614dec67f6eb129c3a77defd'), ('Q39', '5e52af31a0002e2c6056b13f'), ('Q39', '5ea043fbbfbe190687467966'), ('Q39', '5eaf3e142627076426921b1b'), ('Q39', '5fe635082fcdc9404d6fc610'), ('Q39', '602d86345f6c24812bfc3a4e'), ('Q39', '603411dbcf15a5036c87fc2b'), ('Q39', '61123bdc9bdfe87e54a459a6'), ('Q39', '6124f281ce42cb9bf7ed738f'), ('Q39', '614dec67f6eb129c3a77defd'), ('Q40', '5e52af31a0002e2c6056b13f'), ('Q40', '5ea043fbbfbe190687467966'), ('Q40', '5eaf3e142627076426921b1b'), ('Q40', '5fe635082fcdc9404d6fc610'), ('Q40', '602d86345f6c24812bfc3a4e'), ('Q40', '603411dbcf15a5036c87fc2b'), ('Q40', '61123bdc9bdfe87e54a459a6'), ('Q40', '6124f281ce42cb9bf7ed738f'), ('Q40', '614dec67f6eb129c3a77defd'), ('Q41', '5e52af31a0002e2c6056b13f'), ('Q41', '5ea043fbbfbe190687467966'), ('Q41', '5eaf3e142627076426921b1b'), ('Q41', '5fe635082fcdc9404d6fc610'), ('Q41', '602d86345f6c24812bfc3a4e'), ('Q41', '603411dbcf15a5036c87fc2b'), ('Q41', '61123bdc9bdfe87e54a459a6'), ('Q41', '6124f281ce42cb9bf7ed738f'), ('Q41', '614dec67f6eb129c3a77defd'), ('Q42', '5e52af31a0002e2c6056b13f'), ('Q42', '5ea043fbbfbe190687467966'), ('Q42', '5eaf3e142627076426921b1b'), ('Q42', '5fe635082fcdc9404d6fc610'), ('Q42', '602d86345f6c24812bfc3a4e'), ('Q42', '603411dbcf15a5036c87fc2b'), ('Q42', '61123bdc9bdfe87e54a459a6'), ('Q42', '6124f281ce42cb9bf7ed738f'), ('Q42', '614dec67f6eb129c3a77defd'), ('Q43', '5e52af31a0002e2c6056b13f'), ('Q43', '5ea043fbbfbe190687467966'), ('Q43', '5eaf3e142627076426921b1b'), ('Q43', '5fe635082fcdc9404d6fc610'), ('Q43', '602d86345f6c24812bfc3a4e'), ('Q43', '603411dbcf15a5036c87fc2b'), ('Q43', '61123bdc9bdfe87e54a459a6'), ('Q43', '6124f281ce42cb9bf7ed738f'), ('Q43', '614dec67f6eb129c3a77defd'), ('Q44', '5e52af31a0002e2c6056b13f'), ('Q44', '5ea043fbbfbe190687467966'), ('Q44', '5eaf3e142627076426921b1b'), ('Q44', '5fe635082fcdc9404d6fc610'), ('Q44', '602d86345f6c24812bfc3a4e'), ('Q44', '603411dbcf15a5036c87fc2b'), ('Q44', '61123bdc9bdfe87e54a459a6'), ('Q44', '6124f281ce42cb9bf7ed738f'), ('Q44', '614dec67f6eb129c3a77defd'), ('Q45', '5e52af31a0002e2c6056b13f'), ('Q45', '5ea043fbbfbe190687467966'), ('Q45', '5eaf3e142627076426921b1b'), ('Q45', '5fe635082fcdc9404d6fc610'), ('Q45', '602d86345f6c24812bfc3a4e'), ('Q45', '603411dbcf15a5036c87fc2b'), ('Q45', '61123bdc9bdfe87e54a459a6'), ('Q45', '6124f281ce42cb9bf7ed738f'), ('Q45', '614dec67f6eb129c3a77defd'), ('Q46', '5e52af31a0002e2c6056b13f'), ('Q46', '5ea043fbbfbe190687467966'), ('Q46', '5eaf3e142627076426921b1b'), ('Q46', '5fe635082fcdc9404d6fc610'), ('Q46', '602d86345f6c24812bfc3a4e'), ('Q46', '603411dbcf15a5036c87fc2b'), ('Q46', '61123bdc9bdfe87e54a459a6'), ('Q46', '6124f281ce42cb9bf7ed738f'), ('Q46', '614dec67f6eb129c3a77defd'), ('Q47', '5e52af31a0002e2c6056b13f'), ('Q47', '5ea043fbbfbe190687467966'), ('Q47', '5eaf3e142627076426921b1b'), ('Q47', '5fe635082fcdc9404d6fc610'), ('Q47', '602d86345f6c24812bfc3a4e'), ('Q47', '603411dbcf15a5036c87fc2b'), ('Q47', '61123bdc9bdfe87e54a459a6'), ('Q47', '6124f281ce42cb9bf7ed738f'), ('Q47', '614dec67f6eb129c3a77defd'), ('Q48', '5e52af31a0002e2c6056b13f'), ('Q48', '5ea043fbbfbe190687467966'), ('Q48', '5eaf3e142627076426921b1b'), ('Q48', '5fe635082fcdc9404d6fc610'), ('Q48', '602d86345f6c24812bfc3a4e'), ('Q48', '603411dbcf15a5036c87fc2b'), ('Q48', '61123bdc9bdfe87e54a459a6'), ('Q48', '6124f281ce42cb9bf7ed738f'), ('Q48', '614dec67f6eb129c3a77defd'), ('Q49', '5e52af31a0002e2c6056b13f'), ('Q49', '5ea043fbbfbe190687467966'), ('Q49', '5eaf3e142627076426921b1b'), ('Q49', '5fe635082fcdc9404d6fc610'), ('Q49', '602d86345f6c24812bfc3a4e'), ('Q49', '603411dbcf15a5036c87fc2b'), ('Q49', '61123bdc9bdfe87e54a459a6'), ('Q49', '6124f281ce42cb9bf7ed738f'), ('Q49', '614dec67f6eb129c3a77defd'), ('Q50', '5e52af31a0002e2c6056b13f'), ('Q50', '5ea043fbbfbe190687467966'), ('Q50', '5eaf3e142627076426921b1b'), ('Q50', '5fe635082fcdc9404d6fc610'), ('Q50', '602d86345f6c24812bfc3a4e'), ('Q50', '603411dbcf15a5036c87fc2b'), ('Q50', '61123bdc9bdfe87e54a459a6'), ('Q50', '6124f281ce42cb9bf7ed738f'), ('Q50', '614dec67f6eb129c3a77defd'), ('Q51', '5e52af31a0002e2c6056b13f'), ('Q51', '5ea043fbbfbe190687467966'), ('Q51', '5eaf3e142627076426921b1b'), ('Q51', '5fe635082fcdc9404d6fc610'), ('Q51', '602d86345f6c24812bfc3a4e'), ('Q51', '603411dbcf15a5036c87fc2b'), ('Q51', '61123bdc9bdfe87e54a459a6'), ('Q51', '6124f281ce42cb9bf7ed738f'), ('Q51', '614dec67f6eb129c3a77defd'), ('Q52', '5e52af31a0002e2c6056b13f'), ('Q52', '5ea043fbbfbe190687467966'), ('Q52', '5eaf3e142627076426921b1b'), ('Q52', '5fe635082fcdc9404d6fc610'), ('Q52', '602d86345f6c24812bfc3a4e'), ('Q52', '603411dbcf15a5036c87fc2b'), ('Q52', '61123bdc9bdfe87e54a459a6'), ('Q52', '6124f281ce42cb9bf7ed738f'), ('Q52', '614dec67f6eb129c3a77defd'), ('Q53', '5e52af31a0002e2c6056b13f'), ('Q53', '5ea043fbbfbe190687467966'), ('Q53', '5eaf3e142627076426921b1b'), ('Q53', '5fe635082fcdc9404d6fc610'), ('Q53', '602d86345f6c24812bfc3a4e'), ('Q53', '603411dbcf15a5036c87fc2b'), ('Q53', '61123bdc9bdfe87e54a459a6'), ('Q53', '6124f281ce42cb9bf7ed738f'), ('Q53', '614dec67f6eb129c3a77defd'), ('Q54', '5e52af31a0002e2c6056b13f'), ('Q54', '5ea043fbbfbe190687467966'), ('Q54', '5eaf3e142627076426921b1b'), ('Q54', '5fe635082fcdc9404d6fc610'), ('Q54', '602d86345f6c24812bfc3a4e'), ('Q54', '603411dbcf15a5036c87fc2b'), ('Q54', '61123bdc9bdfe87e54a459a6'), ('Q54', '6124f281ce42cb9bf7ed738f'), ('Q54', '614dec67f6eb129c3a77defd'), ('Q55', '5e52af31a0002e2c6056b13f'), ('Q55', '5ea043fbbfbe190687467966'), ('Q55', '5eaf3e142627076426921b1b'), ('Q55', '5fe635082fcdc9404d6fc610'), ('Q55', '602d86345f6c24812bfc3a4e'), ('Q55', '603411dbcf15a5036c87fc2b'), ('Q55', '61123bdc9bdfe87e54a459a6'), ('Q55', '6124f281ce42cb9bf7ed738f'), ('Q55', '614dec67f6eb129c3a77defd'), ('Q56', '5e52af31a0002e2c6056b13f'), ('Q56', '5ea043fbbfbe190687467966'), ('Q56', '5eaf3e142627076426921b1b'), ('Q56', '5fe635082fcdc9404d6fc610'), ('Q56', '602d86345f6c24812bfc3a4e'), ('Q56', '603411dbcf15a5036c87fc2b'), ('Q56', '61123bdc9bdfe87e54a459a6'), ('Q56', '6124f281ce42cb9bf7ed738f'), ('Q56', '614dec67f6eb129c3a77defd'), ('Q57', '5e52af31a0002e2c6056b13f'), ('Q57', '5ea043fbbfbe190687467966'), ('Q57', '5eaf3e142627076426921b1b'), ('Q57', '5fe635082fcdc9404d6fc610'), ('Q57', '602d86345f6c24812bfc3a4e'), ('Q57', '603411dbcf15a5036c87fc2b'), ('Q57', '61123bdc9bdfe87e54a459a6'), ('Q57', '6124f281ce42cb9bf7ed738f'), ('Q57', '614dec67f6eb129c3a77defd'), ('Q58', '5e52af31a0002e2c6056b13f'), ('Q58', '5ea043fbbfbe190687467966'), ('Q58', '5eaf3e142627076426921b1b'), ('Q58', '5fe635082fcdc9404d6fc610'), ('Q58', '602d86345f6c24812bfc3a4e'), ('Q58', '603411dbcf15a5036c87fc2b'), ('Q58', '61123bdc9bdfe87e54a459a6'), ('Q58', '6124f281ce42cb9bf7ed738f'), ('Q58', '614dec67f6eb129c3a77defd'), ('Q59', '5e52af31a0002e2c6056b13f'), ('Q59', '5ea043fbbfbe190687467966'), ('Q59', '5eaf3e142627076426921b1b'), ('Q59', '5fe635082fcdc9404d6fc610'), ('Q59', '602d86345f6c24812bfc3a4e'), ('Q59', '603411dbcf15a5036c87fc2b'), ('Q59', '61123bdc9bdfe87e54a459a6'), ('Q59', '6124f281ce42cb9bf7ed738f'), ('Q59', '614dec67f6eb129c3a77defd'), ('Q60', '5e52af31a0002e2c6056b13f'), ('Q60', '5ea043fbbfbe190687467966'), ('Q60', '5eaf3e142627076426921b1b'), ('Q60', '5fe635082fcdc9404d6fc610'), ('Q60', '602d86345f6c24812bfc3a4e'), ('Q60', '603411dbcf15a5036c87fc2b'), ('Q60', '61123bdc9bdfe87e54a459a6'), ('Q60', '6124f281ce42cb9bf7ed738f'), ('Q60', '614dec67f6eb129c3a77defd'), ('Q61', '5e52af31a0002e2c6056b13f'), ('Q61', '5ea043fbbfbe190687467966'), ('Q61', '5eaf3e142627076426921b1b'), ('Q61', '5fe635082fcdc9404d6fc610'), ('Q61', '602d86345f6c24812bfc3a4e'), ('Q61', '603411dbcf15a5036c87fc2b'), ('Q61', '61123bdc9bdfe87e54a459a6'), ('Q61', '6124f281ce42cb9bf7ed738f'), ('Q61', '614dec67f6eb129c3a77defd'), ('Q62', '5e52af31a0002e2c6056b13f'), ('Q62', '5ea043fbbfbe190687467966'), ('Q62', '5eaf3e142627076426921b1b'), ('Q62', '5fe635082fcdc9404d6fc610'), ('Q62', '602d86345f6c24812bfc3a4e'), ('Q62', '603411dbcf15a5036c87fc2b'), ('Q62', '61123bdc9bdfe87e54a459a6'), ('Q62', '6124f281ce42cb9bf7ed738f'), ('Q62', '614dec67f6eb129c3a77defd'), ('Q63', '5e52af31a0002e2c6056b13f'), ('Q63', '5ea043fbbfbe190687467966'), ('Q63', '5eaf3e142627076426921b1b'), ('Q63', '5fe635082fcdc9404d6fc610'), ('Q63', '602d86345f6c24812bfc3a4e'), ('Q63', '603411dbcf15a5036c87fc2b'), ('Q63', '61123bdc9bdfe87e54a459a6'), ('Q63', '6124f281ce42cb9bf7ed738f'), ('Q63', '614dec67f6eb129c3a77defd'), ('Q64', '5e52af31a0002e2c6056b13f'), ('Q64', '5ea043fbbfbe190687467966'), ('Q64', '5eaf3e142627076426921b1b'), ('Q64', '5fe635082fcdc9404d6fc610'), ('Q64', '602d86345f6c24812bfc3a4e'), ('Q64', '603411dbcf15a5036c87fc2b'), ('Q64', '61123bdc9bdfe87e54a459a6'), ('Q64', '6124f281ce42cb9bf7ed738f'), ('Q64', '614dec67f6eb129c3a77defd'), ('Q65', '5e52af31a0002e2c6056b13f'), ('Q65', '5ea043fbbfbe190687467966'), ('Q65', '5eaf3e142627076426921b1b'), ('Q65', '5fe635082fcdc9404d6fc610'), ('Q65', '602d86345f6c24812bfc3a4e'), ('Q65', '603411dbcf15a5036c87fc2b'), ('Q65', '61123bdc9bdfe87e54a459a6'), ('Q65', '6124f281ce42cb9bf7ed738f'), ('Q65', '614dec67f6eb129c3a77defd'), ('Q66', '5e52af31a0002e2c6056b13f'), ('Q66', '5ea043fbbfbe190687467966'), ('Q66', '5eaf3e142627076426921b1b'), ('Q66', '5fe635082fcdc9404d6fc610'), ('Q66', '602d86345f6c24812bfc3a4e'), ('Q66', '603411dbcf15a5036c87fc2b'), ('Q66', '61123bdc9bdfe87e54a459a6'), ('Q66', '6124f281ce42cb9bf7ed738f'), ('Q66', '614dec67f6eb129c3a77defd'), ('Q67', '5e52af31a0002e2c6056b13f'), ('Q67', '5ea043fbbfbe190687467966'), ('Q67', '5eaf3e142627076426921b1b'), ('Q67', '5fe635082fcdc9404d6fc610'), ('Q67', '602d86345f6c24812bfc3a4e'), ('Q67', '603411dbcf15a5036c87fc2b'), ('Q67', '61123bdc9bdfe87e54a459a6'), ('Q67', '6124f281ce42cb9bf7ed738f'), ('Q67', '614dec67f6eb129c3a77defd'), ('Q68', '5e52af31a0002e2c6056b13f'), ('Q68', '5ea043fbbfbe190687467966'), ('Q68', '5eaf3e142627076426921b1b'), ('Q68', '5fe635082fcdc9404d6fc610'), ('Q68', '602d86345f6c24812bfc3a4e'), ('Q68', '603411dbcf15a5036c87fc2b'), ('Q68', '61123bdc9bdfe87e54a459a6'), ('Q68', '6124f281ce42cb9bf7ed738f'), ('Q68', '614dec67f6eb129c3a77defd'), ('Q69', '5e52af31a0002e2c6056b13f'), ('Q69', '5ea043fbbfbe190687467966'), ('Q69', '5eaf3e142627076426921b1b'), ('Q69', '5fe635082fcdc9404d6fc610'), ('Q69', '602d86345f6c24812bfc3a4e'), ('Q69', '603411dbcf15a5036c87fc2b'), ('Q69', '61123bdc9bdfe87e54a459a6'), ('Q69', '6124f281ce42cb9bf7ed738f'), ('Q69', '614dec67f6eb129c3a77defd'), ('Q71', '5e52af31a0002e2c6056b13f'), ('Q71', '5ea043fbbfbe190687467966'), ('Q71', '5eaf3e142627076426921b1b'), ('Q71', '5fe635082fcdc9404d6fc610'), ('Q71', '602d86345f6c24812bfc3a4e'), ('Q71', '603411dbcf15a5036c87fc2b'), ('Q71', '61123bdc9bdfe87e54a459a6'), ('Q71', '6124f281ce42cb9bf7ed738f'), ('Q71', '614dec67f6eb129c3a77defd'), ('Q72', '5e52af31a0002e2c6056b13f'), ('Q72', '5ea043fbbfbe190687467966'), ('Q72', '5eaf3e142627076426921b1b'), ('Q72', '5fe635082fcdc9404d6fc610'), ('Q72', '602d86345f6c24812bfc3a4e'), ('Q72', '603411dbcf15a5036c87fc2b'), ('Q72', '61123bdc9bdfe87e54a459a6'), ('Q72', '6124f281ce42cb9bf7ed738f'), ('Q72', '614dec67f6eb129c3a77defd'), ('Q73', '5e52af31a0002e2c6056b13f'), ('Q73', '5ea043fbbfbe190687467966'), ('Q73', '5eaf3e142627076426921b1b'), ('Q73', '5fe635082fcdc9404d6fc610'), ('Q73', '602d86345f6c24812bfc3a4e'), ('Q73', '603411dbcf15a5036c87fc2b'), ('Q73', '61123bdc9bdfe87e54a459a6'), ('Q73', '6124f281ce42cb9bf7ed738f'), ('Q73', '614dec67f6eb129c3a77defd'), ('Q74', '5e52af31a0002e2c6056b13f'), ('Q74', '5ea043fbbfbe190687467966'), ('Q74', '5eaf3e142627076426921b1b'), ('Q74', '5fe635082fcdc9404d6fc610'), ('Q74', '602d86345f6c24812bfc3a4e'), ('Q74', '603411dbcf15a5036c87fc2b'), ('Q74', '61123bdc9bdfe87e54a459a6'), ('Q74', '6124f281ce42cb9bf7ed738f'), ('Q74', '614dec67f6eb129c3a77defd'), ('Q75', '5e52af31a0002e2c6056b13f'), ('Q75', '5ea043fbbfbe190687467966'), ('Q75', '5eaf3e142627076426921b1b'), ('Q75', '5fe635082fcdc9404d6fc610'), ('Q75', '602d86345f6c24812bfc3a4e'), ('Q75', '603411dbcf15a5036c87fc2b'), ('Q75', '61123bdc9bdfe87e54a459a6'), ('Q75', '6124f281ce42cb9bf7ed738f'), ('Q75', '614dec67f6eb129c3a77defd'), ('Q76', '5e52af31a0002e2c6056b13f'), ('Q76', '5ea043fbbfbe190687467966'), ('Q76', '5eaf3e142627076426921b1b'), ('Q76', '5fe635082fcdc9404d6fc610'), ('Q76', '602d86345f6c24812bfc3a4e'), ('Q76', '603411dbcf15a5036c87fc2b'), ('Q76', '61123bdc9bdfe87e54a459a6'), ('Q76', '6124f281ce42cb9bf7ed738f'), ('Q76', '614dec67f6eb129c3a77defd'), ('Q77', '5e52af31a0002e2c6056b13f'), ('Q77', '5ea043fbbfbe190687467966'), ('Q77', '5eaf3e142627076426921b1b'), ('Q77', '5fe635082fcdc9404d6fc610'), ('Q77', '602d86345f6c24812bfc3a4e'), ('Q77', '603411dbcf15a5036c87fc2b'), ('Q77', '61123bdc9bdfe87e54a459a6'), ('Q77', '6124f281ce42cb9bf7ed738f'), ('Q77', '614dec67f6eb129c3a77defd'), ('Q78', '5e52af31a0002e2c6056b13f'), ('Q78', '5ea043fbbfbe190687467966'), ('Q78', '5eaf3e142627076426921b1b'), ('Q78', '5fe635082fcdc9404d6fc610'), ('Q78', '602d86345f6c24812bfc3a4e'), ('Q78', '603411dbcf15a5036c87fc2b'), ('Q78', '61123bdc9bdfe87e54a459a6'), ('Q78', '6124f281ce42cb9bf7ed738f'), ('Q78', '614dec67f6eb129c3a77defd'), ('Q79', '5e52af31a0002e2c6056b13f'), ('Q79', '5ea043fbbfbe190687467966'), ('Q79', '5eaf3e142627076426921b1b'), ('Q79', '5fe635082fcdc9404d6fc610'), ('Q79', '602d86345f6c24812bfc3a4e'), ('Q79', '603411dbcf15a5036c87fc2b'), ('Q79', '61123bdc9bdfe87e54a459a6'), ('Q79', '6124f281ce42cb9bf7ed738f'), ('Q79', '614dec67f6eb129c3a77defd'), ('Q80', '5e52af31a0002e2c6056b13f'), ('Q80', '5ea043fbbfbe190687467966'), ('Q80', '5eaf3e142627076426921b1b'), ('Q80', '5fe635082fcdc9404d6fc610'), ('Q80', '602d86345f6c24812bfc3a4e'), ('Q80', '603411dbcf15a5036c87fc2b'), ('Q80', '61123bdc9bdfe87e54a459a6'), ('Q80', '6124f281ce42cb9bf7ed738f'), ('Q80', '614dec67f6eb129c3a77defd'), ('Q81', '5e52af31a0002e2c6056b13f'), ('Q81', '5ea043fbbfbe190687467966'), ('Q81', '5eaf3e142627076426921b1b'), ('Q81', '5fe635082fcdc9404d6fc610'), ('Q81', '602d86345f6c24812bfc3a4e'), ('Q81', '603411dbcf15a5036c87fc2b'), ('Q81', '61123bdc9bdfe87e54a459a6'), ('Q81', '6124f281ce42cb9bf7ed738f'), ('Q81', '614dec67f6eb129c3a77defd'), ('Q82', '5e52af31a0002e2c6056b13f'), ('Q82', '5ea043fbbfbe190687467966'), ('Q82', '5eaf3e142627076426921b1b'), ('Q82', '5fe635082fcdc9404d6fc610'), ('Q82', '602d86345f6c24812bfc3a4e'), ('Q82', '603411dbcf15a5036c87fc2b'), ('Q82', '61123bdc9bdfe87e54a459a6'), ('Q82', '6124f281ce42cb9bf7ed738f'), ('Q82', '614dec67f6eb129c3a77defd'), ('Q83', '5e52af31a0002e2c6056b13f'), ('Q83', '5ea043fbbfbe190687467966'), ('Q83', '5eaf3e142627076426921b1b'), ('Q83', '5fe635082fcdc9404d6fc610'), ('Q83', '602d86345f6c24812bfc3a4e'), ('Q83', '603411dbcf15a5036c87fc2b'), ('Q83', '61123bdc9bdfe87e54a459a6'), ('Q83', '6124f281ce42cb9bf7ed738f'), ('Q83', '614dec67f6eb129c3a77defd'), ('Q84', '5e52af31a0002e2c6056b13f'), ('Q84', '5ea043fbbfbe190687467966'), ('Q84', '5eaf3e142627076426921b1b'), ('Q84', '5fe635082fcdc9404d6fc610'), ('Q84', '602d86345f6c24812bfc3a4e'), ('Q84', '603411dbcf15a5036c87fc2b'), ('Q84', '61123bdc9bdfe87e54a459a6'), ('Q84', '6124f281ce42cb9bf7ed738f'), ('Q84', '614dec67f6eb129c3a77defd'), ('Q85', '5e52af31a0002e2c6056b13f'), ('Q85', '5ea043fbbfbe190687467966'), ('Q85', '5eaf3e142627076426921b1b'), ('Q85', '5fe635082fcdc9404d6fc610'), ('Q85', '602d86345f6c24812bfc3a4e'), ('Q85', '603411dbcf15a5036c87fc2b'), ('Q85', '61123bdc9bdfe87e54a459a6'), ('Q85', '6124f281ce42cb9bf7ed738f'), ('Q85', '614dec67f6eb129c3a77defd'), ('Q86', '5e52af31a0002e2c6056b13f'), ('Q86', '5ea043fbbfbe190687467966'), ('Q86', '5eaf3e142627076426921b1b'), ('Q86', '5fe635082fcdc9404d6fc610'), ('Q86', '602d86345f6c24812bfc3a4e'), ('Q86', '603411dbcf15a5036c87fc2b'), ('Q86', '61123bdc9bdfe87e54a459a6'), ('Q86', '6124f281ce42cb9bf7ed738f'), ('Q86', '614dec67f6eb129c3a77defd'), ('Q87', '5e52af31a0002e2c6056b13f'), ('Q87', '5ea043fbbfbe190687467966'), ('Q87', '5eaf3e142627076426921b1b'), ('Q87', '5fe635082fcdc9404d6fc610'), ('Q87', '602d86345f6c24812bfc3a4e'), ('Q87', '603411dbcf15a5036c87fc2b'), ('Q87', '61123bdc9bdfe87e54a459a6'), ('Q87', '6124f281ce42cb9bf7ed738f'), ('Q87', '614dec67f6eb129c3a77defd'), ('Q88', '5e52af31a0002e2c6056b13f'), ('Q88', '5ea043fbbfbe190687467966'), ('Q88', '5eaf3e142627076426921b1b'), ('Q88', '5fe635082fcdc9404d6fc610'), ('Q88', '602d86345f6c24812bfc3a4e'), ('Q88', '603411dbcf15a5036c87fc2b'), ('Q88', '61123bdc9bdfe87e54a459a6'), ('Q88', '6124f281ce42cb9bf7ed738f'), ('Q88', '614dec67f6eb129c3a77defd'), ('Q89', '5e52af31a0002e2c6056b13f'), ('Q89', '5ea043fbbfbe190687467966'), ('Q89', '5eaf3e142627076426921b1b'), ('Q89', '5fe635082fcdc9404d6fc610'), ('Q89', '602d86345f6c24812bfc3a4e'), ('Q89', '603411dbcf15a5036c87fc2b'), ('Q89', '61123bdc9bdfe87e54a459a6'), ('Q89', '6124f281ce42cb9bf7ed738f'), ('Q89', '614dec67f6eb129c3a77defd'), ('Q90', '5e52af31a0002e2c6056b13f'), ('Q90', '5ea043fbbfbe190687467966'), ('Q90', '5eaf3e142627076426921b1b'), ('Q90', '5fe635082fcdc9404d6fc610'), ('Q90', '602d86345f6c24812bfc3a4e'), ('Q90', '603411dbcf15a5036c87fc2b'), ('Q90', '61123bdc9bdfe87e54a459a6'), ('Q90', '6124f281ce42cb9bf7ed738f'), ('Q90', '614dec67f6eb129c3a77defd'), ('Q91', '5e52af31a0002e2c6056b13f'), ('Q91', '5ea043fbbfbe190687467966'), ('Q91', '5eaf3e142627076426921b1b'), ('Q91', '5fe635082fcdc9404d6fc610'), ('Q91', '602d86345f6c24812bfc3a4e'), ('Q91', '603411dbcf15a5036c87fc2b'), ('Q91', '61123bdc9bdfe87e54a459a6'), ('Q91', '6124f281ce42cb9bf7ed738f'), ('Q91', '614dec67f6eb129c3a77defd'), ('Q92', '5e52af31a0002e2c6056b13f'), ('Q92', '5ea043fbbfbe190687467966'), ('Q92', '5eaf3e142627076426921b1b'), ('Q92', '5fe635082fcdc9404d6fc610'), ('Q92', '602d86345f6c24812bfc3a4e'), ('Q92', '603411dbcf15a5036c87fc2b'), ('Q92', '61123bdc9bdfe87e54a459a6'), ('Q92', '6124f281ce42cb9bf7ed738f'), ('Q92', '614dec67f6eb129c3a77defd'), ('Q93', '5e52af31a0002e2c6056b13f'), ('Q93', '5ea043fbbfbe190687467966'), ('Q93', '5eaf3e142627076426921b1b'), ('Q93', '5fe635082fcdc9404d6fc610'), ('Q93', '602d86345f6c24812bfc3a4e'), ('Q93', '603411dbcf15a5036c87fc2b'), ('Q93', '61123bdc9bdfe87e54a459a6'), ('Q93', '6124f281ce42cb9bf7ed738f'), ('Q93', '614dec67f6eb129c3a77defd'), ('Q94', '5e52af31a0002e2c6056b13f'), ('Q94', '5ea043fbbfbe190687467966'), ('Q94', '5eaf3e142627076426921b1b'), ('Q94', '5fe635082fcdc9404d6fc610'), ('Q94', '602d86345f6c24812bfc3a4e'), ('Q94', '603411dbcf15a5036c87fc2b'), ('Q94', '61123bdc9bdfe87e54a459a6'), ('Q94', '6124f281ce42cb9bf7ed738f'), ('Q94', '614dec67f6eb129c3a77defd'), ('Q95', '5e52af31a0002e2c6056b13f'), ('Q95', '5ea043fbbfbe190687467966'), ('Q95', '5eaf3e142627076426921b1b'), ('Q95', '5fe635082fcdc9404d6fc610'), ('Q95', '602d86345f6c24812bfc3a4e'), ('Q95', '603411dbcf15a5036c87fc2b'), ('Q95', '61123bdc9bdfe87e54a459a6'), ('Q95', '6124f281ce42cb9bf7ed738f'), ('Q95', '614dec67f6eb129c3a77defd'), ('Q96', '5e52af31a0002e2c6056b13f'), ('Q96', '5ea043fbbfbe190687467966'), ('Q96', '5eaf3e142627076426921b1b'), ('Q96', '5fe635082fcdc9404d6fc610'), ('Q96', '602d86345f6c24812bfc3a4e'), ('Q96', '603411dbcf15a5036c87fc2b'), ('Q96', '61123bdc9bdfe87e54a459a6'), ('Q96', '6124f281ce42cb9bf7ed738f'), ('Q96', '614dec67f6eb129c3a77defd'), ('Q97', '5e52af31a0002e2c6056b13f'), ('Q97', '5ea043fbbfbe190687467966'), ('Q97', '5eaf3e142627076426921b1b'), ('Q97', '5fe635082fcdc9404d6fc610'), ('Q97', '602d86345f6c24812bfc3a4e'), ('Q97', '603411dbcf15a5036c87fc2b'), ('Q97', '61123bdc9bdfe87e54a459a6'), ('Q97', '6124f281ce42cb9bf7ed738f'), ('Q97', '614dec67f6eb129c3a77defd'), ('Q98', '5e52af31a0002e2c6056b13f'), ('Q98', '5ea043fbbfbe190687467966'), ('Q98', '5eaf3e142627076426921b1b'), ('Q98', '5fe635082fcdc9404d6fc610'), ('Q98', '602d86345f6c24812bfc3a4e'), ('Q98', '603411dbcf15a5036c87fc2b'), ('Q98', '61123bdc9bdfe87e54a459a6'), ('Q98', '6124f281ce42cb9bf7ed738f'), ('Q98', '614dec67f6eb129c3a77defd'), ('Q99', '5e52af31a0002e2c6056b13f'), ('Q99', '5ea043fbbfbe190687467966'), ('Q99', '5eaf3e142627076426921b1b'), ('Q99', '5fe635082fcdc9404d6fc610'), ('Q99', '602d86345f6c24812bfc3a4e'), ('Q99', '603411dbcf15a5036c87fc2b'), ('Q99', '61123bdc9bdfe87e54a459a6'), ('Q99', '6124f281ce42cb9bf7ed738f'), ('Q99', '614dec67f6eb129c3a77defd')]\n"
     ]
    }
   ],
   "source": [
    "main = []\n",
    "print(df.columns.get_loc(\"Q101\"))\n",
    "for i in range(3, len(df.iloc[:, 0]), 1):\n",
    "    currID = df.iat[i,df.columns.get_loc(\"Q162\")]\n",
    "    for j in range(start, df.columns.get_loc(\"Q101\")+ 1):\n",
    "        questionID = df.columns[j]\n",
    "        if \"(Optional)\" in descriptionsDict[questionID]: continue\n",
    "        else: main.append((questionID, currID))\n",
    "main = sorted(main)\n",
    "print(main)"
   ],
   "metadata": {
    "collapsed": false,
    "pycharm": {
     "name": "#%%\n"
    }
   }
  },
  {
   "cell_type": "code",
   "execution_count": 42,
   "outputs": [
    {
     "name": "stdout",
     "output_type": "stream",
     "text": [
      "    Question ID            Participant ID               Description  \\\n",
      "0          Q100  5e52af31a0002e2c6056b13f  Firebase installation ID   \n",
      "1          Q100  5ea043fbbfbe190687467966  Firebase installation ID   \n",
      "2          Q100  5eaf3e142627076426921b1b  Firebase installation ID   \n",
      "3          Q100  5fe635082fcdc9404d6fc610  Firebase installation ID   \n",
      "4          Q100  602d86345f6c24812bfc3a4e  Firebase installation ID   \n",
      "..          ...                       ...                       ...   \n",
      "877         Q99  602d86345f6c24812bfc3a4e        Widevine Device ID   \n",
      "878         Q99  603411dbcf15a5036c87fc2b        Widevine Device ID   \n",
      "879         Q99  61123bdc9bdfe87e54a459a6        Widevine Device ID   \n",
      "880         Q99  6124f281ce42cb9bf7ed738f        Widevine Device ID   \n",
      "881         Q99  614dec67f6eb129c3a77defd        Widevine Device ID   \n",
      "\n",
      "                              Answer  Correctness  Question Type  \\\n",
      "0                                NaN            0              2   \n",
      "1                                NaN            0              2   \n",
      "2    App Information and Performance            0              2   \n",
      "3    App Information and Performance            0              2   \n",
      "4                                NaN            0              2   \n",
      "..                               ...          ...            ...   \n",
      "877      Device or Other Identifiers            1              2   \n",
      "878                              NaN            0              2   \n",
      "879                              NaN            0              2   \n",
      "880                              NaN            0              2   \n",
      "881                              NaN            0              2   \n",
      "\n",
      "    Prompt Condition Order Difference  \n",
      "0                  1              NaN  \n",
      "1                  0              NaN  \n",
      "2                  2               -1  \n",
      "3                  1               -1  \n",
      "4                  1              NaN  \n",
      "..               ...              ...  \n",
      "877                1                1  \n",
      "878                1              NaN  \n",
      "879                1              NaN  \n",
      "880                0              NaN  \n",
      "881                0              NaN  \n",
      "\n",
      "[882 rows x 8 columns]\n"
     ]
    }
   ],
   "source": [
    "participantId = []\n",
    "rowNames = []\n",
    "for (questionID, currID) in main:\n",
    "    participantId.append(currID)\n",
    "    rowNames.append(questionID)\n",
    "results = pd.DataFrame()\n",
    "results.insert(0, 'Question ID', rowNames)\n",
    "results.insert(1, 'Participant ID', participantId)\n",
    "descriptions = list()\n",
    "for i in range(len(rowNames)):\n",
    "    descriptions.append(descriptionsDict[rowNames[i]])\n",
    "types = list()\n",
    "for i in range(len(rowNames)):\n",
    "    types.append(typeDict[rowNames[i]])\n",
    "answers = list()\n",
    "for i in range(len(rowNames)):\n",
    "    answers.append(answerDict[(participantId[i]), rowNames[i]])\n",
    "correctness = list()\n",
    "for i in range(len(rowNames)):\n",
    "    correctness.append(correct[(participantId[i]), rowNames[i]])\n",
    "conditionL = list()\n",
    "for i in range(len(rowNames)):\n",
    "    conditionL.append(condition[participantId[i]])\n",
    "orderL = list()\n",
    "for i in range(len(rowNames)):\n",
    "    if order.get((participantId[i], rowNames[i]), 42) == 42:\n",
    "        orderL.append(\"NaN\")\n",
    "    else:\n",
    "        orderL.append(order[(participantId[i]), rowNames[i]])\n",
    "results.insert(2, 'Description', descriptions)\n",
    "results.insert(3, 'Answer', answers)\n",
    "results.insert(4, 'Correctness', correctness)\n",
    "results.insert(5, 'Question Type', types)\n",
    "results.insert(6, 'Prompt Condition', conditionL)\n",
    "results.insert(7, 'Order Difference', orderL)\n",
    "\n",
    "print(results)\n"
   ],
   "metadata": {
    "collapsed": false,
    "pycharm": {
     "name": "#%%\n"
    }
   }
  },
  {
   "cell_type": "code",
   "execution_count": 43,
   "outputs": [],
   "source": [
    "results.to_excel(\"/Users/margarethe/Downloads/output.xlsx\", sheet_name='Sheet_name_1')"
   ],
   "metadata": {
    "collapsed": false,
    "pycharm": {
     "name": "#%%\n"
    }
   }
  },
  {
   "cell_type": "code",
   "execution_count": 8,
   "outputs": [],
   "source": [],
   "metadata": {
    "collapsed": false,
    "pycharm": {
     "name": "#%%\n"
    }
   }
  }
 ],
 "metadata": {
  "kernelspec": {
   "display_name": "Python 3",
   "language": "python",
   "name": "python3"
  },
  "language_info": {
   "codemirror_mode": {
    "name": "ipython",
    "version": 2
   },
   "file_extension": ".py",
   "mimetype": "text/x-python",
   "name": "python",
   "nbconvert_exporter": "python",
   "pygments_lexer": "ipython2",
   "version": "2.7.6"
  }
 },
 "nbformat": 4,
 "nbformat_minor": 0
}