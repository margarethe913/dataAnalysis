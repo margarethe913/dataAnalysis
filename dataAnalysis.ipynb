{
 "cells": [
  {
   "cell_type": "code",
   "execution_count": 1,
   "outputs": [],
   "source": [
    "from collections import defaultdict\n",
    "\n",
    "import numpy as np\n",
    "import pandas as pd"
   ],
   "metadata": {
    "collapsed": false,
    "pycharm": {
     "name": "#%%\n"
    }
   }
  },
  {
   "cell_type": "code",
   "execution_count": 23,
   "outputs": [],
   "source": [
    "#get answers from csv\n",
    "a_dict = dict()\n",
    "answers = pd.read_csv('answers.csv')\n",
    "questions = answers.loc[:,\"Example Scenario in Survey\"]\n",
    "correct = answers.loc[:,\"Correct Answer\"]\n",
    "for i in range(0, len(questions)):\n",
    "    cq = str(questions[i]).strip()\n",
    "    ca = str(correct[i]).strip()\n",
    "    a_dict[cq] = str(ca)"
   ],
   "metadata": {
    "collapsed": false,
    "pycharm": {
     "name": "#%%\n"
    }
   }
  },
  {
   "cell_type": "code",
   "execution_count": 24,
   "outputs": [],
   "source": [
    "#dataframe raw responses\n",
    "df = pd.read_csv('responses.csv')\n",
    "#optional questions should not be collected\n",
    "ignore = {\"Q200\", \"Q629\", \"Q1051\", \"Q227\", \"Q1052\", \"Q254.1\", \"Q549\", \"Q1053\", \"Q401.1\",  \"Q202\", \"Q229\"}\n",
    "#drop QID row\n",
    "df = df.drop(labels=1, axis=0)\n",
    "\n",
    "#match question ids to question text\n",
    "descriptionsDict = dict()\n",
    "start = df.columns.get_loc(\"Q176\")\n",
    "end = df.columns.get_loc(\"QID1054\")\n",
    "for i in range(start, end + 1, 1):\n",
    "    key = df.columns[i]\n",
    "    if key not in ignore:\n",
    "        descriptionsDict[key] = df.iat[0, i]"
   ],
   "metadata": {
    "collapsed": false,
    "pycharm": {
     "name": "#%%\n"
    }
   }
  },
  {
   "cell_type": "code",
   "execution_count": 25,
   "outputs": [],
   "source": [
    "#categorize questions by type\n",
    "section1 = set()\n",
    "section2 = set()\n",
    "section3 = set()\n",
    "attentionChecks = set()\n",
    "for question in descriptionsDict:\n",
    "    if 'attention check. Please go ahead and select the option that begins with \"N\".' in descriptionsDict[question]:\n",
    "        section1.add(question)\n",
    "        attentionChecks.add(question)\n",
    "    if 'attention check. Please go ahead and select the option that begins with \"H\".' in descriptionsDict[question]:\n",
    "        section2.add(question)\n",
    "        attentionChecks.add(question)\n",
    "    if 'attention check. Please go ahead and select the option that begins with \"P\".' in descriptionsDict[question]:\n",
    "        section3.add(question)\n",
    "        attentionChecks.add(question)\n",
    "    if \"collection and sharing\" in descriptionsDict[question]:\n",
    "        section1.add(question)\n",
    "    if \"user data type\" in descriptionsDict[question]:\n",
    "        section2.add(question)\n",
    "    if \"Why\" in descriptionsDict[question]:\n",
    "        section3.add(question)\n",
    "typeDict = dict()\n",
    "count = 0\n",
    "start = df.columns.get_loc(\"Q176\")\n",
    "end = df.columns.get_loc(\"QID1054\")\n",
    "for i in range(start, end + 1, 1):\n",
    "    key = df.columns[i]\n",
    "    if key in ignore:\n",
    "        continue\n",
    "    if key in section1:\n",
    "        entry = 1\n",
    "    elif key in section2:\n",
    "        entry = 2\n",
    "    elif key in section3:\n",
    "        entry = 3\n",
    "    typeDict[key] = entry"
   ],
   "metadata": {
    "collapsed": false,
    "pycharm": {
     "name": "#%%\n"
    }
   }
  },
  {
   "cell_type": "code",
   "execution_count": 26,
   "outputs": [],
   "source": [
    "#categorize questions by case\n",
    "categoryDict = dict()\n",
    "for question in typeDict:\n",
    "    if typeDict[question] == 1:\n",
    "        if \"Our app accesses GPS location and sends it to our server.\" in descriptionsDict[question] or \"Our app accesses GPS location and sends it to a third party server.\" in descriptionsDict[question]:\n",
    "            categoryDict[question] = \"basic\"\n",
    "        elif \"users to navigate the open web via a webview. When the user opens google.com, it accesses the user's GPS location and sends the GPS location to Google's server\" in descriptionsDict[question] or \"Our app accesses and processes the user's GPS location directly on the user’s device. The data never leaves the device\" in descriptionsDict[question] or \"Our app encrypts the user’s message before it is sent to another user, where it is decrypted\" in descriptionsDict[question] or \"Our app allows users to navigate the open web via a webview. When the user opens google.com, it accesses the user's GPS location and sends the GPS location to a third party server\" in descriptionsDict[question]:\n",
    "            categoryDict[question] = \"exemption\"\n",
    "        else:\n",
    "            categoryDict[question] = \"special case\"\n",
    "    else:\n",
    "        categoryDict[question] = \"basic\""
   ],
   "metadata": {
    "collapsed": false,
    "pycharm": {
     "name": "#%%\n"
    }
   }
  },
  {
   "cell_type": "code",
   "execution_count": 38,
   "outputs": [],
   "source": [
    "#get correct answers for each question (based on ID)\n",
    "correctAnswerDict = dict()\n",
    "#question names\n",
    "nameDict = dict()\n",
    "for question in descriptionsDict:\n",
    "    search_key = descriptionsDict[question]\n",
    "    if \"Data usage scenario:\" in search_key:\n",
    "        search_key = search_key.replace(\"Data usage scenario:\", \"\")\n",
    "    if \"Our app collects:\" in search_key:\n",
    "        search_key = search_key.replace(\"Our app collects:\", \"\")\n",
    "    if \"Select\" in search_key:\n",
    "        end = search_key.index(\"Select\")\n",
    "        search_key = search_key[1:end-1].strip()\n",
    "    elif \"Why\" in search_key:\n",
    "        end = search_key.index(\"Why\")\n",
    "        search_key = search_key[1:end-1].strip()\n",
    "    elif \"Is\" in search_key:\n",
    "        end = search_key.index(\"Is\")\n",
    "        search_key = search_key[1:end-1].strip()\n",
    "    else:\n",
    "        end = len(search_key)\n",
    "        search_key = search_key[1:end-1].strip()\n",
    "    if search_key[-1] == \".\":\n",
    "        search_key = search_key[:-1]\n",
    "    if search_key in a_dict:\n",
    "        correctAnswerDict[question] = a_dict[search_key]\n",
    "    else:\n",
    "        for key in a_dict:\n",
    "            if search_key in key:\n",
    "                    correctAnswerDict[question] = a_dict[key]\n",
    "                    break\n",
    "    nameDict[question] = key.replace(\"\\n\", \"\")\n",
    "    if \"Please\" in nameDict[question]:\n",
    "        nameDict[question] = nameDict[question].replace(\"Please\" , \" Please\")"
   ],
   "metadata": {
    "collapsed": false,
    "pycharm": {
     "name": "#%%\n"
    }
   }
  },
  {
   "cell_type": "code",
   "execution_count": 39,
   "outputs": [
    {
     "name": "stdout",
     "output_type": "stream",
     "text": [
      "59ea4e1116ecc200016ff81e\n",
      "Shared\n",
      "Q176\n",
      "6113a86e9e254bad97528743\n",
      "App functionality\n",
      "Q944\n"
     ]
    }
   ],
   "source": [
    "#potential answers, for indexing\n",
    "collection = ['Collected', 'Shared', 'Both', 'Neither']\n",
    "types = ['Location', 'Personal Information', 'Financial Information', 'Health and Fitness', 'Messages', 'Photos or Videos', 'Audio Files', 'Files and docs', 'Calendar', 'Contacts', 'App Activity', 'Web Browsing', 'App Information and Performance', 'Device or Other Identifiers', 'None of the Above']\n",
    "purpose = ['App functionality', 'Analytics', 'Developer communications', 'Advertising or marketing', 'Fraud prevention, security, and compliance', 'Personalization', 'Account management', 'None of the Above']\n",
    "ignore = {\"Q200\", \"Q629\", \"Q1051\", \"Q227\", \"Q1052\", \"Q254.1\", \"Q549\", \"Q1053\", \"Q401.1\",  \"Q202\", \"Q229\"}\n",
    "\n",
    "#calculating index of correct answer\n",
    "answerDict = defaultdict(str)\n",
    "indexGivenDict = defaultdict(str)\n",
    "indexExpectedDict = defaultdict(str)\n",
    "rowIds = []\n",
    "start = df.columns.get_loc(\"Q176\")\n",
    "end = df.columns.get_loc(\"QID1054\")\n",
    "question1Count = dict()\n",
    "question2Count = dict()\n",
    "question3Count = dict()\n",
    "#participants who did not pass the attention check\n",
    "remove = set()\n",
    "count = 0\n",
    "start = df.columns.get_loc(\"Q176\")\n",
    "end = df.columns.get_loc(\"QID1054\")\n",
    "for i in range(start, end+1, 1):\n",
    "    for j in range(1, len(df.iloc[:, 0])):\n",
    "        participantId = df.iat[j, df.columns.get_loc(\"Q162\")]\n",
    "        questionId = df.columns[i]\n",
    "        if questionId in ignore:\n",
    "            continue\n",
    "        rowId = (participantId, questionId)\n",
    "        if questionId not in attentionChecks:\n",
    "            rowIds.append(rowId)\n",
    "        answer = str(df.iat[j, i])\n",
    "        if answer == \"nan\":\n",
    "            answerDict[rowId] = \"\"\n",
    "            continue\n",
    "        answer = str(answer).strip()\n",
    "        if answer in collection or answer in types or answer in purpose:\n",
    "            answer = answer\n",
    "        else:\n",
    "            if typeDict[questionId] == 1:\n",
    "                for word in collection:\n",
    "                    if answer[0:6] in word:\n",
    "                        answer = word\n",
    "            elif typeDict[questionId] == 2:\n",
    "                for word in types:\n",
    "                    if answer[0:9] in word:\n",
    "                        answer = word\n",
    "            elif typeDict[questionId] == 3:\n",
    "                for word in purpose:\n",
    "                    if answer[0:9] in word:\n",
    "                        answer = word\n",
    "        if answer not in collection and answer not in types and answer not in purpose:\n",
    "            continue\n",
    "        answerDict[rowId] = str(answer)\n",
    "        #remove questions that don't pass the attentionChecks\n",
    "        if questionId in attentionChecks:\n",
    "            if answer != correctAnswerDict[questionId]:\n",
    "                remove.add(participantId)\n",
    "                print(participantId)\n",
    "                print(answer)\n",
    "                print(questionId)\n",
    "            if typeDict[questionId] == 1:\n",
    "                question1Count[participantId] = question1Count.get(participantId, 0) + 1\n",
    "            elif typeDict[questionId] == 2:\n",
    "                question2Count[participantId] = question2Count.get(participantId, 0) + 1\n",
    "            else:\n",
    "                question3Count[participantId] = question3Count.get(participantId, 0) + 1\n",
    "            continue\n",
    "        #look at difference between expected index and given index\n",
    "        if typeDict[questionId] == 1:\n",
    "            index_given = collection.index(answer)\n",
    "            index_expected = collection.index(correctAnswerDict[questionId])\n",
    "            question1Count[participantId] = question1Count.get(participantId, 0) + 1\n",
    "        elif typeDict[questionId] == 2:\n",
    "            index_given = types.index(answer)\n",
    "            index_expected = types.index(correctAnswerDict[questionId])\n",
    "            question2Count[participantId] = question2Count.get(participantId, 0) + 1\n",
    "        else:\n",
    "            index_given = purpose.index(answer)\n",
    "            index_expected = purpose.index(correctAnswerDict[questionId])\n",
    "            question3Count[participantId] = question3Count.get(participantId, 0) + 1\n",
    "        indexGivenDict[rowId] = index_given\n",
    "        indexExpectedDict[rowId] = index_expected\n",
    "#make sure user answered required amount of questions\n",
    "for participant in question1Count:\n",
    "    if question1Count[participant] != 12:\n",
    "        print(participant)\n",
    "        print(question1Count[participant])\n",
    "        remove.add(participant)\n",
    "    if question2Count[participant] != 16:\n",
    "        print(participant)\n",
    "        print(question2Count[participant])\n",
    "        remove.add(participant)\n",
    "    if question3Count[participant] != 16:\n",
    "        print(participant)\n",
    "        print(question3Count[participant])\n",
    "        remove.add(participant)"
   ],
   "metadata": {
    "collapsed": false,
    "pycharm": {
     "name": "#%%\n"
    }
   }
  },
  {
   "cell_type": "code",
   "execution_count": 40,
   "outputs": [
    {
     "name": "stdout",
     "output_type": "stream",
     "text": [
      "Yes\n",
      "5\n",
      "56435b83942576000a66eb5d\n",
      "Yes\n",
      "5\n",
      "612520bd6605794b27e6a0fd\n",
      "Yes\n",
      "5\n",
      "5ad0f1934d061300011b0a4d\n",
      "Yes\n",
      "5\n",
      "602454a47d0d7d121a1e444b\n"
     ]
    }
   ],
   "source": [
    "#make sure user answered all eligibility questions\n",
    "for j in range(1, len(df.iloc[:, 0])):\n",
    "    participantId = df.iat[j, df.columns.get_loc(\"Q162\")]\n",
    "    ageQuestion = df.columns.get_loc(\"Q4\")\n",
    "    expQuestion = df.columns.get_loc(\"Q102\")\n",
    "    if str(df.iat[j, ageQuestion]) != \"Yes\" or str(df.iat[j, expQuestion]) != \"Yes\":\n",
    "        print(str(df.iat[j, ageQuestion]))\n",
    "        print(str(df.iat[j, expQuestion]))\n",
    "        remove.add(participantId)\n",
    "        print(participantId)"
   ],
   "metadata": {
    "collapsed": false,
    "pycharm": {
     "name": "#%%\n"
    }
   }
  },
  {
   "cell_type": "code",
   "execution_count": 41,
   "outputs": [
    {
     "name": "stdout",
     "output_type": "stream",
     "text": [
      "{'2': 23, '3': 23, '1': 26}\n",
      "2\n",
      "3\n",
      "3\n",
      "1\n",
      "1\n",
      "2\n"
     ]
    }
   ],
   "source": [
    "#get condition\n",
    "conditionDict = dict()\n",
    "for j in range(0, len(df.iloc[:, 0]), 1):\n",
    "    conditionDict[df.iat[j, df.columns.get_loc(\"Q162\")]] = df.iat[j, -1]\n",
    "conditionDict.pop('What is your Prolific ID?')\n",
    "\n",
    "balanced = dict()\n",
    "for person in conditionDict:\n",
    "    balanced[conditionDict[person]] = balanced.get(conditionDict[person], 0) + 1\n",
    "print(balanced)\n",
    "\n",
    "for participant in remove:\n",
    "    print(conditionDict[participant])"
   ],
   "metadata": {
    "collapsed": false,
    "pycharm": {
     "name": "#%%\n"
    }
   }
  },
  {
   "cell_type": "code",
   "execution_count": 42,
   "outputs": [],
   "source": [
    "#generating dataframe columns\n",
    "results = pd.DataFrame()\n",
    "participantIds = [p for p, q in rowIds]\n",
    "questionIds = [q for p, q in rowIds]\n",
    "descriptions = [descriptionsDict[q] for q in questionIds]\n",
    "types = [typeDict[q] for q in questionIds]\n",
    "categories = [categoryDict[q] for q in questionIds]\n",
    "answers = [answerDict[(p, q)] for p, q in zip(participantIds, questionIds)]\n",
    "correctAnswers = [correctAnswerDict[q] for q in questionIds]\n",
    "conditions = [conditionDict[p] for p in participantIds]\n",
    "givenIndices = [indexGivenDict[(p, q)] for p, q in zip(participantIds, questionIds)]\n",
    "expectedIndices = [indexExpectedDict[(p, q)] for p, q in zip(participantIds, questionIds)]\n",
    "names = [nameDict[q] for q in questionIds]\n",
    "results['Question ID'] = questionIds\n",
    "results['Participant ID'] = participantIds\n",
    "results['Description'] = descriptions\n",
    "results['Answer'] = answers\n",
    "results['Correct Answer'] = correctAnswers\n",
    "results['Question Type'] = types\n",
    "results[\"Question Category\"] = categories\n",
    "results['Question Name'] = names\n",
    "results['Prompt Condition'] = conditions\n",
    "results['Answer Index'] = givenIndices\n",
    "results['Correct Answer Index'] = expectedIndices\n",
    "# filter out rows with empty answers (i.e., not selected in the study)\n",
    "results = results[results[\"Answer\"] != \"\"]\n",
    "#remove rows that don't pass the attentionChecks\n",
    "results = results[~results[\"Participant ID\"].isin(remove)]\n",
    "results['Correctness'] = (results['Answer'] == results['Correct Answer']).apply(lambda v: 1 if v else 0)\n",
    "\n",
    "results['Order Difference'] =\\\n",
    "    (results['Answer Index'] - results['Correct Answer Index']).apply(lambda v: 0 if v == 0 else 1 if v > 0 else -1)"
   ],
   "metadata": {
    "collapsed": false,
    "pycharm": {
     "name": "#%%\n"
    }
   }
  },
  {
   "cell_type": "code",
   "execution_count": 43,
   "outputs": [],
   "source": [
    "#export to csv\n",
    "results.to_csv(\"output.csv\")"
   ],
   "metadata": {
    "collapsed": false,
    "pycharm": {
     "name": "#%%\n"
    }
   }
  },
  {
   "cell_type": "code",
   "execution_count": 176,
   "outputs": [],
   "source": [],
   "metadata": {
    "collapsed": false,
    "pycharm": {
     "name": "#%%\n"
    }
   }
  },
  {
   "cell_type": "code",
   "execution_count": null,
   "outputs": [],
   "source": [],
   "metadata": {
    "collapsed": false,
    "pycharm": {
     "name": "#%%\n"
    }
   }
  }
 ],
 "metadata": {
  "kernelspec": {
   "display_name": "Python 3",
   "language": "python",
   "name": "python3"
  },
  "language_info": {
   "codemirror_mode": {
    "name": "ipython",
    "version": 2
   },
   "file_extension": ".py",
   "mimetype": "text/x-python",
   "name": "python",
   "nbconvert_exporter": "python",
   "pygments_lexer": "ipython2",
   "version": "2.7.6"
  }
 },
 "nbformat": 4,
 "nbformat_minor": 0
}