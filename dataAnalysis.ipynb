{
 "cells": [
  {
   "cell_type": "code",
   "execution_count": 118,
   "outputs": [],
   "source": [
    "from collections import defaultdict\n",
    "\n",
    "import numpy as np\n",
    "import pandas as pd"
   ],
   "metadata": {
    "collapsed": false,
    "pycharm": {
     "name": "#%%\n"
    }
   }
  },
  {
   "cell_type": "code",
   "execution_count": 119,
   "outputs": [
    {
     "name": "stdout",
     "output_type": "stream",
     "text": [
      "{\"Our app accesses GPS location and sends it to our server.\\n\\n\\n\\n\\nPlease select how you would report our app's data practices regarding GPS location.\": 'Collected', \"Our app accesses GPS location and sends it to our server via libraries and/or SDKs included in our app.\\n\\n\\n\\n\\nPlease select how you would report our app's data practices regarding GPS location.\": 'Collected', \"Our app directly opens our own website in a webview, our website then accesses the user's GPS location through the webview, and sends it to our server.\\n\\n\\n\\n\\n \\n\\n\\n\\n\\nPlease select how you would report your app's data practices regarding GPS location.\": 'Collected', \"Our app allows users to navigate the open web via a webview. When the user opens google.com, it accesses the user's GPS location and sends the GPS location to Google's server.\\n\\n\\n\\n\\n \\n\\n\\n\\n\\nPlease select how you would report our app's data practices regarding GPS location.\": 'Neither', \"Our app sends the user's GPS location to our server to search for nearby places but does not store the GPS location after serving the request.\\n\\n\\n\\n\\nPlease select how you would report our app's data practices regarding the user's GPS location.\": 'Collected', \"Our app requests for the user's full name and only sends the pseudonymized name to our server. (A pseudonymized name does not allow the individual to be directly identified, but it can be re-associated with the user if additional information is provided)\\nPlease select how you would report our app's data practices regarding the user's full name.\": 'Collected', \"Our app accesses and processes the user's GPS location directly on the user’s device. The data never leaves the device.\\n\\n\\n\\n\\nPlease select how you would report our app's data practices regarding the user's GPS location.\": 'Neither', \"Our app encrypts the user’s message before it is sent to another user, where it is decrypted.\\nPlease select how you would report our app's data practices regarding the user's messages.\": 'Neither', \"Our app encrypts the user’s bank account information and sends it to our server.\\n\\n\\n\\n\\nPlease select how you would report our app's data practices regarding the user's bank account information.\": 'Collected', \"Our app asks for a user's birthday for marketing communication, but that info is not required – the user can still sign up without providing that information.\\nPlease select how you would report our app's data practices regarding the user's birthday.\": 'Collected', \"Our app accesses GPS location and sends it to a third party server.\\n\\n\\n\\n\\nPlease select how you would report our app's data practices regarding GPS location.\": 'Both', \"We send the user's GPS location stored on our server to a third party server.\\n\\n\\n\\n\\nPlease select how you would report our app's data practices regarding GPS location.\": 'Both', \"Our app accesses GPS location and sends it to another app directly on the device. The data never leaves the device.\\n(This is feasible because an app can use an Intent to perform some basic interactions with other apps, including sending data)\\n\\n\\n\\n\\n\\n\\n\\n\\nPlease select how you would report your app's data practices regarding GPS location.\": 'Shared', \"Our app accesses GPS location and sends it directly to a third party server via libraries and/or SDKs included in our app.\\n\\n\\n\\n\\nPlease select how you would report our app's data practices regarding GPS location.\": 'Both', \"Our app directly opens our own website in a webview, our website accesses the GPS location through the webview, and sends it to a third party server.\\n\\n\\n\\n\\n \\n\\n\\n\\n\\nPlease select how you would report your app's data practices regarding GPS location.\": 'Both', \"Our app allows users to navigate the open web via a webview. When the user opens google.com, it accesses the user's GPS location and sends the GPS location to a third party server.\\n\\n\\n\\n\\n \\n\\n\\n\\n\\nPlease select how you would report our app's data practices regarding GPS location.\": 'Neither', \"Our app accesses GPS location and sends it off the device to Google Maps to get real-time traffic updates. (Assume that Google doesn't use the GPS location for other purposes)\\n\\n\\n\\n\\nPlease select how you would report our app's data practices regarding the user's GPS location.\": 'Collected', \"Our app accesses GPS location and stores it on Google's server using Google Cloud Storage. (Assume that Google doesn't use the GPS location for other purposes)\\n\\n\\n\\n\\nPlease select how you would report our app's data practices regarding the user's GPS location.\": 'Collected', \"Our app accesses the user’s GPS location and sends it to government agencies in response to a legal request.\\n\\n\\n\\n\\nPlease select how you would report our app's data practices regarding the user's GPS location.\": 'Collected', \"Our app's user explicitly initiates an action that sends their full name to a third party server.\\n\\n\\n\\n\\nPlease select how you would report your app's data practices regarding the user's full name.\": 'Collected', \"Our app sends the user's full name to a third party server after obtaining the user's consent to it.\\n\\n\\n\\n\\nPlease select how you would report your app's data practices regarding the user's full name.\": 'Collected', \"Our app sends the user's medical records that have been fully anonymized to a third party server.\\n\\n\\n\\n\\nPlease select how you would report your app's data practices regarding the user's medical records.\": 'Collected', 'This is an attention check. Please go ahead and select the option that begins with \"N\".': 'Neither', \"Our map app utilizes the user's location data to get real-time traffic updates\": 'App functionality', \"Our app collects the user's email address for log-in purposes\": 'App functionality', 'Our app collects information required to discern how many users utilized the real-time weather forecasting feature of the app.': 'Analytics', 'Our app collects data in order to monitor how often the app crashes and what events trigger crashes.': 'Analytics', 'Our app collects and utilizes user email addresses in order to send announcements about new app features.': 'Developer communications', 'Our app collects user contact information to inform users about security patches.': 'Developer communications', 'Our shopping app collects user email addresses in order to send users coupons.': 'Advertising or marketing', \"Our app shares the user's information with advertising partners to select ads of interest to each user.\": 'Advertising or marketing', \"Our app utilizes the user device's MAC address in order to isolate suspicious login attempts from new devices.\": 'Fraud prevention, security, and compliance', \"Our shopping app collects data related to the user's previous purchases to suggest new products on our site that might appeal to them.\": 'Personalization', 'Our podcast app collects data about podcasts each user has listened to in order to suggest podcasts the user might like.': 'Personalization', \"Our weather app utilizes the user's location data to deliver information related to the air quality in their current area.\": 'Personalization', 'Our app requires that the user provide their phone number, home address, and birthday in order to create a new in-app account.': 'Account management', \"Our app collects the user's email in order to allow the user to update the account ID they use across all apps created by the same developer.\": 'Account management', 'Our app requests that the user provide their email address in order to validate their identity for account creation.': 'Account management', 'This is an attention check. Please go ahead and select the option that begins with \"P\".': 'Personalization', 'This is an attention check. Please go ahead and select the option that begins with \"H\".': 'Health and Fitness', 'user/device physical location to area greater than or equal to three square kilometers': 'Location', \"location provided by Android's ACCESS_COARSE_LOCATION\": 'Location', 'user or device physical location within an area less than 3 square kilometers': 'Location', 'location provided by Android’s ACCESS_FINE_LOCATION.': 'Location', \"the user's name\": 'Personal Information', \"the user's personal email address\": 'Personal Information', \"the user's account ID\": 'Personal Information', \"the user's account name\": 'Personal Information', \"the user's account number\": 'Personal Information', \"the user's mailing or home address\": 'Personal Information', \"the user's personal phone number\": 'Personal Information', \"the user's race or ethnicity\": 'Personal Information', \"the user's political beliefs\": 'Personal Information', \"the user's religious beliefs\": 'Personal Information', \"the user's sexual orientation\": 'Personal Information', \"the user's date of birth\": 'Personal Information', \"the user's gender identity\": 'Personal Information', \"the user's veteran status\": 'Personal Information', \"the user's credit card number\": 'Financial Information', \"the user's debit card number\": 'Financial Information', \"the user's bank account number\": 'Financial Information', \"the user's purchase history\": 'Financial Information', \"the user's credit score\": 'Financial Information', \"the user's credit history\": 'Financial Information', \"the user's debts\": 'Financial Information', \"the user's salary\": 'Financial Information', \"the user's medical records\": 'Health and Fitness', \"the user's reported symptoms (when sick)\": 'Health and Fitness', \"the user's reported exercise/physical activity\": 'Health and Fitness', 'the subject line of an email sent or received by the user': 'Messages', 'the sender of an email received by the user': 'Messages', 'the recipients of an email sent by the user': 'Messages', 'the content of an email sent or received by the user': 'Messages', 'the content of a SMS and MMS message sent or received by the user': 'Messages', 'the recipient(s) of a SMS and MMS message sent by the user': 'Messages', 'the sender of a SMS and MMS message received by a user': 'Messages', 'the content of instant messages/chats sent or received by the user': 'Messages', \"the user's photos\": 'Photos or Videos', \"the user's videos\": 'Photos or Videos', \"the user's voicemails\": 'Audio Files', 'sound recordings created by the user': 'Audio Files', \"the user's music files\": 'Audio Files', \"in a cloud storage app that you have designed, the user's files\": 'Files and docs', \"the user's documents\": 'Files and docs', \"names of the user's files and documents\": 'Files and docs', \"the user's calendar event notes\": 'Calendar', \"the user's calendar events\": 'Calendar', \"attendees of the user's calendar events\": 'Calendar', \"names of the user's contacts\": 'Contacts', \"the user's message history with their contacts\": 'Contacts', \"usernames of the user's contacts\": 'Contacts', \"information about the user's contact recency\": 'Contacts', \"information related to the user's contact frequency\": 'Contacts', \"information related to the user's  interaction duration with their contacts\": 'Contacts', \"the user's call history\": 'Contacts', 'number of page views by the user in the app': 'App Activity', \"coordinates of the user's taps in the app\": 'App Activity', \"the user's search history (in-app)\": 'App Activity', 'installed apps on user device': 'App Activity', \"in a social media app that you have designed, the user's notes\": 'App Activity', \"in a social media app you have designed, the user's notes\": 'App Activity', \"in a social media app that you have designed, the user's provided personal bio\": 'App Activity', \"the user's gameplay\": 'App Activity', \"in a social media app that you have designed, the user's likes\": 'App Activity', 'number of times app has crashed': 'App Information and Performance', 'stack traces for the app': 'App Information and Performance', \"the user's selection from in-app dialog options.\": 'App Information and Performance', 'battery life when app is in use': 'App Information and Performance', 'loading time of the app': 'App Information and Performance', \"the app's framerate\": 'App Information and Performance', 'the latency of the app': 'App Information and Performance', 'technical diagnostics for the app': 'App Information and Performance', 'IMEI number': 'Device or Other Identifiers', 'MAC address': 'Device or Other Identifiers', 'Widevine Device ID': 'Device or Other Identifiers', 'Firebase installation ID': 'Device or Other Identifiers', \"the app's advertising identifier\": 'Device or Other Identifiers', \"the user's website browsing history\": 'Web Browsing'}\n"
     ]
    }
   ],
   "source": [
    "#get answers from csv\n",
    "a_dict = dict()\n",
    "answers = pd.read_csv('answers.csv')\n",
    "questions = answers.loc[:,\"Example Scenario in Survey\"]\n",
    "correct = answers.loc[:,\"Correct Answer\"]\n",
    "for i in range(0, len(questions)):\n",
    "    cq = str(questions[i]).strip()\n",
    "    ca = str(correct[i]).strip()\n",
    "    a_dict[cq] = str(ca)"
   ],
   "metadata": {
    "collapsed": false,
    "pycharm": {
     "name": "#%%\n"
    }
   }
  },
  {
   "cell_type": "code",
   "execution_count": 120,
   "outputs": [],
   "source": [
    "#dataframe raw responses\n",
    "df = pd.read_csv('responses.csv')\n",
    "#optional questions should not be collected\n",
    "ignore = {\"Q200\", \"Q629\", \"Q1051\", \"Q227\", \"Q1052\", \"Q254.1\", \"Q549\", \"Q1053\", \"Q401.1\",  \"Q202\", \"Q229\"}\n",
    "#drop QID row\n",
    "df = df.drop(labels=1, axis=0)\n",
    "\n",
    "#match question ids to question text\n",
    "descriptionsDict = dict()\n",
    "start = df.columns.get_loc(\"Q176\")\n",
    "end = df.columns.get_loc(\"QID1054\")\n",
    "for i in range(start, end + 1, 1):\n",
    "    key = df.columns[i]\n",
    "    if key not in ignore:\n",
    "        descriptionsDict[key] = df.iat[0, i]"
   ],
   "metadata": {
    "collapsed": false,
    "pycharm": {
     "name": "#%%\n"
    }
   }
  },
  {
   "cell_type": "code",
   "execution_count": 121,
   "outputs": [],
   "source": [
    "#categorize questions by type\n",
    "section1 = set()\n",
    "section2 = set()\n",
    "section3 = set()\n",
    "attentionChecks = set()\n",
    "for question in descriptionsDict:\n",
    "    if 'attention check. Please go ahead and select the option that begins with \"N\".' in descriptionsDict[question]:\n",
    "        section1.add(question)\n",
    "        attentionChecks.add(question)\n",
    "    if 'attention check. Please go ahead and select the option that begins with \"H\".' in descriptionsDict[question]:\n",
    "        section2.add(question)\n",
    "        attentionChecks.add(question)\n",
    "    if 'attention check. Please go ahead and select the option that begins with \"P\".' in descriptionsDict[question]:\n",
    "        section3.add(question)\n",
    "        attentionChecks.add(question)\n",
    "    if \"collection and sharing\" in descriptionsDict[question]:\n",
    "        section1.add(question)\n",
    "    if \"user data type\" in descriptionsDict[question]:\n",
    "        section2.add(question)\n",
    "    if \"Why\" in descriptionsDict[question]:\n",
    "        section3.add(question)\n",
    "typeDict = dict()\n",
    "count = 0\n",
    "start = df.columns.get_loc(\"Q176\")\n",
    "end = df.columns.get_loc(\"QID1054\")\n",
    "for i in range(start, end + 1, 1):\n",
    "    key = df.columns[i]\n",
    "    if key in ignore:\n",
    "        continue\n",
    "    if key in section1:\n",
    "        entry = 1\n",
    "    elif key in section2:\n",
    "        entry = 2\n",
    "    elif key in section3:\n",
    "        entry = 3\n",
    "    typeDict[key] = entry"
   ],
   "metadata": {
    "collapsed": false,
    "pycharm": {
     "name": "#%%\n"
    }
   }
  },
  {
   "cell_type": "code",
   "execution_count": 122,
   "outputs": [],
   "source": [
    "#get correct answers for each question (based on ID)\n",
    "correctAnswerDict = dict()\n",
    "for question in descriptionsDict:\n",
    "    search_key = descriptionsDict[question]\n",
    "    if \"Data usage scenario:\" in search_key:\n",
    "        search_key = search_key.replace(\"Data usage scenario:\", \"\")\n",
    "    if \"Our app collects:\" in search_key:\n",
    "        search_key = search_key.replace(\"Our app collects:\", \"\")\n",
    "    if \"Select\" in search_key:\n",
    "        end = search_key.index(\"Select\")\n",
    "        search_key = search_key[1:end-1].strip()\n",
    "    elif \"Why\" in search_key:\n",
    "        end = search_key.index(\"Why\")\n",
    "        search_key = search_key[1:end-1].strip()\n",
    "    elif \"Is\" in search_key:\n",
    "        end = search_key.index(\"Is\")\n",
    "        search_key = search_key[1:end-1].strip()\n",
    "    else:\n",
    "        end = len(search_key)\n",
    "        search_key = search_key[1:end-1].strip()\n",
    "    if search_key[-1] == \".\":\n",
    "        search_key = search_key[:-1]\n",
    "    if search_key in a_dict:\n",
    "        correctAnswerDict[question] = a_dict[search_key]\n",
    "    else:\n",
    "        for key in a_dict:\n",
    "            if search_key in key:\n",
    "                    correctAnswerDict[question] = a_dict[key]\n",
    "                    break"
   ],
   "metadata": {
    "collapsed": false,
    "pycharm": {
     "name": "#%%\n"
    }
   }
  },
  {
   "cell_type": "code",
   "execution_count": 142,
   "outputs": [],
   "source": [
    "#potential answers, for indexing\n",
    "collection = ['Collected', 'Shared', 'Both', 'Neither']\n",
    "types = ['Location', 'Personal Information', 'Financial Information', 'Health and Fitness', 'Messages', 'Photos or Videos', 'Audio Files', 'Files and docs', 'Calendar', 'Contacts', 'App Activity', 'Web Browsing', 'App Information and Performance', 'Device or Other Identifiers', 'None of the Above']\n",
    "purpose = ['App functionality', 'Analytics', 'Developer communications', 'Advertising or marketing', 'Fraud prevention, security, and compliance', 'Personalization', 'Account management', 'None of the Above']\n",
    "ignore = {\"Q200\", \"Q629\", \"Q1051\", \"Q227\", \"Q1052\", \"Q254.1\", \"Q549\", \"Q1053\", \"Q401.1\",  \"Q202\", \"Q229\"}\n",
    "\n",
    "#calculating index of correct answer\n",
    "answerDict = defaultdict(str)\n",
    "indexGivenDict = defaultdict(str)\n",
    "indexExpectedDict = defaultdict(str)\n",
    "rowIds = []\n",
    "start = df.columns.get_loc(\"Q176\")\n",
    "end = df.columns.get_loc(\"QID1054\")\n",
    "count1 = 0\n",
    "count2 = 0\n",
    "count3 = 0\n",
    "#participants who did not pass the attention check\n",
    "remove = set()\n",
    "count = 0\n",
    "start = df.columns.get_loc(\"Q176\")\n",
    "end = df.columns.get_loc(\"QID1054\")\n",
    "for i in range(start, end+1, 1):\n",
    "    for j in range(1, len(df.iloc[:, 0])):\n",
    "        participantId = df.iat[j, df.columns.get_loc(\"Q162\")]\n",
    "        questionId = df.columns[i]\n",
    "        if questionId in ignore:\n",
    "            continue\n",
    "        rowId = (participantId, questionId)\n",
    "        if questionId not in attentionChecks:\n",
    "            rowIds.append(rowId)\n",
    "        answer = str(df.iat[j, i])\n",
    "        if answer == \"nan\":\n",
    "            answerDict[rowId] = \"\"\n",
    "            continue\n",
    "        answer = str(answer).strip()\n",
    "        if answer in collection or answer in types or answer in purpose:\n",
    "            answer = answer\n",
    "        else:\n",
    "            if typeDict[questionId] == 1:\n",
    "                for word in collection:\n",
    "                    if answer[0:6] in word:\n",
    "                        answer = word\n",
    "            elif typeDict[questionId] == 2:\n",
    "                for word in types:\n",
    "                    if answer[0:9] in word:\n",
    "                        answer = word\n",
    "            elif typeDict[questionId] == 3:\n",
    "                for word in purpose:\n",
    "                    if answer[0:9] in word:\n",
    "                        answer = word\n",
    "        if answer not in collection and answer not in types and answer not in purpose:\n",
    "            continue\n",
    "        answerDict[rowId] = str(answer)\n",
    "        #remove questions that don't pass the attentionChecks\n",
    "        if questionId in attentionChecks:\n",
    "            if answer != correctAnswerDict[questionId]:\n",
    "                remove.add(participantId)\n",
    "            continue\n",
    "        if typeDict[questionId] == 1:\n",
    "            index_given = collection.index(answer)\n",
    "            index_expected = collection.index(correctAnswerDict[questionId])\n",
    "            count1 += 1\n",
    "        elif typeDict[questionId] == 2:\n",
    "            index_given = types.index(answer)\n",
    "            index_expected = types.index(correctAnswerDict[questionId])\n",
    "            count2 += 1\n",
    "        else:\n",
    "            index_given = purpose.index(answer)\n",
    "            index_expected = purpose.index(correctAnswerDict[questionId])\n",
    "            count3 += 1\n",
    "        indexGivenDict[rowId] = index_given\n",
    "        indexExpectedDict[rowId] = index_expected"
   ],
   "metadata": {
    "collapsed": false,
    "pycharm": {
     "name": "#%%\n"
    }
   }
  },
  {
   "cell_type": "code",
   "execution_count": 143,
   "outputs": [
    {
     "data": {
      "text/plain": "'condition'"
     },
     "execution_count": 143,
     "metadata": {},
     "output_type": "execute_result"
    }
   ],
   "source": [
    "#get condition\n",
    "conditionDict = dict()\n",
    "for j in range(0, len(df.iloc[:, 0]), 1):\n",
    "    conditionDict[df.iat[j, df.columns.get_loc(\"Q162\")]] = df.iat[j, -1]\n",
    "conditionDict.pop('What is your Prolific ID?')"
   ],
   "metadata": {
    "collapsed": false,
    "pycharm": {
     "name": "#%%\n"
    }
   }
  },
  {
   "cell_type": "code",
   "execution_count": 145,
   "outputs": [],
   "source": [
    "#generating dataframe columns\n",
    "results = pd.DataFrame()\n",
    "participantIds = [p for p, q in rowIds]\n",
    "questionIds = [q for p, q in rowIds]\n",
    "descriptions = [descriptionsDict[q] for q in questionIds]\n",
    "types = [typeDict[q] for q in questionIds]\n",
    "answers = [answerDict[(p, q)] for p, q in zip(participantIds, questionIds)]\n",
    "correctAnswers = [correctAnswerDict[q] for q in questionIds]\n",
    "conditions = [conditionDict[p] for p in participantIds]\n",
    "givenIndices = [indexGivenDict[(p, q)] for p, q in zip(participantIds, questionIds)]\n",
    "expectedIndices = [indexExpectedDict[(p, q)] for p, q in zip(participantIds, questionIds)]\n",
    "\n",
    "results['Question ID'] = questionIds\n",
    "results['Participant ID'] = participantIds\n",
    "results['Description'] = descriptions\n",
    "results['Answer'] = answers\n",
    "results['Correct Answer'] = correctAnswers\n",
    "results['Question Type'] = types\n",
    "results['Prompt Condition'] = conditions\n",
    "results['Answer Index'] = givenIndices\n",
    "results['Correct Answer Index'] = expectedIndices\n",
    "# filter out rows with empty answers (i.e., not selected in the study)\n",
    "results = results[results[\"Answer\"] != \"\"]\n",
    "#remove rows that don't pass the attentionChecks\n",
    "results = results[~results[\"Participant ID\"].isin(remove)]\n",
    "results['Correctness'] = (results['Answer'] == results['Correct Answer']).apply(lambda v: 1 if v else 0)\n",
    "\n",
    "results['Order Difference'] =\\\n",
    "    (results['Answer Index'] - results['Correct Answer Index']).apply(lambda v: 0 if v == 0 else 1 if v > 0 else -1)"
   ],
   "metadata": {
    "collapsed": false,
    "pycharm": {
     "name": "#%%\n"
    }
   }
  },
  {
   "cell_type": "code",
   "execution_count": 146,
   "outputs": [],
   "source": [
    "#export to csv\n",
    "results.to_csv(\"output.csv\")"
   ],
   "metadata": {
    "collapsed": false,
    "pycharm": {
     "name": "#%%\n"
    }
   }
  },
  {
   "cell_type": "code",
   "execution_count": null,
   "outputs": [],
   "source": [],
   "metadata": {
    "collapsed": false,
    "pycharm": {
     "name": "#%%\n"
    }
   }
  }
 ],
 "metadata": {
  "kernelspec": {
   "display_name": "Python 3",
   "language": "python",
   "name": "python3"
  },
  "language_info": {
   "codemirror_mode": {
    "name": "ipython",
    "version": 2
   },
   "file_extension": ".py",
   "mimetype": "text/x-python",
   "name": "python",
   "nbconvert_exporter": "python",
   "pygments_lexer": "ipython2",
   "version": "2.7.6"
  }
 },
 "nbformat": 4,
 "nbformat_minor": 0
}