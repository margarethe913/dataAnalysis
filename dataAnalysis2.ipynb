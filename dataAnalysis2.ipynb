{
 "cells": [
  {
   "cell_type": "code",
   "execution_count": 386,
   "outputs": [],
   "source": [
    "from collections import defaultdict\n",
    "\n",
    "import numpy as np\n",
    "import pandas as pd"
   ],
   "metadata": {
    "collapsed": false,
    "pycharm": {
     "name": "#%%\n"
    }
   }
  },
  {
   "cell_type": "code",
   "execution_count": 387,
   "outputs": [],
   "source": [
    "#get answers\n",
    "a_dict = dict()\n",
    "answers = pd.read_csv('answers.csv')\n",
    "questions = answers.loc[:,\"Example Scenario in Survey\"]\n",
    "correct = answers.loc[:,\"Correct Answer\"]\n",
    "for i in range(0, len(questions)):\n",
    "    a_dict[str(questions[i])] = str(correct[i])\n"
   ],
   "metadata": {
    "collapsed": false,
    "pycharm": {
     "name": "#%%\n"
    }
   }
  },
  {
   "cell_type": "code",
   "execution_count": 388,
   "outputs": [],
   "source": [
    "df = pd.read_csv('responses.csv')\n",
    "ignore = {\"Q629\", \"Q1051\", \"Q227\", \"Q401\", \"Q1052\", \"Q549\", \"Q1053\", \"Q200\", \"Q401.1\", \"Q254.1\", \"Q202\", \"Q229\"}\n",
    "df = df.drop(labels=1, axis=0)\n",
    "\n",
    "#match question ids to question text\n",
    "descriptionsDict = dict()\n",
    "start = df.columns.get_loc(\"Q176\")\n",
    "end = df.columns.get_loc(\"QID1054\")\n",
    "for i in range(start, end + 1, 1):\n",
    "    key = df.columns[i]\n",
    "    if key in ignore:\n",
    "        continue\n",
    "    else:\n",
    "        descriptionsDict[key] = df.iat[0, i]\n",
    "\n",
    "\n"
   ],
   "metadata": {
    "collapsed": false,
    "pycharm": {
     "name": "#%%\n"
    }
   }
  },
  {
   "cell_type": "code",
   "execution_count": 415,
   "outputs": [
    {
     "name": "stdout",
     "output_type": "stream",
     "text": [
      "350\n"
     ]
    }
   ],
   "source": [
    "#categorize questions by type\n",
    "section1 = set()\n",
    "section2 = set()\n",
    "section3 = set()\n",
    "for question in descriptionsDict:\n",
    "    if 'attention check. Please go ahead and select the option that begins with \"N\".' in descriptionsDict[question]:\n",
    "        section1.add(question)\n",
    "    elif 'attention check. Please go ahead and select the option that begins with \"H\".' in descriptionsDict[question]:\n",
    "        section2.add(question)\n",
    "    elif 'attention check. Please go ahead and select the option that begins with \"P\".' in descriptionsDict[question]:\n",
    "        section3.add(question)\n",
    "    elif \"collection and sharing\" in descriptionsDict[question]:\n",
    "        section1.add(question)\n",
    "    elif \"Our app collects:\" in descriptionsDict[question]:\n",
    "        section2.add(question)\n",
    "    elif \"Why\" in descriptionsDict[question]:\n",
    "        section3.add(question)\n",
    "typeDict = dict()\n",
    "count = 0\n",
    "start = df.columns.get_loc(\"Q176\")\n",
    "end = df.columns.get_loc(\"QID1054\")\n",
    "for i in range(start, end + 1, 1):\n",
    "    key = df.columns[i]\n",
    "    if key in ignore:\n",
    "        continue\n",
    "    if key in section1:\n",
    "        entry = 1\n",
    "    elif key in section2:\n",
    "        entry = 2\n",
    "    elif key in section3:\n",
    "        entry = 3\n",
    "    typeDict[key] = entry"
   ],
   "metadata": {
    "collapsed": false,
    "pycharm": {
     "name": "#%%\n"
    }
   }
  },
  {
   "cell_type": "code",
   "execution_count": 413,
   "outputs": [
    {
     "name": "stdout",
     "output_type": "stream",
     "text": [
      "350\n"
     ]
    }
   ],
   "source": [
    "#get correct answers for each question (based on ID)\n",
    "correctAnswerDict = dict()\n",
    "for question in descriptionsDict:\n",
    "    search_key = descriptionsDict[question]\n",
    "    if \"Data usage scenario:\" in search_key:\n",
    "        search_key = search_key.replace(\"Data usage scenario:\", \"\")\n",
    "    if \"Our app collects:\" in search_key:\n",
    "        search_key = search_key.replace(\"Our app collects:\", \"\")\n",
    "    if \"Select\" in search_key:\n",
    "        end = search_key.index(\"Select\")\n",
    "    elif \"Why\" in search_key:\n",
    "        end = search_key.index(\"Why\")\n",
    "    elif \"Is\" in search_key:\n",
    "        end = search_key.index(\"Is\")\n",
    "    else:\n",
    "        end = len(search_key)\n",
    "    search_key = search_key[1:end-1].strip()\n",
    "    if search_key[-1] == \".\":\n",
    "        search_key = search_key[:-1]\n",
    "    if search_key in a_dict:\n",
    "        correctAnswerDict[question] = a_dict[search_key]\n",
    "    else:\n",
    "        for key in a_dict:\n",
    "            if search_key in key:\n",
    "                    correctAnswerDict[question] = a_dict[key]\n",
    "                    break\n"
   ],
   "metadata": {
    "collapsed": false,
    "pycharm": {
     "name": "#%%\n"
    }
   }
  },
  {
   "cell_type": "code",
   "execution_count": 447,
   "outputs": [
    {
     "name": "stdout",
     "output_type": "stream",
     "text": [
      "0\n",
      "2100\n",
      "350\n"
     ]
    }
   ],
   "source": [
    "\n",
    "collection = ['Collected', 'Shared', 'Both', 'Neither']\n",
    "types = ['Location', 'Personal Information', 'Financial Information', 'Health and Fitness', 'Messages', 'Photos or Videos', 'Audio Files', 'Files and docs', 'Calendar', 'Contacts', 'App Activity', 'Web Browsing', 'App Information and Performance', 'Device or Other Identifiers', 'None of the Above']\n",
    "purpose = ['App functionality', 'Analytics', 'Developer communications', 'Advertising or marketing', 'Fraud prevention, security, and compliance', 'Personalization', 'Account management', 'None of the Above']\n",
    "#calculating index of correct answer\n",
    "answerDict = defaultdict(str)\n",
    "indexGivenDict = defaultdict(str)\n",
    "indexExpectedDict = defaultdict(str)\n",
    "attentionChecks = {\"Q203\", \"Q326\", \"Q892\", \"Q176\", \"Q554\", \"Q871\", \"Q230\", \"Q474\", \"Q944\"}\n",
    "rowIds = []\n",
    "start = df.columns.get_loc(\"Q176\")\n",
    "end = df.columns.get_loc(\"QID1054\")\n",
    "\n",
    "remove = set()\n",
    "count = 0\n",
    "for i in range(start, end+1, 1):\n",
    "    for j in range(1, len(df.iloc[:, 0]), 1):\n",
    "        participantId = df.iat[j, df.columns.get_loc(\"Q162\")]\n",
    "        questionId = df.columns[i]\n",
    "        if questionId in ignore:\n",
    "            continue\n",
    "        rowId = (participantId, questionId)\n",
    "        rowIds.append(rowId)\n",
    "        answer = str(df.iat[j, i])\n",
    "        if answer == \"nan\":\n",
    "            answerDict[rowId] = \"\"\n",
    "            continue\n",
    "        if isinstance(answer, str):\n",
    "            answer = answer.strip()\n",
    "        if answer in collection or answer in types or answer in purpose:\n",
    "            answer = answer\n",
    "        else:\n",
    "            for word in collection:\n",
    "                if answer[0:9] in word:\n",
    "                    answer = word\n",
    "            for word in types:\n",
    "                if answer[0:9] in word:\n",
    "                    answer = word\n",
    "            for word in purpose:\n",
    "                if answer[0:9] in word:\n",
    "                    answer = word\n",
    "        if answer not in collection and answer not in types and answer not in purpose:\n",
    "                if answer[0:6] ==\"Shared\" :\n",
    "                    answer = \"Shared\"\n",
    "                else:\n",
    "                    continue\n",
    "        answerDict[rowId] = answer\n",
    "\n",
    "        #remove questions that don't pass the attentionChecks\n",
    "        if questionId in attentionChecks:\n",
    "            if answer[0:10] not in correctAnswerDict[questionId]:\n",
    "                remove.add(participantId)\n",
    "        if typeDict[questionId] == 1:\n",
    "            index_given = collection.index(answer)\n",
    "            index_expected = collection.index(correctAnswerDict[questionId])\n",
    "        elif typeDict[questionId] == 2:\n",
    "            index_given = types.index(answer)\n",
    "            index_expected = types.index(correctAnswerDict[questionId])\n",
    "        else:\n",
    "            index_given = purpose.index(answer)\n",
    "            index_expected = purpose.index(correctAnswerDict[questionId])\n",
    "        indexGivenDict[rowId] = index_given\n",
    "        indexExpectedDict[rowId] = index_expected\n"
   ],
   "metadata": {
    "collapsed": false,
    "pycharm": {
     "name": "#%%\n"
    }
   }
  },
  {
   "cell_type": "code",
   "execution_count": 448,
   "outputs": [
    {
     "data": {
      "text/plain": "'condition'"
     },
     "execution_count": 448,
     "metadata": {},
     "output_type": "execute_result"
    }
   ],
   "source": [
    "#get condition\n",
    "conditionDict = dict()\n",
    "for j in range(0, len(df.iloc[:, 0]), 1):\n",
    "    conditionDict[df.iat[j, df.columns.get_loc(\"Q162\")]] = df.iat[j, -1]\n",
    "conditionDict.pop('What is your Prolific ID?')"
   ],
   "metadata": {
    "collapsed": false,
    "pycharm": {
     "name": "#%%\n"
    }
   }
  },
  {
   "cell_type": "code",
   "execution_count": 451,
   "outputs": [
    {
     "name": "stdout",
     "output_type": "stream",
     "text": [
      "     Question ID            Participant ID  \\\n",
      "3           Q176  60e89af0e29741df45bbef1f   \n",
      "4           Q176  5ea171c1a8782801263e7540   \n",
      "10          Q177  5ea171c1a8782801263e7540   \n",
      "15          Q254  60e89af0e29741df45bbef1f   \n",
      "27          Q257  60e89af0e29741df45bbef1f   \n",
      "...          ...                       ...   \n",
      "2087       Q1047  5ef48ebd234db60612e99516   \n",
      "2090       Q1048  5f38c9aa0c68ee3f7c72f7b4   \n",
      "2093       Q1048  5ef48ebd234db60612e99516   \n",
      "2096     QID1054  5f38c9aa0c68ee3f7c72f7b4   \n",
      "2099     QID1054  5ef48ebd234db60612e99516   \n",
      "\n",
      "                                            Description  \\\n",
      "3     This is an attention check. Please go ahead an...   \n",
      "4     This is an attention check. Please go ahead an...   \n",
      "10    Data usage scenario: Our app accesses GPS loca...   \n",
      "15    Data usage scenario: Our app accesses GPS loca...   \n",
      "27    Data usage scenario: Our app accesses GPS loca...   \n",
      "...                                                 ...   \n",
      "2087  Data usage scenario: Our app collects the user...   \n",
      "2090  Data usage scenario: Our app requests that the...   \n",
      "2093  Data usage scenario: Our app requests that the...   \n",
      "2096  Data usage scenario: Our app requires that the...   \n",
      "2099  Data usage scenario: Our app requires that the...   \n",
      "\n",
      "                                          Answer      Correct Answer  \\\n",
      "3                                        Neither             Neither   \n",
      "4                                        Neither             Neither   \n",
      "10                                          Both                Both   \n",
      "15                                     Collected           Collected   \n",
      "27                                     Collected              Shared   \n",
      "...                                          ...                 ...   \n",
      "2087                          Account management  Account management   \n",
      "2090                           App functionality  Account management   \n",
      "2093  Fraud prevention, security, and compliance  Account management   \n",
      "2096                          Account management  Account management   \n",
      "2099                          Account management  Account management   \n",
      "\n",
      "      Question Type Prompt Condition Answer Index Correct Answer Index  \\\n",
      "3                 1                1            3                    3   \n",
      "4                 1                1            3                    3   \n",
      "10                1                1            2                    2   \n",
      "15                1                1            0                    0   \n",
      "27                1                1            0                    1   \n",
      "...             ...              ...          ...                  ...   \n",
      "2087              3                3            6                    6   \n",
      "2090              3                3            0                    6   \n",
      "2093              3                3            4                    6   \n",
      "2096              3                3            6                    6   \n",
      "2099              3                3            6                    6   \n",
      "\n",
      "      Correctness  Order Difference  \n",
      "3               1                 0  \n",
      "4               1                 0  \n",
      "10              1                 0  \n",
      "15              1                 0  \n",
      "27              0                -1  \n",
      "...           ...               ...  \n",
      "2087            1                 0  \n",
      "2090            0                -1  \n",
      "2093            0                -1  \n",
      "2096            1                 0  \n",
      "2099            1                 0  \n",
      "\n",
      "[256 rows x 11 columns]\n"
     ]
    }
   ],
   "source": [
    "results = pd.DataFrame()\n",
    "participantIds = [p for p, q in rowIds]\n",
    "questionIds = [q for p, q in rowIds]\n",
    "descriptions = [descriptionsDict[q] for q in questionIds]\n",
    "types = [typeDict[q] for q in questionIds]\n",
    "answers = [answerDict[(p, q)] for p, q in zip(participantIds, questionIds)]\n",
    "correctAnswers = [correctAnswerDict[q] for q in questionIds]\n",
    "conditions = [conditionDict[p] for p in participantIds]\n",
    "givenIndices = [indexGivenDict[(p, q)] for p, q in zip(participantIds, questionIds)]\n",
    "expectedIndices = [indexExpectedDict[(p, q)] for p, q in zip(participantIds, questionIds)]\n",
    "\n",
    "results['Question ID'] = questionIds\n",
    "results['Participant ID'] = participantIds\n",
    "results['Description'] = descriptions\n",
    "results['Answer'] = answers\n",
    "results['Correct Answer'] = correctAnswers\n",
    "results['Question Type'] = types\n",
    "results['Prompt Condition'] = conditions\n",
    "results['Answer Index'] = givenIndices\n",
    "results['Correct Answer Index'] = expectedIndices\n",
    "results.to_csv(\"weird.csv\")\n",
    "# filter out rows with empty answers (i.e., not selected in the study)\n",
    "results = results[results[\"Answer\"] != \"\"]\n",
    "\n",
    "#remove rows that don't pass the attentionChecks\n",
    "results = results[~results[\"Participant ID\"].isin(remove)]\n",
    "results['Correctness'] = (results['Answer'] == results['Correct Answer']).apply(lambda v: 1 if v else 0)\n",
    "\n",
    "results['Order Difference'] =\\\n",
    "    (results['Answer Index'] - results['Correct Answer Index']).apply(lambda v: 0 if v == 0 else 1 if v > 0 else -1)\n",
    "print(results)"
   ],
   "metadata": {
    "collapsed": false,
    "pycharm": {
     "name": "#%%\n"
    }
   }
  },
  {
   "cell_type": "code",
   "execution_count": 403,
   "outputs": [],
   "source": [
    "results.to_csv(\"output.csv\")"
   ],
   "metadata": {
    "collapsed": false,
    "pycharm": {
     "name": "#%%\n"
    }
   }
  },
  {
   "cell_type": "code",
   "execution_count": null,
   "outputs": [],
   "source": [],
   "metadata": {
    "collapsed": false,
    "pycharm": {
     "name": "#%%\n"
    }
   }
  }
 ],
 "metadata": {
  "kernelspec": {
   "display_name": "Python 3",
   "language": "python",
   "name": "python3"
  },
  "language_info": {
   "codemirror_mode": {
    "name": "ipython",
    "version": 2
   },
   "file_extension": ".py",
   "mimetype": "text/x-python",
   "name": "python",
   "nbconvert_exporter": "python",
   "pygments_lexer": "ipython2",
   "version": "2.7.6"
  }
 },
 "nbformat": 4,
 "nbformat_minor": 0
}