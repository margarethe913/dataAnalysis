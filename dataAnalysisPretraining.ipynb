{
 "cells": [
  {
   "cell_type": "code",
   "execution_count": 1,
   "outputs": [],
   "source": [
    "from collections import defaultdict\n",
    "\n",
    "import numpy as np\n",
    "import pandas as pd"
   ],
   "metadata": {
    "collapsed": false,
    "pycharm": {
     "name": "#%%\n"
    }
   }
  },
  {
   "cell_type": "code",
   "execution_count": 2,
   "outputs": [],
   "source": [
    "#get answers from csv\n",
    "a_dict = dict()\n",
    "answers = pd.read_csv('pretrainingkey.csv')\n",
    "questions = answers.loc[:,\"Example Scenario in Survey\"]\n",
    "correct = answers.loc[:,\"Correct Answer\"]\n",
    "for i in range(0, len(questions)):\n",
    "    cq = str(questions[i]).strip()\n",
    "    ca = str(correct[i]).strip()\n",
    "    a_dict[cq] = str(ca)\n"
   ],
   "metadata": {
    "collapsed": false,
    "pycharm": {
     "name": "#%%\n"
    }
   }
  },
  {
   "cell_type": "code",
   "execution_count": 11,
   "outputs": [
    {
     "name": "stdout",
     "output_type": "stream",
     "text": [
      "{\"ImportId\":\"startDate\",\"timeZone\":\"America/Denver\"}\n",
      "2022-08-25 12:58:26\n",
      "2022-08-25 12:58:26\n",
      "2022-08-25 12:57:30\n",
      "2022-08-25 12:59:30\n",
      "2022-08-25 12:58:08\n",
      "2022-08-25 12:57:46\n",
      "2022-08-25 12:58:17\n",
      "2022-08-25 12:57:46\n",
      "2022-08-25 12:59:23\n",
      "2022-08-25 12:59:09\n",
      "2022-08-25 13:15:38\n",
      "2022-08-25 13:29:59\n",
      "2022-08-27 12:07:54\n",
      "2022-08-27 12:06:53\n",
      "2022-08-27 12:08:17\n",
      "2022-08-27 12:07:19\n",
      "2022-08-27 12:08:20\n",
      "2022-08-27 12:05:46\n",
      "2022-08-27 12:06:10\n",
      "2022-08-27 12:07:05\n",
      "2022-08-27 12:17:25\n",
      "2022-08-27 12:18:37\n",
      "2022-08-27 12:24:55\n",
      "2022-08-27 12:12:40\n",
      "2022-08-27 16:21:02\n",
      "2022-08-27 16:17:42\n",
      "2022-08-27 16:18:23\n",
      "2022-08-27 16:17:54\n",
      "2022-08-27 16:28:03\n",
      "2022-08-27 16:26:24\n",
      "2022-08-27 16:18:18\n",
      "2022-08-27 16:38:46\n",
      "2022-08-27 16:40:18\n",
      "{'Q1-1-2': 'Which of the following instances of webview usage should be reported as data sharing? Please select all that apply.', 'Q1-2-2': 'Which of the following instances of webview usage should be disclosed as  data collection? Please select all that apply.', 'Q1-5-2': 'Which of the following instances of data usage related to service providers should be reported as data sharing? Please select all that apply.', 'Q1-6-2': 'Which of the following instances of optional data handling should be disclosed as data collection? Please select all that apply.', 'Q1-7-2': 'Which of the following instances of data usage related to anonymized data handling should be reported as data sharing? Please select all that apply.', 'Q1-8-2': 'Which of the following instances of data usage should be reported as data sharing? Please select all that apply.', 'Q1-9-2': 'Which of the following instances of data usage in relation to user action should be reported as data sharing? Please select all that apply.', 'Q2-1-1': 'An app opens a webview that allows users to freely search google.com and google.com sends user data to a third party server. Does it need to be disclosed as data sharing?', 'Q2-2-1': \"An app opens a webview that allows users to freely search bing.com which sends user data to Bing's server. Does it need to be disclosed as data collection?\", 'Q2-5-1': \"A GPS app sends user location data off-device to a navigation API, which helps determine the best route as per the app's given instructions. Does it need to be disclosed as data sharing?\", 'Q2-6-1': 'An app asks the user to optionally provide their address for mailing communications and sends this data to a third party server. Does it need to be disclosed as data collection?', 'Q2-7-1': \"An app sends partially anonymized information regarding the user's political orientation to a third party server. This data is able to be re-associated with the user if additional information is provided. Does it need to be disclosed as data sharing?\", 'Q2-8-1': \"An app sends the user's data to a third party for analytics reasons. Does it need to be disclosed as data sharing?\", 'Q2-9-1': \"An app sends the user's location data to a weather API after receiving the user's explicit consent to be processed. The API does not do anything else with the data. Does it need to be disclosed as data sharing?\", 'Q203': 'This is an attention check. Please go ahead and select the option that begins with \"N\".', 'Q205': 'Data usage scenario: Our app accesses GPS location and sends it to a third party server.\\n\\n\\n\\nIs this data collected, shared, both, or neither? Choose the most precise answer. Some types of data collection and sharing are exempt.\\n\\nView definitions and exemptions', 'Q278': 'Data usage scenario: Our app accesses GPS location and sends it to our server.\\n\\n\\n\\nIs this data collected, shared, both, or neither? Choose the most precise answer. Some types of data collection and sharing are exempt.\\n\\nView definitions and exemptions', 'Q279': \"Data usage scenario: We send the user's GPS location stored on our server to a third party server.\\n\\n\\n\\n\\nIs this data collected, shared, both, or neither? Choose the most precise answer. Some types of data collection and sharing are exempt.\\n\\nView definitions and exemptions\", 'Q280': 'Data usage scenario: Our app accesses GPS location and sends it to another app directly on the device. The data never leaves the device.\\n(This is feasible because an app can use an Intent to perform some basic interactions with other apps, including sending data) \\n\\n\\n\\nIs this data collected, shared, both, or neither? Choose the most precise answer. Some types of data collection and sharing are exempt.\\n\\nView definitions and exemptions', 'Q281': 'Data usage scenario: Our app accesses GPS location and sends it to our server via libraries and/or SDKs included in our app.\\n\\n\\n\\nIs this data collected, shared, both, or neither? Choose the most precise answer. Some types of data collection and sharing are exempt.\\n\\nView definitions and exemptions', 'Q282': 'Data usage scenario: Our app accesses GPS location and sends it directly to a third party server via libraries and/or SDKs included in our app.\\n\\n\\n\\nIs this data collected, shared, both, or neither? Choose the most precise answer. Some types of data collection and sharing are exempt.\\n\\nView definitions and exemptions', 'Q283': 'Data usage scenario: Our app encrypts the user’s message before it is sent to another user, where it is decrypted.\\n\\n\\n\\n\\nIs this data collected, shared, both, or neither? Choose the most precise answer. Some types of data collection and sharing are exempt.\\n\\nView definitions and exemptions', 'Q285': \"Data usage scenario: Our app directly opens our own website in a webview, our website then accesses the user's GPS location through the webview, and sends it to our server.\\n\\n\\n\\nIs this data collected, shared, both, or neither? Choose the most precise answer. Some types of data collection and sharing are exempt.\\n\\nView definitions and exemptions\", 'Q286': \"Data usage scenario: Our app allows users to navigate the open web via a webview. When the user opens google.com, it accesses the user's GPS location and sends the GPS location to Google's server.\\n\\n\\n\\nIs this data collected, shared, both, or neither? Choose the most precise answer. Some types of data collection and sharing are exempt.\\n\\nView definitions and exemptions\", 'Q287': 'Data usage scenario: Our app directly opens our own website in a webview, our website accesses the GPS location through the webview, and sends it to a third party server.\\n\\n\\n\\nIs this data collected, shared, both, or neither? Choose the most precise answer. Some types of data collection and sharing are exempt.\\n\\nView definitions and exemptions', 'Q288': \"Data usage scenario: Our app allows users to navigate the open web via a webview. When the user opens google.com, it accesses the user's GPS location and sends the GPS location to a third party server.\\n\\n\\n\\nIs this data collected, shared, both, or neither? Choose the most precise answer.. Some types of data collection and sharing are exempt.\\n\\nView definitions and exemptions\", 'Q289': \"Data usage scenario: Our app's user explicitly initiates an action that sends their full name to a third party server.\\n\\n\\n\\n\\nIs this data collected, shared, both, or neither? Choose the most precise answer. Some types of data collection and sharing are exempt.\\n\\nView definitions and exemptions\", 'Q290': \"Data usage scenario: Our app sends the user's full name to a third party server after obtaining the user's consent to it.\\n\\n\\n\\n\\nIs this data collected, shared, both, or neither? Choose the most precise answer. Some types of data collection and sharing are exempt.\\n\\nView definitions and exemptions\", 'Q291': \"Data usage scenario: Our app sends the user's medical records that have been fully anonymized to a third party server.\\n\\n\\n\\n\\nIs this data collected, shared, both, or neither? Choose the most precise answer. Some types of data collection and sharing are exempt.\\n\\nView definitions and exemptions\", 'Q292': \"Data usage scenario: Our app accesses and processes the user's GPS location directly on the user’s device. The data never leaves the device.\\n\\n\\n\\n\\nIs this data collected, shared, both, or neither? Choose the most precise answer. Some types of data collection and sharing are exempt.\\n\\nView definitions and exemptions\", 'Q293': \"Data usage scenario: Our app sends the user's GPS location to our server to search for nearby places but does not store the GPS location after serving the request.\\n\\n\\n\\n\\nIs this data collected, shared, both, or neither? Choose the most precise answer. Some types of data collection and sharing are exempt.\\n\\nView definitions and exemptions\", 'Q294': \"Data usage scenario: Our app requests for the user's full name and only sends the pseudonymized name to our server. (A pseudonymized name does not allow the individual to be directly identified, but it can be re-associated with the user if additional information is provided)\\n\\n\\n\\nIs this data collected, shared, both, or neither? Choose the most precise answer. Some types of data collection and sharing are exempt.\\n\\nView definitions and exemptions\", 'QID300': 'Data usage scenario: Our app accesses the user’s GPS location and sends it to government agencies in response to a legal request.\\n\\n\\n\\n\\nIs this data collected, shared, both, or neither? Choose the most precise answer. Some types of data collection and sharing are exempt.\\n\\nView definitions and exemptions', 'Q296': \"Data usage scenario: Our app asks for a user's birthday for marketing communication, but that info is not required – the user can still sign up without providing that information.\\n\\n\\n\\nIs this data collected, shared, both, or neither? Choose the most precise answer. Some types of data collection and sharing are exempt.\\n\\nView definitions and exemptions\", 'Q297': \"Data usage scenario: Our app accesses GPS location and sends it off the device to Google Maps to get real-time traffic updates. (Assume that Google doesn't use the GPS location for other purposes)\\n\\n\\n\\nIs this data collected, shared, both, or neither? Choose the most precise answer. Some types of data collection and sharing are exempt.\\n\\nView definitions and exemptions\", 'Q298': \"Data usage scenario: Our app accesses GPS location and stores it on Google's server using Google Cloud Storage. (Assume that Google doesn't use the GPS location for other purposes)\\n\\n\\n\\nIs this data collected, shared, both, or neither? Choose the most precise answer. Some types of data collection and sharing are exempt.\\n\\nView definitions and exemptions\"}\n"
     ]
    }
   ],
   "source": [
    "#dataframe raw responses\n",
    "df = pd.read_csv('pretraining.csv')\n",
    "#optional questions should not be collected\n",
    "ignore = {\"Q161\", \"Q227\", \"Q202\"}\n",
    "timings = set()\n",
    "pretraining = set()\n",
    "neededTimings = set()\n",
    "dateDict = dict()\n",
    "for j in range(1, len(df.iloc[:, 0])):\n",
    "        participantId = df.iat[j, df.columns.get_loc(\"Q162\")]\n",
    "        date = df.iat[j, df.columns.get_loc(\"StartDate\")]\n",
    "        if \"08\" in date:\n",
    "            dateDict[participantId] = 1\n",
    "        else:\n",
    "            dateDict[participantId] = 2\n",
    "#drop QID row\n",
    "df = df.drop(labels=1, axis=0)\n",
    "#descriptions for each question\n",
    "descriptionsDict = dict()\n",
    "start = df.columns.get_loc(\"Q1-1-2\")\n",
    "end = df.columns.get_loc(\"Q298\")\n",
    "for i in range(start, end + 1, 1):\n",
    "    key = df.columns[i]\n",
    "    if \"Click\" in key or \"Submit\" in key:\n",
    "        if \"Submit\" in key:\n",
    "            neededTimings.add(key)\n",
    "        timings.add(key)\n",
    "        continue\n",
    "    if key.startswith(\"Q1-\") or key.startswith(\"Q2-\"):\n",
    "        pretraining.add(key)\n",
    "    if df.iat[0,i].startswith(\"Correct\") or df.iat[0,i].startswith(\"Incorrect\") or \"Thank you\" in df.iat[0, i]:\n",
    "        continue\n",
    "    if key not in ignore:\n",
    "        descriptionsDict[key] = df.iat[0, i]\n",
    "print(descriptionsDict)"
   ],
   "metadata": {
    "collapsed": false,
    "pycharm": {
     "name": "#%%\n"
    }
   }
  },
  {
   "cell_type": "code",
   "execution_count": 4,
   "outputs": [
    {
     "name": "stdout",
     "output_type": "stream",
     "text": [
      "This is an attention check. Please go ahead and select the option that begins with \"N\".\n",
      "{'Q1-1-2': 'share pretraining 1', 'Q1-2-2': 'collect pretraining 1', 'Q1-5-2': 'share pretraining 1', 'Q1-6-2': 'collect pretraining 1', 'Q1-7-2': 'share pretraining 1', 'Q1-8-2': 'share pretraining 1', 'Q1-9-2': 'share pretraining 1', 'Q2-1-1': 'share pretraining 2', 'Q2-2-1': 'collect pretraining 2', 'Q2-5-1': 'share pretraining 2', 'Q2-6-1': 'collect pretraining 2', 'Q2-7-1': 'share pretraining 2', 'Q2-8-1': 'share pretraining 2', 'Q2-9-1': 'share pretraining 2', 'Q203': 'share special', 'Q205': 'share basic', 'Q278': 'collect basic', 'Q279': 'share special', 'Q280': 'share special', 'Q281': 'collect special', 'Q282': 'share special', 'Q283': 'collect exempt', 'Q285': 'collect special', 'Q286': 'collect exempt', 'Q287': 'share special', 'Q288': 'share exempt', 'Q289': 'share exempt', 'Q290': 'share exempt', 'Q291': 'share exempt', 'Q292': 'collect exempt', 'Q293': 'collect special', 'Q294': 'collect special', 'QID300': 'share exempt', 'Q296': 'collect special', 'Q297': 'share exempt', 'Q298': 'share exempt'}\n"
     ]
    }
   ],
   "source": [
    "#categorize questions by case\n",
    "categoryDict = dict()\n",
    "groupDict = dict()\n",
    "sectionDict = dict()\n",
    "for question in descriptionsDict:\n",
    "    if question.startswith(\"Q1-\") or question.startswith(\"Q2-\"):\n",
    "        sectionDict[question] = \"Pretraining\"\n",
    "    else:\n",
    "        sectionDict[question] = \"Main Survey\"\n",
    "    if sectionDict[question] != \"Pretraining\":\n",
    "        if \"Our app accesses GPS location and sends it to our server.\" in descriptionsDict[question]:\n",
    "             categoryDict[question] = \"collect basic\"\n",
    "             groupDict[question] = \"Collect Basic\"\n",
    "        elif \"Our app accesses GPS location and sends it to a third party server.\" in descriptionsDict[question]:\n",
    "            categoryDict[question] = \"share basic\"\n",
    "            groupDict[question] = \"Share Basic\"\n",
    "        elif \"users to navigate the open web via a webview. When the user opens google.com, it accesses the user's GPS location and sends the GPS location to Google's server\" in descriptionsDict[question] or \"Our app accesses and processes the user's GPS location directly on the user’s device. The data never leaves the device\" in descriptionsDict[question] or \"Our app encrypts the user’s message before it is sent to another user, where it is decrypted\" in descriptionsDict[question]:\n",
    "            categoryDict[question] = \"collect exempt\"\n",
    "            if \"users to navigate the open web via a webview. When the user opens google.com, it accesses the user's GPS location and sends the GPS location to Google's server\" in descriptionsDict[question]:\n",
    "                groupDict[question] = \"Webviews\"\n",
    "            elif \"Our app accesses and processes the user's GPS location directly on the user’s device. The data never leaves the device\" in descriptionsDict[question]:\n",
    "                groupDict[question] = \"On-device processing and transfers\"\n",
    "            elif \"Our app encrypts the user’s message before it is sent to another user, where it is decrypted\" in descriptionsDict[question]:\n",
    "                groupDict[question] = \"End to End Encryption\"\n",
    "        elif \"Our app allows users to navigate the open web via a webview. When the user opens google.com, it accesses the user's GPS location and sends the GPS location to a third party server\" in descriptionsDict[question] or \"Our app accesses GPS location and sends it off the device to Google Maps to get real-time traffic updates\" in descriptionsDict[question] or \"Our app accesses GPS location and stores it on Google's server using Google Cloud Storage\" in descriptionsDict[question] or \"Our app accesses the user’s GPS location and sends it to government agencies in response to a legal request\" in descriptionsDict[question] or \"Our app's user explicitly initiates an action that sends their full name to a third party server\" in descriptionsDict[question] or \"Our app sends the user's full name to a third party server after obtaining the user's consent to it\" in descriptionsDict[question] or \"Our app sends the user's medical records that have been fully anonymized to a third party server.\" in descriptionsDict[question]:\n",
    "            categoryDict[question] = \"share exempt\"\n",
    "            if \"Our app allows users to navigate the open web via a webview. When the user opens google.com, it accesses the user's GPS location and sends the GPS location to a third party server\" in descriptionsDict[question]:\n",
    "                groupDict[question] = \"Webviews\"\n",
    "            elif \"Our app accesses GPS location and sends it off the device to Google Maps to get real-time traffic updates\" in descriptionsDict[question] or \"Our app accesses GPS location and stores it on Google's server using Google Cloud Storage\" in descriptionsDict[question]:\n",
    "                groupDict[question] = \"Service Providers\"\n",
    "            elif \"Our app accesses the user’s GPS location and sends it to government agencies in response to a legal request\" in descriptionsDict[question]:\n",
    "                groupDict[question] = \"Legal Request\"\n",
    "            elif \"Our app's user explicitly initiates an action that sends their full name to a third party server\" in descriptionsDict[question] or \"Our app sends the user's full name to a third party server after obtaining the user's consent to it\" in descriptionsDict[question]:\n",
    "                groupDict[question] = \"User Consent\"\n",
    "            elif \"Our app sends the user's medical records that have been fully anonymized to a third party server.\" in descriptionsDict[question]:\n",
    "                groupDict[question] = \"Anonymization\"\n",
    "        elif \"Our app accesses GPS location and sends it to our server via libraries and/or SDKs included in our app\" in descriptionsDict[question] or \"website then accesses the user's GPS location through the webview, and sends it to our server\" in descriptionsDict[question] or \"Our app sends the user's GPS location to our server to search for nearby places but does not store the GPS location after serving the request\" in descriptionsDict[question] or \"Our app requests for the user's full name and only sends the pseudonymized name to our server\" in descriptionsDict[question] or \"Our app encrypts the user’s bank account information and sends it to our server\" in descriptionsDict[question] or \"Our app asks for a user's birthday for marketing communication, but that info is not required\" in descriptionsDict[question]:\n",
    "            categoryDict[question] = \"collect special\"\n",
    "            if \"Our app accesses GPS location and sends it to our server via libraries and/or SDKs included in our app\" in descriptionsDict[question]:\n",
    "                groupDict[question] = \"Libraries/SDKs\"\n",
    "            elif \"website then accesses the user's GPS location through the webview, and sends it to our server\" in descriptionsDict[question]:\n",
    "                groupDict[question] = \"Webviews\"\n",
    "            elif \"Our app sends the user's GPS location to our server to search for nearby places but does not store the GPS location after serving the request\" in descriptionsDict[question]:\n",
    "                groupDict[question] = \"Ephemeral Processing\"\n",
    "            elif \"Our app requests for the user's full name and only sends the pseudonymized name to our server\" in descriptionsDict[question]:\n",
    "                groupDict[question] = \"Pseudynoymization\"\n",
    "            elif \"Our app encrypts the user’s bank account information and sends it to our server\" in descriptionsDict[question]:\n",
    "                groupDict[question] = \"Encryption\"\n",
    "            elif \"Our app asks for a user's birthday for marketing communication, but that info is not required\" in descriptionsDict[question]:\n",
    "                groupDict[question] = \"Optional Data Collection\"\n",
    "        else:\n",
    "            categoryDict[question] = \"share special\"\n",
    "            if \"We send the user's GPS location stored on our server to a third party server\" in descriptionsDict[question]:\n",
    "                groupDict[question] = \"Off-device Server Transfers\"\n",
    "            elif \"sends it to another app directly on the device\" in descriptionsDict[question]:\n",
    "                groupDict[question] = \"On-device processing and transfers\"\n",
    "            elif \"Our app accesses GPS location and sends it directly to a third party server via libraries and/or SDKs included in our app\" in descriptionsDict[question]:\n",
    "                groupDict[question] = \"Libraries/SDKs\"\n",
    "            elif \"website accesses the GPS location through the webview, and sends it to a third party server\" in descriptionsDict[question]:\n",
    "                groupDict[question] = \"Webviews\"\n",
    "            else:\n",
    "                print(descriptionsDict[question])\n",
    "\n",
    "    else:\n",
    "        if \"sharing\" in descriptionsDict[question]:\n",
    "                categoryDict[question] = \"share pretraining\"\n",
    "        elif \"collection\" in descriptionsDict[question]:\n",
    "             categoryDict[question] = \"collect pretraining\"\n",
    "        if question.startswith(\"Q1\"):\n",
    "            categoryDict[question] = str(categoryDict[question] + \" 1\")\n",
    "        if question.startswith(\"Q2\"):\n",
    "            categoryDict[question] = str(categoryDict[question] + \" 2\")\n",
    "        if \"webview\" in descriptionsDict[question]:\n",
    "            groupDict[question] = \"Webviews\"\n",
    "        elif \"service provider\" in descriptionsDict[question] or \"navigation API\" in descriptionsDict[question]:\n",
    "            groupDict[question] = \"Service Providers\"\n",
    "        elif \"optional data handling\" in descriptionsDict[question] or \"optionally provide\" in descriptionsDict[question]:\n",
    "            groupDict[question] = \"Optional Data Collection\"\n",
    "        elif \"anonymized\" in descriptionsDict[question]:\n",
    "            groupDict[question] = \"Anonymization\"\n",
    "        elif \"user action\" in descriptionsDict[question] or \"weather API\" in descriptionsDict[question]:\n",
    "            groupDict[question] = \"User Consent\"\n",
    "        elif \"following instances of data usage\" in descriptionsDict[question] or \"analytics reasons\" in descriptionsDict[question]:\n",
    "            groupDict[question] = \"Legal Request\"\n",
    "        else:\n",
    "            print(descriptionsDict[question])\n",
    "print(categoryDict)\n"
   ],
   "metadata": {
    "collapsed": false,
    "pycharm": {
     "name": "#%%\n"
    }
   }
  },
  {
   "cell_type": "code",
   "execution_count": 5,
   "outputs": [
    {
     "name": "stdout",
     "output_type": "stream",
     "text": [
      "An app opens a webview that allows users to freely search google.com and google.com sends user data to a third party server. Does it need to be disclosed as data sharing? Q2-1-1\n",
      "An app opens a webview that allows users to freely search bing.com which sends user data to Bing's server. Does it need to be disclosed as data collection? Q2-2-1\n",
      "A GPS app sends user location data off-device to a navigation API, which helps determine the best route as per the app's given instructions. Does it need to be disclosed as data sharing? Q2-5-1\n",
      "An app asks the user to optionally provide their address for mailing communications and sends this data to a third party server. Does it need to be disclosed as data collection? Q2-6-1\n",
      "An app sends partially anonymized information regarding the user's political orientation to a third party server. This data is able to be re-associated with the user if additional information is provided. Does it need to be disclosed as data sharing? Q2-7-1\n",
      "An app sends the user's data to a third party for analytics reasons. Does it need to be disclosed as data sharing? Q2-8-1\n",
      "An app sends the user's location data to a weather API after receiving the user's explicit consent to be processed. The API does not do anything else with the data. Does it need to be disclosed as data sharing? Q2-9-1\n",
      "Our app accesses GPS location and sends it to a third party server Q205\n",
      "Our app accesses GPS location and sends it to another app directly on the device. The data never leaves the device.\n",
      "(This is feasible because an app can use an Intent to perform some basic interactions with other apps, including sending data) Q280\n",
      "Our app accesses GPS location and sends it off the device to Google Maps to get real-time traffic updates. (Assume that Google doesn't use the GPS location for other purposes) Q297\n",
      "Our app accesses GPS location and stores it on Google's server using Google Cloud Storage. (Assume that Google doesn't use the GPS location for other purposes) Q298\n",
      "No\n"
     ]
    }
   ],
   "source": [
    "#get correct answers for each question (based on ID)\n",
    "correctAnswerDict = dict()\n",
    "#question names\n",
    "nameDict = dict()\n",
    "for question in descriptionsDict:\n",
    "    search_key = descriptionsDict[question]\n",
    "    if \"Data usage scenario:\" in search_key:\n",
    "        search_key = search_key.replace(\"Data usage scenario:\", \"\")\n",
    "    if \"Is\" in search_key:\n",
    "        end = search_key.index(\"Is\")\n",
    "        search_key = search_key[1:end-1].strip()\n",
    "    else:\n",
    "        end = len(search_key)\n",
    "        search_key = search_key[0:end].strip()\n",
    "    if search_key[-1] == \".\":\n",
    "        search_key = search_key[:-1]\n",
    "    if search_key in a_dict:\n",
    "        print(search_key, question)\n",
    "        correctAnswerDict[question] = a_dict[search_key]\n",
    "        nameDict[question] = search_key.replace(\"\\n\", \"\")\n",
    "    else:\n",
    "        for key in a_dict:\n",
    "            if search_key in key:\n",
    "                    correctAnswerDict[question] = a_dict[key]\n",
    "                    break\n",
    "        nameDict[question] = key.replace(\"\\n\", \"\")\n",
    "    if \"Please\" in nameDict[question]:\n",
    "        nameDict[question] = nameDict[question].replace(\"Please\" , \" Please\")\n",
    "print(correctAnswerDict[\"Q2-5-1\"])"
   ],
   "metadata": {
    "collapsed": false,
    "pycharm": {
     "name": "#%%\n"
    }
   }
  },
  {
   "cell_type": "code",
   "execution_count": 6,
   "outputs": [],
   "source": [
    "#potential answers, for indexing\n",
    "collection = ['Collected', 'Shared', 'Both collected and shared', 'Neither collected nor shared']\n",
    "\n",
    "attentionChecks = {\"Q203\"}\n",
    "answerDict = defaultdict(str)\n",
    "indexGivenDict = defaultdict(str)\n",
    "indexExpectedDict = defaultdict(str)\n",
    "rowIds = []\n",
    "start = df.columns.get_loc(\"Q1-1-2\")\n",
    "end = df.columns.get_loc(\"Q298\")\n",
    "question1Count = dict()\n",
    "pretrainingCount = dict()\n",
    "remove = set()\n",
    "count = 0\n",
    "start = df.columns.get_loc(\"Q1-1-2\")\n",
    "end = df.columns.get_loc(\"Q298\")\n",
    "timingsDict = dict()\n",
    "for i in range(start, end+1, 1):\n",
    "    for j in range(1, len(df.iloc[:, 0])):\n",
    "        participantId = df.iat[j, df.columns.get_loc(\"Q162\")]\n",
    "        questionId = df.columns[i]\n",
    "        timingsDict[(participantId, questionId)] = \"nan\"\n",
    "        if questionId in ignore or questionId in timings:\n",
    "            continue\n",
    "        if df.iat[0,i].startswith(\"Correct\") or df.iat[0,i].startswith(\"Incorrect\") or \"Thank you\" in df.iat[0, i]:\n",
    "            continue\n",
    "        rowId = (participantId, questionId)\n",
    "        if questionId not in attentionChecks:\n",
    "            rowIds.append(rowId)\n",
    "        answer = str(df.iat[j, i])\n",
    "        if answer == \"nan\":\n",
    "            answerDict[rowId] = \"\"\n",
    "            continue\n",
    "        answer = str(answer).strip()\n",
    "        if questionId not in pretraining:\n",
    "            for word in collection:\n",
    "                    if answer[0:6] in word:\n",
    "                        answer = word\n",
    "        answerDict[rowId] = str(answer)\n",
    "        #remove questions that don't pass the attentionChecks\n",
    "        if questionId in attentionChecks:\n",
    "            if answer != correctAnswerDict[questionId]:\n",
    "                remove.add(participantId)\n",
    "                print(participantId)\n",
    "                print(answer)\n",
    "                print(questionId)\n",
    "        if questionId not in pretraining:\n",
    "            question1Count[participantId] = question1Count.get(participantId, 0) + 1\n",
    "            index_given = collection.index(answer)\n",
    "            index_expected = collection.index(correctAnswerDict[questionId])\n",
    "        else:\n",
    "            pretrainingCount[participantId] = pretrainingCount.get(participantId, 0) + 1\n",
    "            index_given = -1\n",
    "            index_expected = -1\n",
    "\n",
    "        #look at difference between expected index and given index\n",
    "        indexGivenDict[rowId] = index_given\n",
    "        indexExpectedDict[rowId] = index_expected\n",
    "#make sure user answered required amount of questions\n",
    "for participant in question1Count:\n",
    "    if question1Count[participant] < 11:\n",
    "        print(\"incomplete question type 1:\", participant)\n",
    "        print(question1Count[participant])\n",
    "        remove.add(participant)"
   ],
   "metadata": {
    "collapsed": false,
    "pycharm": {
     "name": "#%%\n"
    }
   }
  },
  {
   "cell_type": "code",
   "execution_count": 7,
   "outputs": [
    {
     "name": "stdout",
     "output_type": "stream",
     "text": [
      "Yes\n",
      "No\n",
      "5ec0ba5fe70ab737cc37559c\n"
     ]
    }
   ],
   "source": [
    "#make sure user answered all eligibility questions\n",
    "conditionDict = dict()\n",
    "for j in range(1, len(df.iloc[:, 0])):\n",
    "    participantId = df.iat[j, df.columns.get_loc(\"Q162\")]\n",
    "    ageQuestion = df.columns.get_loc(\"Q4\")\n",
    "    expQuestion = df.columns.get_loc(\"Q102\")\n",
    "    understanding = df.columns.get_loc(\"Q116\")\n",
    "    timingsDict[(participantId, ageQuestion)] = timingsDict[(participantId, expQuestion)] = timingsDict[(participantId, understanding)] = df.iat[j, df.columns.get_loc(\"Q1165_Page Submit\")]\n",
    "    if str(df.iat[j, ageQuestion]) != \"Yes\" or str(df.iat[j, expQuestion]) != \"Yes\" or str(df.iat[j, understanding]) != \"Yes\":\n",
    "        print(str(df.iat[j, ageQuestion]))\n",
    "        print(str(df.iat[j, expQuestion]))\n",
    "        remove.add(participantId)\n",
    "        print(participantId)\n",
    "    if str(df.iat[j, df.columns.get_loc(\"Q1141\")]) != \"Yes\":\n",
    "        conditionDict[participantId] = 1\n",
    "    else:\n",
    "        conditionDict[participantId] = 0\n"
   ],
   "metadata": {
    "collapsed": false,
    "pycharm": {
     "name": "#%%\n"
    }
   }
  },
  {
   "cell_type": "code",
   "execution_count": 8,
   "outputs": [],
   "source": [
    "for j in range(1, len(df.iloc[:, 0])):\n",
    "    participantId = df.iat[j, df.columns.get_loc(\"Q162\")]\n",
    "    question1 = {\"Q1-1-2\",\"Q1-1-3\",\"Q1-1-4\"}\n",
    "    for question in question1:\n",
    "        timingsDict[(participantId, question)] = df.iat[j, df.columns.get_loc(\"Q1166_Page Submit\")]\n",
    "    question2 = {\"Q1-2-2\", \t\"Q1-2-3\",\"Q1-2-4\"}\n",
    "    for question in question2:\n",
    "        timingsDict[(participantId, question)] = df.iat[j, df.columns.get_loc(\"Q1167_Page Submit\")]\n",
    "    question3 = {\"Q1-5-2\",\t\"Q1-5-3\",\t\"Q1-5-4\"}\n",
    "    for question in question3:\n",
    "        timingsDict[(participantId, question)] = df.iat[j, df.columns.get_loc(\"Q1168_Page Submit\")]\n",
    "    question4 = {\"Q1-6-2\",\t\"Q1-6-3\",\t\"Q1-6-4\"}\n",
    "    for question in question4:\n",
    "        timingsDict[(participantId, question)] = df.iat[j, df.columns.get_loc(\"Q1169_Page Submit\")]\n",
    "    question5 = {\"Q1-7-2\",\t\"Q1-7-3\",\t\"Q1-7-4\"}\n",
    "    for question in question5:\n",
    "        timingsDict[(participantId, question)] = df.iat[j, df.columns.get_loc(\"Q1170_Page Submit\")]\n",
    "    question6 = {\"Q1-8-2\",\t\"Q1-8-3\",\t\"Q1-8-4\"}\n",
    "    for question in question6:\n",
    "        timingsDict[(participantId, question)] = df.iat[j, df.columns.get_loc(\"Q1171_Page Submit\")]\n",
    "    question7 = {\"Q1-9-2\",\t\"Q1-9-3\",\t\"Q1-9-4\"}\n",
    "    for question in question7:\n",
    "        timingsDict[(participantId, question)] = df.iat[j, df.columns.get_loc(\"Q1172_Page Submit\")]\n",
    "    question8 = {\"Q2-1-1\",\t\"Q2-1-2\",\t\"Q2-1-3\"}\n",
    "    for question in question8:\n",
    "        timingsDict[(participantId, question)] = df.iat[j, df.columns.get_loc(\"Q1173_Page Submit\")]\n",
    "    question10 = {\"Q2-2-1\",\t\"Q2-2-2\",\t\"Q2-2-3\"}\n",
    "    for question in question10:\n",
    "        timingsDict[(participantId, question)] = df.iat[j, df.columns.get_loc(\"Q1174_Page Submit\")]\n",
    "    question11 = {\"Q2-5-1\",\t\"Q2-5-2\",\t\"Q2-5-3\"}\n",
    "    for question in question11:\n",
    "        timingsDict[(participantId, question)] = df.iat[j, df.columns.get_loc(\"Q1175_Page Submit\")]\n",
    "    question12 = {\"Q2-6-1\",\t\"Q2-6-2\",\t\"Q2-6-3\"}\n",
    "    for question in question12:\n",
    "        timingsDict[(participantId, question)] = df.iat[j, df.columns.get_loc(\"Q1176_Page Submit\")]\n",
    "    question13 = {\"Q2-7-1\",\t\"Q2-7-2\",\t\"Q2-7-3\"}\n",
    "    for question in question13:\n",
    "        timingsDict[(participantId, question)] = df.iat[j, df.columns.get_loc(\"Q1177_Page Submit\")]\n",
    "    question14 = {\"Q2-8-1\",\t\"Q2-8-2\",\t\"Q2-8-3\"}\n",
    "    for question in question14:\n",
    "        timingsDict[(participantId, question)] = df.iat[j, df.columns.get_loc(\"Q1178_Page Submit\")]\n",
    "    question15 = {\"Q2-9-1\",\t\"Q2-9-2\",\t\"Q2-9-3\"}\n",
    "    for question in question15:\n",
    "        timingsDict[(participantId, question)] = df.iat[j, df.columns.get_loc(\"Q1179_Page Submit\")]"
   ],
   "metadata": {
    "collapsed": false,
    "pycharm": {
     "name": "#%%\n"
    }
   }
  },
  {
   "cell_type": "code",
   "execution_count": 9,
   "outputs": [],
   "source": [
    "#generating dataframe columns\n",
    "results = pd.DataFrame()\n",
    "participantIds = [p for p, q in rowIds]\n",
    "questionIds = [q for p, q in rowIds]\n",
    "descriptions = [descriptionsDict[q] for q in questionIds]\n",
    "categories = [categoryDict[q] for q in questionIds]\n",
    "groups = [groupDict[q] for q in questionIds]\n",
    "answers = [answerDict[(p, q)] for p, q in zip(participantIds, questionIds)]\n",
    "correctAnswers = [correctAnswerDict[q] for q in questionIds]\n",
    "givenIndices = [indexGivenDict[(p, q)] for p, q in zip(participantIds, questionIds)]\n",
    "expectedIndices = [indexExpectedDict[(p, q)] for p, q in zip(participantIds, questionIds)]\n",
    "names = [nameDict[q] for q in questionIds]\n",
    "dates = [dateDict[p] for p in participantIds]\n",
    "conditions = [conditionDict[p] for p in participantIds]\n",
    "timings = [timingsDict[(p, q)] for p, q in rowIds]\n",
    "results['Question ID'] = questionIds\n",
    "results['Participant ID'] = participantIds\n",
    "results['Description'] = descriptions\n",
    "results['Answer'] = answers\n",
    "results['Correct Answer'] = correctAnswers\n",
    "results['Prompt Condition'] = conditions\n",
    "results[\"Question Category\"] = categories\n",
    "results[\"Concept Group\"] = groups\n",
    "results['Question Name'] = names\n",
    "results['Prompt Condition'] = conditions\n",
    "results['Answer Index'] = givenIndices\n",
    "results['Correct Answer Index'] = expectedIndices\n",
    "results[\"Timings\"] = timings\n",
    "results[\"Date Category\"] = dates\n",
    "\n",
    "# filter out rows with empty answers (i.e., not selected in the study)\n",
    "#remove rows that don't pass the attentionChecks\n",
    "#results['Correctness'] = (results['Answer'] == results['Correct Answer']).apply(lambda v: 1 if v else 0)\n",
    "correctness = []\n",
    "for i in range(len(questionIds)):\n",
    "    question = questionIds[i]\n",
    "    if question.startswith(\"Q2-\") and answers[i] == \"\":\n",
    "        correctness.append(-1)\n",
    "    elif answers[i] == correctAnswers[i]:\n",
    "        correctness.append(1)\n",
    "    else:\n",
    "        correctness.append(0)\n",
    "results[\"Correctness\"] = correctness\n",
    "# filter out rows with empty answers (i.e., not selected in the study)\n",
    "for i in range(len(results)):\n",
    "    if answers[i] == \"\" and correctness[i] != -1:\n",
    "        results = results.drop(i)\n",
    "results = results[~results[\"Participant ID\"].isin(remove)]\n"
   ],
   "metadata": {
    "collapsed": false,
    "pycharm": {
     "name": "#%%\n"
    }
   }
  },
  {
   "cell_type": "code",
   "execution_count": 10,
   "outputs": [],
   "source": [
    "results.to_csv(\"pretrainingOutput.csv\")"
   ],
   "metadata": {
    "collapsed": false,
    "pycharm": {
     "name": "#%%\n"
    }
   }
  },
  {
   "cell_type": "code",
   "execution_count": null,
   "outputs": [],
   "source": [],
   "metadata": {
    "collapsed": false,
    "pycharm": {
     "name": "#%%\n"
    }
   }
  }
 ],
 "metadata": {
  "kernelspec": {
   "display_name": "Python 3",
   "language": "python",
   "name": "python3"
  },
  "language_info": {
   "codemirror_mode": {
    "name": "ipython",
    "version": 2
   },
   "file_extension": ".py",
   "mimetype": "text/x-python",
   "name": "python",
   "nbconvert_exporter": "python",
   "pygments_lexer": "ipython2",
   "version": "2.7.6"
  }
 },
 "nbformat": 4,
 "nbformat_minor": 0
}