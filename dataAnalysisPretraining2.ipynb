{
 "cells": [
  {
   "cell_type": "code",
   "execution_count": 1,
   "outputs": [],
   "source": [
    "#pretraining with section 1, with split in answering for collection/sharing"
   ],
   "metadata": {
    "collapsed": false,
    "pycharm": {
     "name": "#%%\n"
    }
   }
  },
  {
   "cell_type": "code",
   "execution_count": 2,
   "outputs": [],
   "source": [
    "from collections import defaultdict\n",
    "\n",
    "import numpy as np\n",
    "import pandas as pd"
   ],
   "metadata": {
    "collapsed": false,
    "pycharm": {
     "name": "#%%\n"
    }
   }
  },
  {
   "cell_type": "code",
   "execution_count": 3,
   "outputs": [
    {
     "name": "stdout",
     "output_type": "stream",
     "text": [
      "{'Which of the following instances of webview usage should be reported as data sharing? Please select all that apply.': \"Webviews that directly load the app's own home page, which sends user data off the device to a third party server.\", 'Which of the following instances of webview usage should be disclosed as  data collection? Please select all that apply.': \"Webviews that directly load the app's own home page, which sends user data off the device to the app's own server.,Webviews that directly load the app's own home page, which sends user data off the device to a third party server.\", 'Which of the following instances of data usage related to service providers should be reported as data sharing? Please select all that apply.': \"An app that transfers user personal information off-device to an advertising company that shares the data with other companies without the developers' explicit instructions.\", 'Which of the following instances of optional data handling should be disclosed as data collection? Please select all that apply.': \"An app that asks, but does not require the user to provide personal information to be sent to a third party server, An app that requires the user to provide personal information to be sent to the app's server\", 'Which of the following instances of data usage related to anonymized data handling should be reported as data sharing? Please select all that apply.': \"An app that sends the raw user data to a third party.,An app that removes the user's real name before sending it to a third party, while the data can still be re-associated with the user\", 'Which of the following instances of data usage should be reported as data sharing? Please select all that apply.': 'An app that sends user data to a third party for fraud detection and prevention.,An app that sends user data to a third party to show targeted ads,', 'Which of the following instances of data usage in relation to user action should be reported as data sharing? Please select all that apply.': 'An app that automatically sends data to a third party server when the user opens the app for the first time', 'Our app accesses GPS location and sends it to our server.': 'Collected', 'Our app accesses GPS location and sends it to our server via libraries and/or SDKs included in our app.': 'Collected', \"Our app directly opens our own website in a webview, our website then accesses the user's GPS location through the webview, and sends it to our server.\": 'Collected', \"Our app allows users to navigate the open web via a webview. When the user opens google.com, it accesses the user's GPS location and sends the GPS location to Google's server.\": 'Neither collected nor shared', \"Our app sends the user's GPS location to our server to search for nearby places but does not store the GPS location after serving the request.\": 'Collected', \"Our app requests for the user's full name and only sends the pseudonymized name to our server. (A pseudonymized name does not allow the individual to be directly identified, but it can be re-associated with the user if additional information is provided)\\nPlease select how you would report our app's data practices regarding the user's full name.\": 'Collected', \"Our app accesses and processes the user's GPS location directly on the user’s device. The data never leaves the device.\": 'Neither collected nor shared', \"Our app encrypts the user’s message before it is sent to another user, where it is decrypted.\\nPlease select how you would report our app's data practices regarding the user's messages.\": 'Neither collected nor shared', 'Our app encrypts the user’s bank account information and sends it to our server.': 'Collected', \"Our app asks for a user's birthday for marketing communication, but that info is not required – the user can still sign up without providing that information.\": 'Collected', 'Our app accesses GPS location and sends it to a third party server': 'Both collected and shared', \"We send the user's GPS location stored on our server to a third party server.\": 'Both collected and shared', 'Our app accesses GPS location and sends it to another app directly on the device. The data never leaves the device. (This is feasible because an app can use an Intent to perform some basic interactions with other apps, including sending data)': 'Shared', 'Our app accesses GPS location and sends it directly to a third party server via libraries and/or SDKs included in our app.': 'Both collected and shared', 'Our app directly opens our own website in a webview, our website accesses the GPS location through the webview, and sends it to a third party server.': 'Both collected and shared', \"Our app allows users to navigate the open web via a webview. When the user opens google.com, it accesses the user's GPS location and sends the GPS location to a third party server.\": 'Neither collected nor shared', \"Our app accesses GPS location and sends it off the device to Google Maps to get real-time traffic updates. (Assume that Google doesn't use the GPS location for other purposes)\": 'Collected', \"Our app accesses GPS location and stores it on Google's server using Google Cloud Storage. (Assume that Google doesn't use the GPS location for other purposes)\": 'Collected', 'Our app accesses the user’s GPS location and sends it to government agencies in response to a legal request.': 'Collected', \"Our app's user explicitly initiates an action that sends their full name to a third party server.\": 'Collected', \"Our app sends the user's full name to a third party server after obtaining the user's consent to it.\": 'Collected', \"Our app sends the user's medical records that have been fully anonymized to a third party server.\": 'Collected', 'This is an attention check. Please go ahead and select the option that begins with \"N\".': 'Neither collected nor shared', \"An app opens a webview that allows users to freely search bing.com which sends user data to Bing's server. Does it need to be disclosed as data collection?\": 'No', 'An app opens a webview that allows users to freely search google.com and google.com sends user data to a third party server. Does it need to be disclosed as data sharing?': 'No', 'An app reads the GPS location and only uses the data locally. Does it need to be disclosed as data sharing?': 'Yes', 'An app reads the GPS location and then sends it to another app installed on the same device. Does it need to be disclosed as data sharing?': 'No', \"A GPS app sends user location data off-device to a navigation API, which helps determine the best route as per the app's given instructions. Does it need to be disclosed as data sharing?\": 'No', 'An app asks the user to optionally provide their address for mailing communications and sends this data to a third party server. Does it need to be disclosed as data collection?': 'Yes', \"An app sends partially anonymized information regarding the user's political orientation to a third party server. This data is able to be re-associated with the user if additional information is provided. Does it need to be disclosed as data sharing?\": 'Yes', \"An app sends the user's data to a third party for analytics reasons. Does it need to be disclosed as data sharing?\": 'Yes', \"An app sends the user's location data to a weather API after receiving the user's explicit consent to be processed. The API does not do anything else with the data. Does it need to be disclosed as data sharing?\": 'No'}\n"
     ]
    }
   ],
   "source": [
    "#get answers from csv\n",
    "a_dict = dict()\n",
    "answers = pd.read_csv('pretrainingkey.csv')\n",
    "questions = answers.loc[:,\"Example Scenario in Survey\"]\n",
    "correct = answers.loc[:,\"Correct Answer\"]\n",
    "for i in range(0, len(questions)):\n",
    "    cq = str(questions[i]).strip()\n",
    "    ca = str(correct[i]).strip()\n",
    "    a_dict[cq] = str(ca)\n",
    "print(a_dict)"
   ],
   "metadata": {
    "collapsed": false,
    "pycharm": {
     "name": "#%%\n"
    }
   }
  },
  {
   "cell_type": "code",
   "execution_count": 4,
   "outputs": [
    {
     "name": "stdout",
     "output_type": "stream",
     "text": [
      "{'Q1-1-2': 'Which of the following instances of webview usage should be reported as data sharing? Please select all that apply.', 'Q1-2-2': 'Which of the following instances of webview usage should be disclosed as  data collection? Please select all that apply.', 'Q1-5-2': 'Which of the following instances of data usage related to service providers should be reported as data sharing? Please select all that apply.', 'Q1-6-2': 'Which of the following instances of optional data handling should be disclosed as data collection? Please select all that apply.', 'Q1-7-2': 'Which of the following instances of data usage related to anonymized data handling should be reported as data sharing? Please select all that apply.', 'Q1-8-2': 'Which of the following instances of data usage should be reported as data sharing? Please select all that apply.', 'Q1-9-2': 'Which of the following instances of data usage in relation to user action should be reported as data sharing? Please select all that apply.', 'Q2-1-1': 'An app opens a webview that allows users to freely search google.com and google.com sends user data to a third party server. Does it need to be disclosed as data sharing?', 'Q2-2-1': \"An app opens a webview that allows users to freely search bing.com which sends user data to Bing's server. Does it need to be disclosed as data collection?\", 'Q2-5-1': \"A GPS app sends user location data off-device to a navigation API, which helps determine the best route as per the app's given instructions. Does it need to be disclosed as data sharing?\", 'Q2-6-1': 'An app asks the user to optionally provide their address for mailing communications and sends this data to a third party server. Does it need to be disclosed as data collection?', 'Q2-7-1': \"An app sends partially anonymized information regarding the user's political orientation to a third party server. This data is able to be re-associated with the user if additional information is provided. Does it need to be disclosed as data sharing?\", 'Q2-8-1': \"An app sends the user's data to a third party for analytics reasons. Does it need to be disclosed as data sharing?\", 'Q2-9-1': \"An app sends the user's location data to a weather API after receiving the user's explicit consent to be processed. The API does not do anything else with the data. Does it need to be disclosed as data sharing?\", 'Q1215': 'Data usage scenario: Our app accesses GPS location and sends it to our server.\\n\\n\\n\\nIs this data collected? Choose the most precise answer. Some types of data collection are exempt.\\n\\nView definitions and exemptions', 'Q1233': 'Is this data shared? Choose the most precise answer. Some types of data sharing are exempt.\\n\\nView definitions and exemptions', 'Q1263': \"Data usage scenario: Our app requests for the user's full name and only sends the pseudonymized name to our server. (A pseudonymized name does not allow the individual to be directly identified, but it can be re-associated with the user if additional information is provided)  \\n\\n\\n\\n\\nIs this data collected? Choose the most precise answer. Some types of data collection are exempt.\\n\\nView definitions and exemptions\", 'Q1264': 'Is this data shared? Choose the most precise answer. Some types of data sharing are exempt.\\n\\nView definitions and exemptions', 'Q1236': \"Data usage scenario: We send the user's GPS location stored on our server to a third party server. \\n\\nIs this data collected? Choose the most precise answer. Some types of data collection are exempt.\\nView definitions and exemptions\\n\\n\\n\\nIs this data collected? Choose the most precise answer. Some types of data collection are exempt.\\n\\nView definitions and exemptions\", 'Q1234': 'Is this data shared? Choose the most precise answer. Some types of data sharing are exempt.\\n\\nView definitions and exemptions', 'Q1241': 'Data usage scenario: Our app accesses GPS location and sends it directly to a third party server via libraries and/or SDKs included in our app.\\n\\n\\n\\nIs this data collected? Choose the most precise answer. Some types of data collection are exempt.\\n\\nView definitions and exemptions', 'Q1242': 'Is this data shared? Choose the most precise answer. Some types of data sharing are exempt.\\n\\nView definitions and exemptions', 'Q1271': \"Data usage scenario: Our app accesses GPS location and stores it on Google's server using Google Cloud Storage. (Assume that Google doesn't use the GPS location for other purposes)  \\n\\n\\n\\n\\nIs this data collected? Choose the most precise answer. Some types of data collection are exempt.\\n\\nView definitions and exemptions\", 'QID1277': 'Is this data shared? Choose the most precise answer. Some types of data sharing are exempt.\\n\\nView definitions and exemptions', 'Q1265': 'Data usage scenario: Our app accesses the user’s GPS location and sends it to government agencies in response to a legal request.   \\n\\n\\n\\n\\nIs this data collected? Choose the most precise answer. Some types of data collection are exempt.\\n\\nView definitions and exemptions', 'Q1266': 'Is this data shared? Choose the most precise answer. Some types of data sharing are exempt.\\n\\nView definitions and exemptions', 'Q1259': \"Data usage scenario: Our app accesses and processes the user's GPS location directly on the user’s device. The data never leaves the device.  \\n\\n\\n\\n\\nIs this data collected? Choose the most precise answer. Some types of data collection are exempt.\\n\\nView definitions and exemptions\", 'Q1260': 'Is this data shared? Choose the most precise answer. Some types of data sharing are exempt.\\n\\nView definitions and exemptions', 'Q1253': \"Data usage scenario: Our app's user explicitly initiates an action that sends their full name to a third party server. \\n\\n\\n\\n\\nIs this data collected? Choose the most precise answer. Some types of data collection are exempt.\\n\\nView definitions and exemptions\", 'Q1254': 'Is this data shared? Choose the most precise answer. Some types of data sharing are exempt.\\n\\nView definitions and exemptions', 'Q1247': \"Data usage scenario: Our app allows users to navigate the open web via a webview. When the user opens google.com, it accesses the user's GPS location and sends the GPS location to Google's server.\\n\\n\\n\\nIs this data collected? Choose the most precise answer. Some types of data collection are exempt.\\n\\nView definitions and exemptions\", 'Q1248': 'Is this data shared? Choose the most precise answer. Some types of data sharing are exempt.\\n\\nView definitions and exemptions', 'Q1245': \"Data usage scenario: Our app directly opens our own website in a webview, our website then accesses the user's GPS location through the webview, and sends it to our server.\\n\\n\\n\\nIs this data collected? Choose the most precise answer. Some types of data collection are exempt.\\n\\nView definitions and exemptions\", 'Q1246': 'Is this data shared? Choose the most precise answer. Some types of data sharing are exempt.\\n\\nView definitions and exemptions', 'Q1243': 'Data usage scenario: Our app encrypts the user’s message before it is sent to another user, where it is decrypted. \\n\\n\\nIs this data collected? Choose the most precise answer. Some types of data collection are exempt.\\n\\nView definitions and exemptions', 'Q1244': 'Is this data shared? Choose the most precise answer. Some types of data sharing are exempt.\\n\\nView definitions and exemptions', 'Q1249': 'Data usage scenario: Our app directly opens our own website in a webview, our website accesses the GPS location through the webview, and sends it to a third party server.\\n\\n\\n\\nIs this data collected? Choose the most precise answer. Some types of data collection are exempt.\\n\\nView definitions and exemptions', 'Q1250': 'Is this data shared? Choose the most precise answer. Some types of data sharing are exempt.\\n\\nView definitions and exemptions', 'Q1251': \"Data usage scenario: Our app allows users to navigate the open web via a webview. When the user opens google.com, it accesses the user's GPS location and sends the GPS location to a third party server.\\n\\n\\n\\nIs this data collected? Choose the most precise answer. Some types of data collection are exempt.\\n\\nView definitions and exemptions\", 'Q1252': 'Is this data shared? Choose the most precise answer. Some types of data sharing are exempt.\\n\\nView definitions and exemptions', 'Q1214': 'Data usage scenario: Our app accesses GPS location and sends it to a third party server.\\n\\n\\n\\nIs this data collected? Choose the most precise answer. Some types of data collection are exempt.\\n\\nView definitions and exemptions', 'Q1231': 'Is this data shared? Choose the most precise answer. Some types of data sharing are exempt.\\n\\nView definitions and exemptions', 'Q1237': 'Data usage scenario: Our app accesses GPS location and sends it to another app directly on the device. The data never leaves the device. (This is feasible because an app can use an Intent to perform some basic interactions with other apps, including sending data) \\n\\n\\n\\nIs this data collected? Choose the most precise answer. Some types of data collection are exempt.\\n\\nView definitions and exemptions', 'Q1238': 'Is this data shared? Choose the most precise answer. Some types of data sharing are exempt.\\n\\nView definitions and exemptions', 'Q1239': 'Data usage scenario: Our app accesses GPS location and sends it to our server via libraries and/or SDKs included in our app. \\n\\n\\n\\nIs this data collected? Choose the most precise answer. Some types of data collection are exempt.\\n\\nView definitions and exemptions', 'QID1245': 'Is this data shared? Choose the most precise answer. Some types of data sharing are exempt.\\n\\nView definitions and exemptions', 'Q1269': \"Data usage scenario: Our app accesses GPS location and sends it off the device to Google Maps to get real-time traffic updates. (Assume that Google doesn't use the GPS location for other purposes)   \\n\\n\\n\\n\\nIs this data collected? Choose the most precise answer. Some types of data collection are exempt.\\n\\nView definitions and exemptions\", 'Q1270': 'Is this data shared? Choose the most precise answer. Some types of data sharing are exempt.\\n\\nView definitions and exemptions', 'Q1267': \"Data usage scenario: Our app asks for a user's birthday for marketing communication, but that info is not required – the user can still sign up without providing that information.   \\n\\n\\n\\n\\nIs this data collected? Choose the most precise answer. Some types of data collection are exempt.\\n\\nView definitions and exemptions\", 'Q1268': 'Is this data shared? Choose the most precise answer. Some types of data sharing are exempt.\\n\\nView definitions and exemptions', 'Q1261': \"Data usage scenario: Our app sends the user's GPS location to our server to search for nearby places but does not store the GPS location after serving the request.  \\n\\n\\n\\n\\nIs this data collected? Choose the most precise answer. Some types of data collection are exempt.\\n\\nView definitions and exemptions\", 'Q1262': 'Is this data shared? Choose the most precise answer. Some types of data sharing are exempt.\\n\\nView definitions and exemptions', 'Q1257': \"Data usage scenario: Our app sends the user's medical records that have been fully anonymized to a third party server.  \\n\\n\\n\\n\\nIs this data collected? Choose the most precise answer. Some types of data collection are exempt.\\n\\nView definitions and exemptions\", 'Q1258': 'Is this data shared? Choose the most precise answer. Some types of data sharing are exempt.\\n\\nView definitions and exemptions', 'Q1255': \"Data usage scenario: Our app sends the user's full name to a third party server after obtaining the user's consent to it. \\n\\n\\n\\n\\nIs this data collected? Choose the most precise answer. Some types of data collection are exempt.\\n\\nView definitions and exemptions\", 'Q1256': 'Is this data shared? Choose the most precise answer. Some types of data sharing are exempt.\\n\\nView definitions and exemptions'}\n"
     ]
    }
   ],
   "source": [
    "df = pd.read_csv('responses2.csv')\n",
    "#optional questions should not be collected\n",
    "ignore = {\"Q1235\", \"Q161\", \"Q1212\", \"Q1187\"}\n",
    "timings = set()\n",
    "pretraining = set()\n",
    "neededTimings = set()\n",
    "dateDict = dict()\n",
    "for j in range(1, len(df.iloc[:, 0])):\n",
    "        participantId = df.iat[j, df.columns.get_loc(\"Q162\")]\n",
    "        date = df.iat[j, df.columns.get_loc(\"StartDate\")]\n",
    "        if \"-08-\" in date:\n",
    "            dateDict[participantId] = 1\n",
    "        else:\n",
    "            dateDict[participantId] = 2\n",
    "#drop QID row\n",
    "df = df.drop(labels=1, axis=0)\n",
    "#descriptions for each question\n",
    "descriptionsDict = dict()\n",
    "start = df.columns.get_loc(\"Q1-1-2\")\n",
    "end = df.columns.get_loc(\"Q1187\")\n",
    "for i in range(start, end + 1, 1):\n",
    "    key = df.columns[i]\n",
    "    if \"Click\" in key or \"Submit\" in key:\n",
    "        if \"Submit\" in key:\n",
    "            neededTimings.add(key)\n",
    "        timings.add(key)\n",
    "        continue\n",
    "    if key.startswith(\"Q1-\") or key.startswith(\"Q2-\"):\n",
    "        pretraining.add(key)\n",
    "    if df.iat[0,i].startswith(\"Correct\") or df.iat[0,i].startswith(\"Incorrect\") or \"Thank you\" in df.iat[0, i]:\n",
    "        continue\n",
    "    if key not in ignore:\n",
    "        descriptionsDict[key] = df.iat[0, i]\n",
    "print(descriptionsDict)"
   ],
   "metadata": {
    "collapsed": false,
    "pycharm": {
     "name": "#%%\n"
    }
   }
  },
  {
   "cell_type": "code",
   "execution_count": 5,
   "outputs": [
    {
     "name": "stdout",
     "output_type": "stream",
     "text": [
      "{'Q1215': 'Q1233', 'Q1263': 'Q1264', 'Q1236': 'Q1234', 'Q1241': 'Q1242', 'Q1271': 'QID1277', 'Q1265': 'Q1266', 'Q1259': 'Q1260', 'Q1253': 'Q1254', 'Q1247': 'Q1248', 'Q1245': 'Q1246', 'Q1243': 'Q1244', 'Q1249': 'Q1250', 'Q1251': 'Q1252', 'Q1214': 'Q1231', 'Q1237': 'Q1238', 'Q1239': 'QID1245', 'Q1269': 'Q1270', 'Q1267': 'Q1268', 'Q1261': 'Q1262', 'Q1257': 'Q1258', 'Q1255': 'Q1256'}\n"
     ]
    }
   ],
   "source": [
    "#categorize questions by case\n",
    "categoryDict = dict()\n",
    "groupDict = dict()\n",
    "sectionDict = dict()\n",
    "collectSharePairs = dict()\n",
    "lastQuestion = \"\"\n",
    "lastCategory, lastGroup = \"\",  \"\"\n",
    "for question in descriptionsDict:\n",
    "    if question.startswith(\"Q1-\") or question.startswith(\"Q2-\"):\n",
    "        sectionDict[question] = \"Pretraining\"\n",
    "    else:\n",
    "        sectionDict[question] = \"Main Survey\"\n",
    "    #main survey categories\n",
    "    if sectionDict[question] != \"Pretraining\":\n",
    "        if \"Our app accesses GPS location and sends it to our server.\" in descriptionsDict[question]:\n",
    "             categoryDict[question] = \"collect basic\"\n",
    "             groupDict[question] = \"Collect Basic\"\n",
    "        elif \"Our app accesses GPS location and sends it to a third party server.\" in descriptionsDict[question]:\n",
    "            categoryDict[question] = \"share basic\"\n",
    "            groupDict[question] = \"Share Basic\"\n",
    "        elif \"users to navigate the open web via a webview. When the user opens google.com, it accesses the user's GPS location and sends the GPS location to Google's server\" in descriptionsDict[question] or \"Our app accesses and processes the user's GPS location directly on the user’s device. The data never leaves the device\" in descriptionsDict[question] or \"Our app encrypts the user’s message before it is sent to another user, where it is decrypted\" in descriptionsDict[question]:\n",
    "            categoryDict[question] = \"collect exempt\"\n",
    "            if \"users to navigate the open web via a webview. When the user opens google.com, it accesses the user's GPS location and sends the GPS location to Google's server\" in descriptionsDict[question]:\n",
    "                groupDict[question] = \"Webviews\"\n",
    "            elif \"Our app accesses and processes the user's GPS location directly on the user’s device. The data never leaves the device\" in descriptionsDict[question]:\n",
    "                groupDict[question] = \"On-device processing and transfers\"\n",
    "            elif \"Our app encrypts the user’s message before it is sent to another user, where it is decrypted\" in descriptionsDict[question]:\n",
    "                groupDict[question] = \"End to End Encryption\"\n",
    "        elif \"Our app allows users to navigate the open web via a webview. When the user opens google.com, it accesses the user's GPS location and sends the GPS location to a third party server\" in descriptionsDict[question] or \"Our app accesses GPS location and sends it off the device to Google Maps to get real-time traffic updates\" in descriptionsDict[question] or \"Our app accesses GPS location and stores it on Google's server using Google Cloud Storage\" in descriptionsDict[question] or \"Our app accesses the user’s GPS location and sends it to government agencies in response to a legal request\" in descriptionsDict[question] or \"Our app's user explicitly initiates an action that sends their full name to a third party server\" in descriptionsDict[question] or \"Our app sends the user's full name to a third party server after obtaining the user's consent to it\" in descriptionsDict[question] or \"Our app sends the user's medical records that have been fully anonymized to a third party server.\" in descriptionsDict[question]:\n",
    "            categoryDict[question] = \"share exempt\"\n",
    "            if \"Our app allows users to navigate the open web via a webview. When the user opens google.com, it accesses the user's GPS location and sends the GPS location to a third party server\" in descriptionsDict[question]:\n",
    "                groupDict[question] = \"Webviews\"\n",
    "            elif \"Our app accesses GPS location and sends it off the device to Google Maps to get real-time traffic updates\" in descriptionsDict[question] or \"Our app accesses GPS location and stores it on Google's server using Google Cloud Storage\" in descriptionsDict[question]:\n",
    "                groupDict[question] = \"Service Providers\"\n",
    "            elif \"Our app accesses the user’s GPS location and sends it to government agencies in response to a legal request\" in descriptionsDict[question]:\n",
    "                groupDict[question] = \"Legal Request\"\n",
    "            elif \"Our app's user explicitly initiates an action that sends their full name to a third party server\" in descriptionsDict[question] or \"Our app sends the user's full name to a third party server after obtaining the user's consent to it\" in descriptionsDict[question]:\n",
    "                groupDict[question] = \"User Consent\"\n",
    "            elif \"Our app sends the user's medical records that have been fully anonymized to a third party server.\" in descriptionsDict[question]:\n",
    "                groupDict[question] = \"Anonymization\"\n",
    "        elif \"Our app accesses GPS location and sends it to our server via libraries and/or SDKs included in our app\" in descriptionsDict[question] or \"website then accesses the user's GPS location through the webview, and sends it to our server\" in descriptionsDict[question] or \"Our app sends the user's GPS location to our server to search for nearby places but does not store the GPS location after serving the request\" in descriptionsDict[question] or \"Our app requests for the user's full name and only sends the pseudonymized name to our server\" in descriptionsDict[question] or \"Our app encrypts the user’s bank account information and sends it to our server\" in descriptionsDict[question] or \"Our app asks for a user's birthday for marketing communication, but that info is not required\" in descriptionsDict[question]:\n",
    "            categoryDict[question] = \"collect special\"\n",
    "            if \"Our app accesses GPS location and sends it to our server via libraries and/or SDKs included in our app\" in descriptionsDict[question]:\n",
    "                groupDict[question] = \"Libraries/SDKs\"\n",
    "            elif \"website then accesses the user's GPS location through the webview, and sends it to our server\" in descriptionsDict[question]:\n",
    "                groupDict[question] = \"Webviews\"\n",
    "            elif \"Our app sends the user's GPS location to our server to search for nearby places but does not store the GPS location after serving the request\" in descriptionsDict[question]:\n",
    "                groupDict[question] = \"Ephemeral Processing\"\n",
    "            elif \"Our app requests for the user's full name and only sends the pseudonymized name to our server\" in descriptionsDict[question]:\n",
    "                groupDict[question] = \"Pseudynoymization\"\n",
    "            elif \"Our app encrypts the user’s bank account information and sends it to our server\" in descriptionsDict[question]:\n",
    "                groupDict[question] = \"Encryption\"\n",
    "            elif \"Our app asks for a user's birthday for marketing communication, but that info is not required\" in descriptionsDict[question]:\n",
    "                groupDict[question] = \"Optional Data Collection\"\n",
    "        else:\n",
    "            categoryDict[question] = \"share special\"\n",
    "            if \"We send the user's GPS location stored on our server to a third party server\" in descriptionsDict[question]:\n",
    "                groupDict[question] = \"Off-device Server Transfers\"\n",
    "            elif \"sends it to another app directly on the device\" in descriptionsDict[question]:\n",
    "                groupDict[question] = \"On-device processing and transfers\"\n",
    "            elif \"Our app accesses GPS location and sends it directly to a third party server via libraries and/or SDKs included in our app\" in descriptionsDict[question]:\n",
    "                groupDict[question] = \"Libraries/SDKs\"\n",
    "            elif \"website accesses the GPS location through the webview, and sends it to a third party server\" in descriptionsDict[question]:\n",
    "                groupDict[question] = \"Webviews\"\n",
    "            else:\n",
    "                if \"shared\" in descriptionsDict[question]:\n",
    "                    categoryDict[question] = lastCategory\n",
    "                    groupDict[question] = lastGroup\n",
    "                    collectSharePairs[lastQuestion] = question\n",
    "        lastCategory = categoryDict[question]\n",
    "        lastGroup = groupDict[question]\n",
    "        lastQuestion = question\n",
    "\n",
    "    #pretraining category\n",
    "    else:\n",
    "        if \"sharing\" in descriptionsDict[question]:\n",
    "                categoryDict[question] = \"share pretraining\"\n",
    "        elif \"collection\" in descriptionsDict[question]:\n",
    "             categoryDict[question] = \"collect pretraining\"\n",
    "        if question.startswith(\"Q1\"):\n",
    "            categoryDict[question] = str(categoryDict[question] + \" 1\")\n",
    "        if question.startswith(\"Q2\"):\n",
    "            categoryDict[question] = str(categoryDict[question] + \" 2\")\n",
    "        if \"webview\" in descriptionsDict[question]:\n",
    "            groupDict[question] = \"Webviews\"\n",
    "        elif \"service provider\" in descriptionsDict[question] or \"navigation API\" in descriptionsDict[question]:\n",
    "            groupDict[question] = \"Service Providers\"\n",
    "        elif \"optional data handling\" in descriptionsDict[question] or \"optionally provide\" in descriptionsDict[question]:\n",
    "            groupDict[question] = \"Optional Data Collection\"\n",
    "        elif \"anonymized\" in descriptionsDict[question]:\n",
    "            groupDict[question] = \"Anonymization\"\n",
    "        elif \"user action\" in descriptionsDict[question] or \"weather API\" in descriptionsDict[question]:\n",
    "            groupDict[question] = \"User Consent\"\n",
    "        elif \"following instances of data usage\" in descriptionsDict[question] or \"analytics reasons\" in descriptionsDict[question]:\n",
    "            groupDict[question] = \"Legal Request\"\n",
    "        else:\n",
    "            print(descriptionsDict[question])\n",
    "print(collectSharePairs)"
   ],
   "metadata": {
    "collapsed": false,
    "pycharm": {
     "name": "#%%\n"
    }
   }
  },
  {
   "cell_type": "code",
   "execution_count": 6,
   "outputs": [
    {
     "name": "stdout",
     "output_type": "stream",
     "text": [
      "{'Q1-1-2': \"Webviews that directly load the app's own home page, which sends user data off the device to a third party server.\", 'Q1-2-2': \"Webviews that directly load the app's own home page, which sends user data off the device to the app's own server.,Webviews that directly load the app's own home page, which sends user data off the device to a third party server.\", 'Q1-5-2': \"An app that transfers user personal information off-device to an advertising company that shares the data with other companies without the developers' explicit instructions.\", 'Q1-6-2': \"An app that asks, but does not require the user to provide personal information to be sent to a third party server, An app that requires the user to provide personal information to be sent to the app's server\", 'Q1-7-2': \"An app that sends the raw user data to a third party.,An app that removes the user's real name before sending it to a third party, while the data can still be re-associated with the user\", 'Q1-8-2': 'An app that sends user data to a third party for fraud detection and prevention.,An app that sends user data to a third party to show targeted ads,', 'Q1-9-2': 'An app that automatically sends data to a third party server when the user opens the app for the first time', 'Q2-1-1': 'No', 'Q2-2-1': 'No', 'Q2-5-1': 'No', 'Q2-6-1': 'Yes', 'Q2-7-1': 'Yes', 'Q2-8-1': 'Yes', 'Q2-9-1': 'No', 'Q1215': 'Yes', 'Q1263': 'Yes', 'Q1236': 'Yes', 'Q1241': 'Yes', 'Q1271': 'Yes', 'Q1265': 'Yes', 'Q1259': 'Yes', 'Q1253': 'Yes', 'Q1247': 'Yes', 'Q1245': 'Yes', 'Q1243': 'Yes', 'Q1249': 'Yes', 'Q1251': 'Yes', 'Q1214': 'Yes', 'Q1237': 'Yes', 'Q1239': 'Yes', 'Q1269': 'Yes', 'Q1267': 'Yes', 'Q1261': 'Yes', 'Q1257': 'Yes', 'Q1255': 'Yes', 'Q1233': 'Yes', 'Q1264': 'Yes', 'Q1234': 'Yes', 'Q1242': 'Yes', 'QID1277': 'Yes', 'Q1266': 'Yes', 'Q1260': 'Yes', 'Q1254': 'Yes', 'Q1248': 'Yes', 'Q1246': 'Yes', 'Q1244': 'Yes', 'Q1250': 'Yes', 'Q1252': 'Yes', 'Q1231': 'Yes', 'Q1238': 'Yes', 'QID1245': 'Yes', 'Q1270': 'Yes', 'Q1268': 'Yes', 'Q1262': 'Yes', 'Q1258': 'Yes', 'Q1256': 'Yes'}\n"
     ]
    }
   ],
   "source": [
    "#get correct answers for each question (based on ID)\n",
    "correctAnswerDict = dict()\n",
    "#question names\n",
    "nameDict = dict()\n",
    "for question in descriptionsDict:\n",
    "    search_key = descriptionsDict[question]\n",
    "    if \"Data usage scenario:\" in search_key:\n",
    "        search_key = search_key.replace(\"Data usage scenario:\", \"\")\n",
    "    if \"Is\" in search_key:\n",
    "        end = search_key.index(\"Is\")\n",
    "        search_key = search_key[1:end-1].strip()\n",
    "    else:\n",
    "        end = len(search_key)\n",
    "        search_key = search_key[0:end].strip()\n",
    "    if search_key[-1] == \".\":\n",
    "        search_key = search_key[:-1]\n",
    "    if search_key in a_dict:\n",
    "        # print(search_key, question)\n",
    "        correctAnswerDict[question] = a_dict[search_key]\n",
    "        nameDict[question] = search_key.replace(\"\\n\", \"\")\n",
    "    else:\n",
    "        for key in a_dict:\n",
    "            if search_key in key:\n",
    "                    correctAnswerDict[question] = a_dict[key]\n",
    "                    break\n",
    "        nameDict[question] = key.replace(\"\\n\", \"\")\n",
    "    if \"Please\" in nameDict[question]:\n",
    "        nameDict[question] = nameDict[question].replace(\"Please\" , \" Please\")\n",
    "shared = set()\n",
    "for question in collectSharePairs:\n",
    "    shareQ = collectSharePairs[question]\n",
    "    if \"Both\" or \"Shared\" in correctAnswerDict[question]:\n",
    "        correctAnswerDict[shareQ] = \"Yes\"\n",
    "    else:\n",
    "         correctAnswerDict[shareQ] = \"No\"\n",
    "    shared.add(shareQ)\n",
    "for question in correctAnswerDict:\n",
    "    if question in shared or sectionDict[question] == \"Pretraining\":\n",
    "        continue\n",
    "    else:\n",
    "        if \"Both\" or \"Collected\" in correctAnswerDict[question]:\n",
    "             correctAnswerDict[question] = \"Yes\"\n",
    "        else:\n",
    "             correctAnswerDict[question] = \"No\"\n",
    "print(correctAnswerDict)\n"
   ],
   "metadata": {
    "collapsed": false,
    "pycharm": {
     "name": "#%%\n"
    }
   }
  },
  {
   "cell_type": "code",
   "execution_count": 7,
   "outputs": [
    {
     "name": "stdout",
     "output_type": "stream",
     "text": [
      "incomplete question type 1: 62a0c5bf6efbdb2f7d383eaf\n",
      "10\n"
     ]
    }
   ],
   "source": [
    "#potential answers, for indexing\n",
    "collection = ['Yes', 'No']\n",
    "\n",
    "attentionChecks = {\"Q1187\"}\n",
    "answerDict = defaultdict(str)\n",
    "indexGivenDict = defaultdict(str)\n",
    "indexExpectedDict = defaultdict(str)\n",
    "rowIds = []\n",
    "start = df.columns.get_loc(\"Q1-1-2\")\n",
    "end = df.columns.get_loc(\"Q1187\")\n",
    "question1Count = dict()\n",
    "pretrainingCount = dict()\n",
    "remove = set()\n",
    "count = 0\n",
    "timingsDict = dict()\n",
    "for i in range(start, end+1, 1):\n",
    "    for j in range(1, len(df.iloc[:, 0])):\n",
    "        participantId = df.iat[j, df.columns.get_loc(\"Q162\")]\n",
    "        questionId = df.columns[i]\n",
    "        timingsDict[(participantId, questionId)] = \"nan\"\n",
    "        if questionId in ignore or questionId in timings:\n",
    "            continue\n",
    "        if df.iat[0,i].startswith(\"Correct\") or df.iat[0,i].startswith(\"Incorrect\") or \"Thank you\" in df.iat[0, i]:\n",
    "            continue\n",
    "        rowId = (participantId, questionId)\n",
    "        if questionId not in attentionChecks:\n",
    "            rowIds.append(rowId)\n",
    "        answer = str(df.iat[j, i])\n",
    "        if answer == \"nan\":\n",
    "            answerDict[rowId] = \"\"\n",
    "            continue\n",
    "        answer = str(answer).strip()\n",
    "        if questionId not in pretraining:\n",
    "            for word in collection:\n",
    "                    if answer[0:6] in word:\n",
    "                        answer = word\n",
    "        if \"Yes\" in answer:\n",
    "            answer = \"Yes\"\n",
    "        elif \"No\" in answer:\n",
    "            answer = \"No\"\n",
    "        answerDict[rowId] = str(answer)\n",
    "        #remove questions that don't pass the attentionChecks\n",
    "        if questionId in attentionChecks:\n",
    "            if answer != correctAnswerDict[questionId]:\n",
    "                remove.add(participantId)\n",
    "                print(participantId)\n",
    "                print(answer)\n",
    "                print(questionId)\n",
    "        if questionId not in pretraining and questionId in descriptionsDict:\n",
    "            question1Count[participantId] = question1Count.get(participantId, 0) + 1\n",
    "            if answer == \"Yes\":\n",
    "                index_given = 0\n",
    "            if answer == \"No\":\n",
    "                index_given = 1\n",
    "            index_expected = collection.index(correctAnswerDict[questionId])\n",
    "        else:\n",
    "            pretrainingCount[participantId] = pretrainingCount.get(participantId, 0) + 1\n",
    "            index_given = -1\n",
    "            index_expected = -1\n",
    "\n",
    "        #look at difference between expected index and given index\n",
    "        indexGivenDict[rowId] = index_given\n",
    "        indexExpectedDict[rowId] = index_expected\n",
    "#make sure user answered required amount of questions\n",
    "for participant in question1Count:\n",
    "    if question1Count[participant] < 11:\n",
    "        print(\"incomplete question type 1:\", participant)\n",
    "        print(question1Count[participant])\n",
    "        remove.add(participant)"
   ],
   "metadata": {
    "collapsed": false,
    "pycharm": {
     "name": "#%%\n"
    }
   }
  },
  {
   "cell_type": "code",
   "execution_count": 8,
   "outputs": [
    {
     "name": "stdout",
     "output_type": "stream",
     "text": [
      "Yes\n",
      "No\n",
      "5ec0ba5fe70ab737cc37559c\n",
      "Yes\n",
      "No\n",
      "60d49a6ea75cef3843049767\n",
      "Yes\n",
      "Yes\n",
      "615a170c6eca532c6f57e09c\n"
     ]
    }
   ],
   "source": [
    "#make sure user answered all eligibility questions\n",
    "conditionDict = dict()\n",
    "fluencyDict = dict()\n",
    "for j in range(1, len(df.iloc[:, 0])):\n",
    "    participantId = df.iat[j, df.columns.get_loc(\"Q162\")]\n",
    "    fluencyLevel = df.columns.get_loc(\"Q1282\")\n",
    "    ageQuestion = df.columns.get_loc(\"Q4\")\n",
    "    expQuestion = df.columns.get_loc(\"Q102\")\n",
    "    understanding = df.columns.get_loc(\"Q116\")\n",
    "    timingsDict[(participantId, ageQuestion)] = timingsDict[(participantId, expQuestion)] = timingsDict[(participantId, understanding)] = df.iat[j, df.columns.get_loc(\"Q1165_Page Submit\")]\n",
    "    fluencyDict[participantId] = str(df.iat[j, df.columns.get_loc(\"Q1282\")])\n",
    "    if str(df.iat[j, ageQuestion]) != \"Yes\" or str(df.iat[j, expQuestion]) != \"Yes\" or str(df.iat[j, understanding]) != \"Yes\":\n",
    "        print(str(df.iat[j, ageQuestion]))\n",
    "        print(str(df.iat[j, expQuestion]))\n",
    "        remove.add(participantId)\n",
    "        print(participantId)\n",
    "    if str(df.iat[j, df.columns.get_loc(\"Q1141\")]) != \"Yes\":\n",
    "        conditionDict[participantId] = 1\n",
    "    else:\n",
    "        conditionDict[participantId] = 0"
   ],
   "metadata": {
    "collapsed": false,
    "pycharm": {
     "name": "#%%\n"
    }
   }
  },
  {
   "cell_type": "code",
   "execution_count": 9,
   "outputs": [
    {
     "name": "stdout",
     "output_type": "stream",
     "text": [
      "2 8 23\n"
     ]
    }
   ],
   "source": [
    "iCount = 0\n",
    "pCount = 0\n",
    "fCount = 0\n",
    "for participant in fluencyDict:\n",
    "    if fluencyDict[participant] == \"Intermediate\":\n",
    "        iCount += 1\n",
    "    elif fluencyDict[participant] == \"Proficient\":\n",
    "        pCount += 1\n",
    "    elif fluencyDict[participant] == \"Fully Fluent\":\n",
    "        fCount += 1\n",
    "print(iCount, pCount, fCount)"
   ],
   "metadata": {
    "collapsed": false,
    "pycharm": {
     "name": "#%%\n"
    }
   }
  },
  {
   "cell_type": "code",
   "execution_count": 49,
   "outputs": [],
   "source": [
    "for j in range(1, len(df.iloc[:, 0])):\n",
    "    participantId = df.iat[j, df.columns.get_loc(\"Q162\")]\n",
    "    question1 = {\"Q1-1-2\",\"Q1-1-3\",\"Q1-1-4\"}\n",
    "    for question in question1:\n",
    "        timingsDict[(participantId, question)] = df.iat[j, df.columns.get_loc(\"Q1166_Page Submit\")]\n",
    "    question2 = {\"Q1-2-2\", \t\"Q1-2-3\",\"Q1-2-4\"}\n",
    "    for question in question2:\n",
    "        timingsDict[(participantId, question)] = df.iat[j, df.columns.get_loc(\"Q1167_Page Submit\")]\n",
    "    question3 = {\"Q1-5-2\",\t\"Q1-5-3\",\t\"Q1-5-4\"}\n",
    "    for question in question3:\n",
    "        timingsDict[(participantId, question)] = df.iat[j, df.columns.get_loc(\"Q1168_Page Submit\")]\n",
    "    question4 = {\"Q1-6-2\",\t\"Q1-6-3\",\t\"Q1-6-4\"}\n",
    "    for question in question4:\n",
    "        timingsDict[(participantId, question)] = df.iat[j, df.columns.get_loc(\"Q1169_Page Submit\")]\n",
    "    question5 = {\"Q1-7-2\",\t\"Q1-7-3\",\t\"Q1-7-4\"}\n",
    "    for question in question5:\n",
    "        timingsDict[(participantId, question)] = df.iat[j, df.columns.get_loc(\"Q1170_Page Submit\")]\n",
    "    question6 = {\"Q1-8-2\",\t\"Q1-8-3\",\t\"Q1-8-4\"}\n",
    "    for question in question6:\n",
    "        timingsDict[(participantId, question)] = df.iat[j, df.columns.get_loc(\"Q1171_Page Submit\")]\n",
    "    question7 = {\"Q1-9-2\",\t\"Q1-9-3\",\t\"Q1-9-4\"}\n",
    "    for question in question7:\n",
    "        timingsDict[(participantId, question)] = df.iat[j, df.columns.get_loc(\"Q1172_Page Submit\")]\n",
    "    question8 = {\"Q2-1-1\",\t\"Q2-1-2\",\t\"Q2-1-3\"}\n",
    "    for question in question8:\n",
    "        timingsDict[(participantId, question)] = df.iat[j, df.columns.get_loc(\"Q1173_Page Submit\")]\n",
    "    question10 = {\"Q2-2-1\",\t\"Q2-2-2\",\t\"Q2-2-3\"}\n",
    "    for question in question10:\n",
    "        timingsDict[(participantId, question)] = df.iat[j, df.columns.get_loc(\"Q1174_Page Submit\")]\n",
    "    question11 = {\"Q2-5-1\",\t\"Q2-5-2\",\t\"Q2-5-3\"}\n",
    "    for question in question11:\n",
    "        timingsDict[(participantId, question)] = df.iat[j, df.columns.get_loc(\"Q1175_Page Submit\")]\n",
    "    question12 = {\"Q2-6-1\",\t\"Q2-6-2\",\t\"Q2-6-3\"}\n",
    "    for question in question12:\n",
    "        timingsDict[(participantId, question)] = df.iat[j, df.columns.get_loc(\"Q1176_Page Submit\")]\n",
    "    question13 = {\"Q2-7-1\",\t\"Q2-7-2\",\t\"Q2-7-3\"}\n",
    "    for question in question13:\n",
    "        timingsDict[(participantId, question)] = df.iat[j, df.columns.get_loc(\"Q1177_Page Submit\")]\n",
    "    question14 = {\"Q2-8-1\",\t\"Q2-8-2\",\t\"Q2-8-3\"}\n",
    "    for question in question14:\n",
    "        timingsDict[(participantId, question)] = df.iat[j, df.columns.get_loc(\"Q1178_Page Submit\")]\n",
    "    question15 = {\"Q2-9-1\",\t\"Q2-9-2\",\t\"Q2-9-3\"}\n",
    "    for question in question15:\n",
    "        timingsDict[(participantId, question)] = df.iat[j, df.columns.get_loc(\"Q1179_Page Submit\")]"
   ],
   "metadata": {
    "collapsed": false,
    "pycharm": {
     "name": "#%%\n"
    }
   }
  },
  {
   "cell_type": "code",
   "execution_count": 62,
   "outputs": [],
   "source": [
    "#generating dataframe columns\n",
    "results = pd.DataFrame()\n",
    "participantIds = [p for p, q in rowIds]\n",
    "questionIds = [q for p, q in rowIds]\n",
    "descriptions = [descriptionsDict[q] for q in questionIds]\n",
    "categories = [categoryDict[q] for q in questionIds]\n",
    "groups = [groupDict[q] for q in questionIds]\n",
    "answers = [answerDict[(p, q)] for p, q in zip(participantIds, questionIds)]\n",
    "correctAnswers = [correctAnswerDict[q] for q in questionIds]\n",
    "givenIndices = [indexGivenDict[(p, q)] for p, q in zip(participantIds, questionIds)]\n",
    "expectedIndices = [indexExpectedDict[(p, q)] for p, q in zip(participantIds, questionIds)]\n",
    "names = [nameDict[q] for q in questionIds]\n",
    "dates = [dateDict[p] for p in participantIds]\n",
    "conditions = [conditionDict[p] for p in participantIds]\n",
    "timings = [timingsDict[(p, q)] for p, q in rowIds]\n",
    "fluencyLevels = [fluencyDict[p] for p in participantIds]\n",
    "results['Question ID'] = questionIds\n",
    "results['Participant ID'] = participantIds\n",
    "results['Description'] = descriptions\n",
    "results['Answer'] = answers\n",
    "results['Correct Answer'] = correctAnswers\n",
    "results['Prompt Condition'] = conditions\n",
    "results[\"Question Category\"] = categories\n",
    "results[\"Concept Group\"] = groups\n",
    "results['Question Name'] = names\n",
    "results['Prompt Condition'] = conditions\n",
    "results['Answer Index'] = givenIndices\n",
    "results['Correct Answer Index'] = expectedIndices\n",
    "results[\"Timings\"] = timings\n",
    "results[\"Date Category\"] = dates\n",
    "results[\"Fluency Level\"] = fluencyLevels\n",
    "\n",
    "# filter out rows with empty answers (i.e., not selected in the study)\n",
    "#remove rows that don't pass the attentionChecks\n",
    "#results['Correctness'] = (results['Answer'] == results['Correct Answer']).apply(lambda v: 1 if v else 0)\n",
    "correctness = []\n",
    "for i in range(len(questionIds)):\n",
    "    question = questionIds[i]\n",
    "    if question.startswith(\"Q2-\") and answers[i] == \"\":\n",
    "        correctness.append(-1)\n",
    "    elif answers[i] == correctAnswers[i]:\n",
    "        correctness.append(1)\n",
    "    else:\n",
    "        correctness.append(0)\n",
    "results[\"Correctness\"] = correctness\n",
    "# filter out rows with empty answers (i.e., not selected in the study)\n",
    "for i in range(len(results)):\n",
    "    if answers[i] == \"\" and correctness[i] != -1:\n",
    "        results = results.drop(i)\n",
    "results = results[~results[\"Participant ID\"].isin(remove)]"
   ],
   "metadata": {
    "collapsed": false,
    "pycharm": {
     "name": "#%%\n"
    }
   }
  },
  {
   "cell_type": "code",
   "execution_count": 63,
   "outputs": [],
   "source": [
    "results.to_csv(\"pretrainingOutput.csv\")"
   ],
   "metadata": {
    "collapsed": false,
    "pycharm": {
     "name": "#%%\n"
    }
   }
  },
  {
   "cell_type": "code",
   "execution_count": null,
   "outputs": [],
   "source": [],
   "metadata": {
    "collapsed": false,
    "pycharm": {
     "name": "#%%\n"
    }
   }
  }
 ],
 "metadata": {
  "kernelspec": {
   "display_name": "Python 3",
   "language": "python",
   "name": "python3"
  },
  "language_info": {
   "codemirror_mode": {
    "name": "ipython",
    "version": 2
   },
   "file_extension": ".py",
   "mimetype": "text/x-python",
   "name": "python",
   "nbconvert_exporter": "python",
   "pygments_lexer": "ipython2",
   "version": "2.7.6"
  }
 },
 "nbformat": 4,
 "nbformat_minor": 0
}