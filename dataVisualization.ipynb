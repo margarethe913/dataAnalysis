{
 "cells": [
  {
   "cell_type": "code",
   "execution_count": 5,
   "outputs": [],
   "source": [
    "import matplotlib.pyplot as plt\n",
    "import pandas as pd\n",
    "import seaborn as sns\n",
    "import numpy as np\n",
    "\n",
    "sns.set()"
   ],
   "metadata": {
    "collapsed": false,
    "pycharm": {
     "name": "#%%\n"
    }
   }
  },
  {
   "cell_type": "code",
   "execution_count": 6,
   "outputs": [
    {
     "name": "stdout",
     "output_type": "stream",
     "text": [
      "126\n",
      "{40, 41}\n"
     ]
    }
   ],
   "source": [
    "df = pd.read_csv('output.csv')\n",
    "df[\"Correctness_Value\"] = df[\"Correctness\"]\n",
    "df[\"Correctness\"] = df[\"Correctness\"].map({0: \"Incorrect\", 1:\"Correct\"})\n",
    "df['Correctness'] = pd.Categorical(df['Correctness'],\n",
    "                                   categories=[\"Correct\", \"Incorrect\"],\n",
    "                                   ordered=True)\n",
    "df['Order Difference'] = pd.Categorical(df['Order Difference'],\n",
    "                                   categories=[-1, 0, 1],\n",
    "                                   ordered=True)\n",
    "df['Question ID'] = pd.Categorical(df['Question ID'],\n",
    "                                   categories=sorted(df['Question ID'].value_counts().keys()),\n",
    "                                   ordered=True)\n",
    "df[\"Given-Expected Answer Pair\"] = df.apply(lambda row:(row[\"Answer\"], row[\"Correct Answer\"]), axis=1)\n",
    "df[\"Given-Expected Answer Pair\"] = pd.Categorical(df[\"Given-Expected Answer Pair\"],\n",
    "                                                 categories=sorted(df[\"Given-Expected Answer Pair\"].value_counts().keys()),\n",
    "                                                 ordered=True)\n",
    "print(len(df[\"Participant ID\"].value_counts().to_dict().keys()))\n",
    "print(set(df[\"Participant ID\"].value_counts().to_dict().values()))"
   ],
   "metadata": {
    "collapsed": false,
    "pycharm": {
     "name": "#%%\n"
    }
   }
  },
  {
   "cell_type": "code",
   "execution_count": 3,
   "outputs": [
    {
     "name": "stdout",
     "output_type": "stream",
     "text": [
      "collection and sharing question correctness rate: 0.3852520692249812\n",
      "basic correctness rate: 0.7005291005291006\n",
      "Webviews correctness rate: 0.33073929961089493\n",
      "Service Providers correctness rate: 0.37209302325581395\n",
      "Libraries/SDKs correctness rate: 0.6031746031746031\n",
      "On-device processing and transfers correctness rate: 0.392\n",
      "User Consent correctness rate: 0.11290322580645161\n",
      "Share Basic correctness rate: 0.5757575757575758\n",
      "Legal Request correctness rate: 0.10606060606060606\n",
      "Ephemeral Processing correctness rate: 0.4\n",
      "Anonymization correctness rate: 0.15873015873015872\n",
      "Pseudynoymization correctness rate: 0.6666666666666666\n",
      "Optional Data Collection correctness rate: 0.2857142857142857\n",
      "Collect Basic correctness rate: 0.7258064516129032\n",
      "Off-device Server Transfers correctness rate: 0.48333333333333334\n",
      "End to End Encryption correctness rate: 0.4166666666666667\n"
     ]
    }
   ],
   "source": [
    "print(\"collection and sharing question correctness rate:\", df[df[\"Question Type\"] == 1][\"Correctness_Value\"].mean())\n",
    "concept_groups = df[\"Concept Group\"].value_counts().to_dict().keys()\n",
    "for concept_group in concept_groups:\n",
    "    print(f\"{concept_group} correctness rate:\", df[df[\"Concept Group\"] == concept_group][\"Correctness_Value\"].mean())"
   ],
   "metadata": {
    "collapsed": false,
    "pycharm": {
     "name": "#%%\n"
    }
   }
  },
  {
   "cell_type": "code",
   "execution_count": 13,
   "outputs": [
    {
     "name": "stdout",
     "output_type": "stream",
     "text": [
      "precision for collection = 0.8233034571062741\n",
      "precision for shared = 0.3286264441591784\n"
     ]
    }
   ],
   "source": [
    "#calculating precision\n",
    "questions = df['Question Name'].value_counts().to_dict().keys()\n",
    "questionDf = df[df[\"Question Type\"] == 1]\n",
    "questionDf = questionDf.replace({\"Both\": \"Collected, Shared\"})\n",
    "#number of correct collection answers\n",
    "collectionDf = questionDf[questionDf['Correct Answer'].str.contains(\"Collected\")]\n",
    "correctCollection = collectionDf[collectionDf['Answer'].str.contains(\"Collected\")]\n",
    "totalCollectionCorrect = len(correctCollection.iloc[:, 0])\n",
    "\n",
    "#number of correct shared answers\n",
    "sharingDf = questionDf[questionDf['Correct Answer'].str.contains(\"Shared\")]\n",
    "correctShared = sharingDf[sharingDf['Answer'].str.contains(\"Shared\")]\n",
    "totalSharedCorrect = len(correctShared.iloc[:, 0])\n",
    "\n",
    "allCollection = questionDf[questionDf[\"Answer\"].str.contains(\"Collected\")]\n",
    "totalCollectionAnswered = len(allCollection.iloc[:, 0])\n",
    "allShared = questionDf[questionDf[\"Answer\"].str.contains(\"Shared\")]\n",
    "totalSharedAnswered = len(allShared.iloc[:, 0])\n",
    "precisionCollection = totalCollectionCorrect / totalCollectionAnswered\n",
    "precisionShared = totalSharedCorrect /totalSharedAnswered\n",
    "print(\"precision for collection = \" + str(precisionCollection))\n",
    "print(\"precision for shared = \" + str(precisionShared))"
   ],
   "metadata": {
    "collapsed": false,
    "pycharm": {
     "name": "#%%\n"
    }
   }
  },
  {
   "cell_type": "code",
   "execution_count": 14,
   "outputs": [
    {
     "name": "stdout",
     "output_type": "stream",
     "text": [
      "recall for collection = 0.3981723237597911\n",
      "recall for shared = 0.3333333333333333\n"
     ]
    }
   ],
   "source": [
    "#calculating recall\n",
    "questions = df['Question Name'].value_counts().to_dict().keys()\n",
    "questionDf = df[df[\"Question Type\"] == 1]\n",
    "#number of correct collection answers\n",
    "collectionDf = questionDf[questionDf['Correct Answer'].str.contains(\"Collected\")]\n",
    "correctCollection = collectionDf[collectionDf['Answer'].str.contains(\"Collected\")]\n",
    "totalCollectionCorrect = len(correctCollection.iloc[:, 0])\n",
    "totalCollection = len(collectionDf.iloc[:, 0])\n",
    "\n",
    "#number of correct shared answers\n",
    "sharingDf = questionDf[questionDf['Correct Answer'].str.contains(\"Shared\")]\n",
    "correctShared = sharingDf[sharingDf['Answer'].str.contains(\"Shared\")]\n",
    "totalSharedCorrect = len(correctShared.iloc[:, 0])\n",
    "totalShared = len(sharingDf.iloc[:, 0])\n",
    "recallCollection = totalCollectionCorrect / totalCollection\n",
    "recallShared = totalSharedCorrect / totalShared\n",
    "print(\"recall for collection = \" + str(recallCollection))\n",
    "print(\"recall for shared = \" + str(recallShared))\n",
    "\n"
   ],
   "metadata": {
    "collapsed": false,
    "pycharm": {
     "name": "#%%\n"
    }
   }
  },
  {
   "cell_type": "code",
   "execution_count": null,
   "outputs": [],
   "source": [
    "questions = df['Question Name'].value_counts().to_dict().keys()\n",
    "cr_per_concept_group = {}\n",
    "all_collection_sharing_cr_list = []\n",
    "for question in questions:\n",
    "    cr = df[df['Question Name'] == question][\"Correctness_Value\"].mean()\n",
    "    keys = list(df[df['Question Name'] == question][\"Concept Group\"].value_counts().to_dict().keys())\n",
    "    assert len(keys) == 1\n",
    "    concept = keys[0]\n",
    "    if concept == \"basic\":\n",
    "        continue\n",
    "    if not concept in cr_per_concept_group:\n",
    "        cr_per_concept_group[concept] = []\n",
    "    cr_per_concept_group[concept].append(cr)\n",
    "    all_collection_sharing_cr_list.append(cr)\n",
    "\n",
    "# print(cr_per_concept_group)\n",
    "for concept, cr_list in cr_per_concept_group.items():\n",
    "    print(f\"{concept} correctness rate:\", np.mean(cr_list))\n",
    "print(\"collection and sharing question correctness rate:\", np.mean(all_collection_sharing_cr_list))"
   ],
   "metadata": {
    "collapsed": false,
    "pycharm": {
     "name": "#%%\n"
    }
   }
  },
  {
   "cell_type": "code",
   "execution_count": null,
   "outputs": [],
   "source": [
    "from pymer4.models import Lmer\n",
    "\n",
    "df_lmer = df[[\"Participant ID\", \"Prompt Condition\", \"Question Type\", \"Correctness_Value\"]]\n",
    "df_lmer = df_lmer.rename(columns={\"Participant ID\": \"Participant_ID\", \"Prompt Condition\": \"Prompt_Condition\", \"Question Type\": \"Question_Type\"})\n",
    "df_lmer[\"Prompt_Condition\"] = df_lmer[\"Prompt_Condition\"].map({1:\"Blank\", 2:\"Brief\", 3:\"Full\"})\n",
    "df_lmer[\"Question_Type\"] = df_lmer[\"Question_Type\"].map({1:\"Collect/Share\", 2:\"Data Type\", 3:\"Data Purpose\"})\n",
    "# print(df_lmer)\n",
    "model = Lmer(\"Correctness_Value ~ Prompt_Condition * Question_Type + (Question_Type|Participant_ID)\",\n",
    "             data=df_lmer, family = 'binomial')\n",
    "\n",
    "print(model.fit())"
   ],
   "metadata": {
    "collapsed": false,
    "pycharm": {
     "name": "#%%\n"
    }
   }
  },
  {
   "cell_type": "code",
   "execution_count": null,
   "outputs": [],
   "source": [
    "sns.set(rc = {'figure.figsize':(6,5)})\n",
    "ax = sns.pointplot(x=\"Question_Type\", y=\"Correctness_Value\", hue=\"Prompt_Condition\", data=df_lmer)"
   ],
   "metadata": {
    "collapsed": false,
    "pycharm": {
     "name": "#%%\n"
    }
   }
  },
  {
   "cell_type": "code",
   "execution_count": null,
   "outputs": [],
   "source": [
    "sns.set(rc = {'figure.figsize':(6,5)})\n",
    "ax = sns.pointplot(x=\"Question_Type\", y=\"Correctness_Value\", hue=\"Prompt_Condition\", data=df_lmer[df_lmer[\"Prompt_Condition\"].isin([\"Blank\", \"Brief\"]) & df_lmer[\"Question_Type\"].isin([\"Collect/Share\", \"Data Purpose\"])])\n",
    "plt.savefig(\"brief_purpose_interaction_plot.pdf\", bbox_inches='tight')\n",
    "plt.savefig(\"brief_purpose_interaction_plot.png\", dpi=300, bbox_inches='tight')"
   ],
   "metadata": {
    "collapsed": false,
    "pycharm": {
     "name": "#%%\n"
    }
   }
  },
  {
   "cell_type": "code",
   "execution_count": null,
   "outputs": [],
   "source": [
    "sns.set(rc = {'figure.figsize':(6,5)})\n",
    "ax = sns.pointplot(x=\"Question_Type\", y=\"Correctness_Value\", hue=\"Prompt_Condition\", data=df_lmer[df_lmer[\"Prompt_Condition\"].isin([\"Blank\", \"Full\"]) & df_lmer[\"Question_Type\"].isin([\"Collect/Share\", \"Data Type\"])])\n",
    "plt.savefig(\"full_data_type_interaction_plot.pdf\", bbox_inches='tight')\n",
    "plt.savefig(\"full_data_type_interaction_plot.png\", dpi=300, bbox_inches='tight')"
   ],
   "metadata": {
    "collapsed": false,
    "pycharm": {
     "name": "#%%\n"
    }
   }
  },
  {
   "cell_type": "code",
   "execution_count": null,
   "outputs": [],
   "source": [
    "sns.set(rc = {'figure.figsize':(5,5)})\n",
    "g = sns.barplot(x= \"Question Type\", y= \"Correctness_Value\", data=df)\n",
    "plt.ylabel(\"Correct rate\")\n",
    "plt.savefig(\"question_type_correct_rate.pdf\", bbox_inches='tight')\n",
    "plt.savefig(\"question_type_correct_rate.png\", dpi=300, bbox_inches='tight')"
   ],
   "metadata": {
    "collapsed": false,
    "pycharm": {
     "name": "#%%\n"
    }
   }
  },
  {
   "cell_type": "code",
   "execution_count": null,
   "outputs": [],
   "source": [
    "sns.set(rc = {'figure.figsize':(5,5)})\n",
    "g = sns.barplot(x= \"Prompt Condition\", y= \"Correctness_Value\", data=df)\n",
    "plt.ylabel(\"Correct rate\")\n",
    "plt.savefig(\"prompt_condition_correct_rate.pdf\", bbox_inches='tight')\n",
    "plt.savefig(\"prompt_condition_correct_rate.png\", dpi=300, bbox_inches='tight')"
   ],
   "metadata": {
    "collapsed": false,
    "pycharm": {
     "name": "#%%\n"
    }
   }
  },
  {
   "cell_type": "code",
   "execution_count": null,
   "outputs": [],
   "source": [
    "type1 = df[df[\"Question Type\"] == 1]\n",
    "types = type1.groupby(\"Prompt Condition\")[\"Correctness\"].value_counts(normalize=True)\n",
    "types = types.drop(labels=['Incorrect'], level = 1)\n",
    "df1 = pd.DataFrame(types)\n",
    "df1 = df1.rename(columns={\"Correctness\" : \"Rate\"})\n",
    "g = sns.barplot(x= \"Prompt Condition\", y= \"Rate\", data=df1.reset_index())\n"
   ],
   "metadata": {
    "collapsed": false,
    "pycharm": {
     "name": "#%%\n"
    }
   }
  },
  {
   "cell_type": "code",
   "execution_count": null,
   "outputs": [],
   "source": [
    "type2 = df[df[\"Question Type\"] == 2]\n",
    "types = type2.groupby(\"Prompt Condition\")[\"Correctness\"].value_counts(normalize=True)\n",
    "types = types.drop(labels=['Incorrect'], level = 1)\n",
    "df1 = pd.DataFrame(types)\n",
    "df1 = df1.rename(columns={\"Correctness\" : \"Rate\"})\n",
    "g = sns.barplot(x= \"Prompt Condition\", y= \"Rate\", data=df1.reset_index())\n"
   ],
   "metadata": {
    "collapsed": false,
    "pycharm": {
     "name": "#%%\n"
    }
   }
  },
  {
   "cell_type": "code",
   "execution_count": null,
   "outputs": [],
   "source": [
    "type3 = df[df[\"Question Type\"] == 3]\n",
    "types = type3.groupby(\"Prompt Condition\")[\"Correctness\"].value_counts(normalize=True)\n",
    "types = types.drop(labels=['Incorrect'], level = 1)\n",
    "df1 = pd.DataFrame(types)\n",
    "df1 = df1.rename(columns={\"Correctness\" : \"Rate\"})\n",
    "g = sns.barplot(x= \"Prompt Condition\", y= \"Rate\", data=df1.reset_index())\n"
   ],
   "metadata": {
    "collapsed": false,
    "pycharm": {
     "name": "#%%\n"
    }
   }
  },
  {
   "cell_type": "code",
   "execution_count": null,
   "outputs": [],
   "source": [
    "df_incorrect = df[df[\"Order Difference\"] != 0]\n",
    "print(df_incorrect[df_incorrect[\"Question Type\"] == 2][\"Order Difference\"].value_counts(normalize=True))\n",
    "print(df_incorrect[df_incorrect[\"Question Type\"] == 3][\"Order Difference\"].value_counts(normalize=True))\n",
    "g = sns.FacetGrid(df_incorrect, col = \"Question Type\")\n",
    "graph = g.map_dataframe(sns.histplot, x = \"Order Difference\", stat=\"probability\")\n",
    "graph.set_xlabels(\"Order Difference\")\n",
    "graph.set_ylabels(\"Rate\")"
   ],
   "metadata": {
    "collapsed": false,
    "pycharm": {
     "name": "#%%\n"
    }
   }
  },
  {
   "cell_type": "code",
   "execution_count": null,
   "outputs": [],
   "source": [
    "df1 = pd.read_csv('output.csv')\n",
    "df1[\"Prompt Condition\"] = df1[\"Prompt Condition\"].map({1:\"Blank\", 2:\"Brief\", 3:\"Full\"})"
   ],
   "metadata": {
    "collapsed": false,
    "pycharm": {
     "name": "#%%\n"
    }
   }
  },
  {
   "cell_type": "code",
   "execution_count": null,
   "outputs": [],
   "source": [
    "def plot_correct_rate_per_condition(df1, target_question_category):\n",
    "    type1 = df1[df1[\"Question Type\"] == 1]\n",
    "    type1 = type1[type1[\"Question Category\"] == target_question_category]\n",
    "    print(type1.apply(lambda row:row[\"Question Name\"] + row[\"Prompt Condition\"], axis=1).value_counts())\n",
    "    type1[\"Question Name\"] = type1.apply(lambda row: row[\"Question Name\"].split(\"Please select\")[0], axis=1)\n",
    "    sns.set(rc = {'figure.figsize':(5,5)})\n",
    "    g = sns.barplot(y= \"Question Name\", x= \"Correctness\", hue = \"Prompt Condition\", data=type1, orient=\"h\")\n",
    "    prefix = target_question_category.replace(\" \", \"_\")\n",
    "    plt.savefig(f\"{prefix}_question_correct_rate_per_condition.png\", dpi=300, bbox_inches='tight')"
   ],
   "metadata": {
    "collapsed": false,
    "pycharm": {
     "name": "#%%\n"
    }
   }
  },
  {
   "cell_type": "code",
   "execution_count": null,
   "outputs": [],
   "source": [
    "def print_count_per_question_condition(df1, target_question_type):\n",
    "    type1 = df1[df1[\"Question Type\"] == target_question_type]\n",
    "    type1_dict = type1.apply(lambda row:row[\"Question Name\"] + row[\"Prompt Condition\"], axis=1).value_counts().to_dict()\n",
    "    print(len(type1_dict.keys()))\n",
    "    print(type1_dict)"
   ],
   "metadata": {
    "collapsed": false,
    "pycharm": {
     "name": "#%%\n"
    }
   }
  },
  {
   "cell_type": "code",
   "execution_count": null,
   "outputs": [],
   "source": [
    "print_count_per_question_condition(df1, 1)"
   ],
   "metadata": {
    "collapsed": false,
    "pycharm": {
     "name": "#%%\n"
    }
   }
  },
  {
   "cell_type": "code",
   "execution_count": null,
   "outputs": [],
   "source": [
    "print_count_per_question_condition(df1, 2)"
   ],
   "metadata": {
    "collapsed": false,
    "pycharm": {
     "name": "#%%\n"
    }
   }
  },
  {
   "cell_type": "code",
   "execution_count": null,
   "outputs": [],
   "source": [
    "print_count_per_question_condition(df1, 3)"
   ],
   "metadata": {
    "collapsed": false,
    "pycharm": {
     "name": "#%%\n"
    }
   }
  },
  {
   "cell_type": "code",
   "execution_count": null,
   "outputs": [],
   "source": [
    "plot_correct_rate_per_condition(df1, \"collect basic\")"
   ],
   "metadata": {
    "collapsed": false,
    "pycharm": {
     "name": "#%%\n"
    }
   }
  },
  {
   "cell_type": "code",
   "execution_count": null,
   "outputs": [],
   "source": [
    "plot_correct_rate_per_condition(df1, \"collect special\")"
   ],
   "metadata": {
    "collapsed": false,
    "pycharm": {
     "name": "#%%\n"
    }
   }
  },
  {
   "cell_type": "code",
   "execution_count": null,
   "outputs": [],
   "source": [
    "plot_correct_rate_per_condition(df1, \"collect exempt\")"
   ],
   "metadata": {
    "collapsed": false,
    "pycharm": {
     "name": "#%%\n"
    }
   }
  },
  {
   "cell_type": "code",
   "execution_count": null,
   "outputs": [],
   "source": [
    "plot_correct_rate_per_condition(df1, \"share basic\")"
   ],
   "metadata": {
    "collapsed": false,
    "pycharm": {
     "name": "#%%\n"
    }
   }
  },
  {
   "cell_type": "code",
   "execution_count": null,
   "outputs": [],
   "source": [
    "plot_correct_rate_per_condition(df1, \"share special\")"
   ],
   "metadata": {
    "collapsed": false,
    "pycharm": {
     "name": "#%%\n"
    }
   }
  },
  {
   "cell_type": "code",
   "execution_count": null,
   "outputs": [],
   "source": [
    "plot_correct_rate_per_condition(df1, \"share exempt\")"
   ],
   "metadata": {
    "collapsed": false,
    "pycharm": {
     "name": "#%%\n"
    }
   }
  },
  {
   "cell_type": "code",
   "execution_count": null,
   "outputs": [],
   "source": [
    "type1 = df1[df1[\"Question Type\"] == 1]\n",
    "type1 = type1.rename(columns={\"Correctness Value\" : \"Correct Rate\", \"Question Category\": \"C/S Question Category\"})\n",
    "sns.set(rc = {'figure.figsize':(15,8)})\n",
    "g = sns.barplot(y= \"C/S Question Category\", x= \"Correctness\", hue = \"Prompt Condition\", data=type1, orient=\"h\", order=[\"collect basic\", \"share basic\", \"collect special\", \"share special\", \"collect exempt\", \"share exempt\"])\n",
    "plt.savefig(\"collect_share_question_category_correct_rate.pdf\", bbox_inches='tight')\n",
    "plt.savefig(\"collect_share_question_category_correct_rate.png\", dpi=300, bbox_inches='tight')"
   ],
   "metadata": {
    "collapsed": false,
    "pycharm": {
     "name": "#%%\n"
    }
   }
  },
  {
   "cell_type": "code",
   "execution_count": null,
   "outputs": [],
   "source": [
    "type2 = df1[df1[\"Question Type\"] == 2]\n",
    "sns.set(rc = {'figure.figsize':(20,30)})\n",
    "g = sns.barplot(y= \"Question Name\", x= \"Correctness\", hue = \"Prompt Condition\", data=type2, orient='h')"
   ],
   "metadata": {
    "collapsed": false,
    "pycharm": {
     "name": "#%%\n"
    }
   }
  },
  {
   "cell_type": "code",
   "execution_count": null,
   "outputs": [],
   "source": [
    "type3 = df1[df1[\"Question Type\"] == 3]\n",
    "sns.set(rc = {'figure.figsize':(20,10)})\n",
    "g = sns.barplot(y= \"Question Name\", x= \"Correctness\", hue = \"Prompt Condition\", data=type3, orient=\"h\")"
   ],
   "metadata": {
    "collapsed": false,
    "pycharm": {
     "name": "#%%\n"
    }
   }
  },
  {
   "cell_type": "code",
   "execution_count": null,
   "outputs": [],
   "source": [
    "df = pd.read_csv('output.csv')\n",
    "df[\"Correctness\"] = df[\"Correctness\"].map({0: \"Incorrect\", 1:\"Correct\"})\n",
    "df['Correctness'] = pd.Categorical(df['Correctness'],\n",
    "                                   categories=[\"Correct\", \"Incorrect\"],\n",
    "                                   ordered=True)\n",
    "df['Order Difference'] = pd.Categorical(df['Order Difference'],\n",
    "                                   categories=[-1, 0, 1],\n",
    "                                   ordered=True)\n",
    "df[\"Given-Expected Answer Pair\"] = df.apply(lambda row:(row[\"Answer\"], row[\"Correct Answer\"]), axis=1)\n"
   ],
   "metadata": {
    "collapsed": false,
    "pycharm": {
     "name": "#%%\n"
    }
   }
  },
  {
   "cell_type": "code",
   "execution_count": null,
   "outputs": [],
   "source": [
    "g = sns.FacetGrid(df[df[\"Correct Answer\"] == \"Shared\"], col = \"Given-Expected Answer Pair\", col_wrap=1, aspect=9.5,\n",
    "                 col_order=sorted(df[df[\"Correct Answer\"] == \"Shared\"][\"Given-Expected Answer Pair\"].value_counts().keys()))\n",
    "graph = g.map_dataframe(sns.histplot, x = \"Question ID\", stat=\"count\")\n",
    "graph.set_xlabels(\"Answer\")\n",
    "graph.set_ylabels(\"Rate\")\n",
    "g.set_titles(col_template=\"{col_name}\", row_template=\"{row_name}\")\n",
    "\n",
    "# Add a title for the entire plot\n",
    "g.fig.subplots_adjust(top=0.9)\n",
    "g.fig.suptitle(\"Given-Expected Answer Pair\")"
   ],
   "metadata": {
    "collapsed": false,
    "pycharm": {
     "name": "#%%\n"
    }
   }
  },
  {
   "cell_type": "code",
   "execution_count": null,
   "outputs": [],
   "source": [
    "t1 = pd.read_csv('output.csv', usecols = [4, 5, 6])\n",
    "t1 = t1[t1[\"Question Type\"] == 1]\n",
    "t1 = t1.drop(\"Question Type\", 1)\n",
    "correctTotals = dict()\n",
    "correctAnswers = t1.loc[:, \"Correct Answer\"]\n",
    "actualAnswers = t1.loc[:, \"Answer\"]\n",
    "answerPairs = dict()\n",
    "for (i,j) in zip(correctAnswers, actualAnswers):\n",
    "    correctTotals[i]= correctTotals.get(i, 0) + 1\n",
    "    answerPairs[(i, j)] = answerPairs.get((i, j), 0) + 1\n",
    "#create ratios for actual/correct answers\n",
    "for (correct, actual) in answerPairs:\n",
    "    answerPairs[(correct, actual)] = answerPairs[(correct, actual)] / correctTotals[correct]\n",
    "rowNames = [\"Collected\", \"Shared\", \"Both\", \"Neither\"]\n",
    "type1 = pd.DataFrame(columns=rowNames, index=rowNames)\n",
    "for i in range(len(rowNames)):\n",
    "    for j in range(len(rowNames)):\n",
    "        if (rowNames[i], rowNames[j]) in answerPairs:\n",
    "            type1.at[rowNames[i], rowNames[j]] = answerPairs[(rowNames[i], rowNames[j])]\n",
    "        else:\n",
    "            type1.at[rowNames[i], rowNames[j]] = 0\n",
    "type1 = type1.astype(float)\n",
    "print(type1)\n",
    "sns.set(rc = {'figure.figsize':(7,5)})\n",
    "g = sns.heatmap(type1, square=True)\n",
    "g.set(xlabel= \"Answer\", ylabel = \"Correct Answer\")\n",
    "plt.savefig(\"collect_sharing_heatmap.pdf\", bbox_inches='tight')\n",
    "plt.savefig(\"collect_sharing_heatmap.png\", dpi=300, bbox_inches='tight')"
   ],
   "metadata": {
    "collapsed": false,
    "pycharm": {
     "name": "#%%\n"
    }
   }
  },
  {
   "cell_type": "code",
   "execution_count": null,
   "outputs": [],
   "source": [
    "t2 = pd.read_csv('output.csv', usecols = [4, 5, 6])\n",
    "t2 = t2[t2[\"Question Type\"] == 2]\n",
    "t2 = t2.drop(\"Question Type\", 1)\n",
    "correctTotals = dict()\n",
    "correctAnswers = t2.loc[:, \"Correct Answer\"]\n",
    "actualAnswers = t2.loc[:, \"Answer\"]\n",
    "answerPairs = dict()\n",
    "for (i,j) in zip(correctAnswers, actualAnswers):\n",
    "    correctTotals[i]= correctTotals.get(i, 0) + 1\n",
    "    answerPairs[(i, j)] = answerPairs.get((i, j), 0) + 1\n",
    "#create ratios for actual/correct answers\n",
    "for (correct, actual) in answerPairs:\n",
    "    answerPairs[(correct, actual)] = answerPairs[(correct, actual)] / correctTotals[correct]\n",
    "rowNames = [\"Location\", \"Personal Information\", \"Financial Information\", \"Health and Fitness\", \"Messages\", \"Photos or Videos\", \"Audio Files\", \"Files and docs\", \"Calendar\", \"Contacts\", \"App Activity\", \"Web Browsing\", \"App Information and Performance\", \"Device or Other Identifiers\"]\n",
    "type2 = pd.DataFrame(columns=rowNames, index=rowNames)\n",
    "for i in range(len(rowNames)):\n",
    "    for j in range(len(rowNames)):\n",
    "        if (rowNames[i], rowNames[j]) in answerPairs:\n",
    "            type2.at[rowNames[i], rowNames[j]] = answerPairs[(rowNames[i], rowNames[j])]\n",
    "        else:\n",
    "            type2.at[rowNames[i], rowNames[j]] = 0\n",
    "type2 = type2.astype(float)\n",
    "sns.set(rc = {'figure.figsize':(7,5)})\n",
    "g = sns.heatmap(type2, square=True)\n",
    "g.set(xlabel= \"Answer\", ylabel = \"Correct Answer\")\n",
    "plt.savefig(\"data_type_heatmap.pdf\", bbox_inches='tight')\n",
    "plt.savefig(\"data_type_heatmap.png\", dpi=300, bbox_inches='tight')"
   ],
   "metadata": {
    "collapsed": false,
    "pycharm": {
     "name": "#%%\n"
    }
   }
  },
  {
   "cell_type": "code",
   "execution_count": null,
   "outputs": [],
   "source": [
    "t3 = pd.read_csv('output.csv', usecols = [4, 5, 6])\n",
    "t3 = t3[t3[\"Question Type\"] == 3]\n",
    "t3 = t3.drop(\"Question Type\", 1)\n",
    "correctTotals = dict()\n",
    "correctAnswers = t3.loc[:, \"Correct Answer\"]\n",
    "actualAnswers = t3.loc[:, \"Answer\"]\n",
    "answerPairs = dict()\n",
    "for (i,j) in zip(correctAnswers, actualAnswers):\n",
    "    correctTotals[i]= correctTotals.get(i, 0) + 1\n",
    "    answerPairs[(i, j)] = answerPairs.get((i, j), 0) + 1\n",
    "#create ratios for actual/correct answers\n",
    "for (correct, actual) in answerPairs:\n",
    "    answerPairs[(correct, actual)] = answerPairs[(correct, actual)] / correctTotals[correct]\n",
    "rowNames = [\"App functionality\", \"Analytics\", \"Developer communications\", \"Advertising or marketing\", \"Fraud prevention, security, and compliance\", \"Personalization\", \"Account management\"]\n",
    "type3 = pd.DataFrame(columns=rowNames, index=rowNames)\n",
    "for i in range(len(rowNames)):\n",
    "    for j in range(len(rowNames)):\n",
    "        if (rowNames[i], rowNames[j]) in answerPairs:\n",
    "            type3.at[rowNames[i], rowNames[j]] = answerPairs[(rowNames[i], rowNames[j])]\n",
    "        else:\n",
    "            type3.at[rowNames[i], rowNames[j]] = 0\n",
    "type3 = type3.astype(float)\n",
    "sns.set(rc = {'figure.figsize':(7,5)})\n",
    "g = sns.heatmap(type3, square=True)\n",
    "g.set(xlabel= \"Answer\", ylabel = \"Correct Answer\")\n",
    "plt.savefig(\"data_purpose_heatmap.pdf\", bbox_inches='tight')\n",
    "plt.savefig(\"data_purpose_heatmap.png\", dpi=300, bbox_inches='tight')"
   ],
   "metadata": {
    "collapsed": false,
    "pycharm": {
     "name": "#%%\n"
    }
   }
  },
  {
   "cell_type": "code",
   "execution_count": null,
   "outputs": [],
   "source": [
    "t3 = pd.read_csv('output.csv', usecols = [4, 5, 6])\n",
    "t3 = t3[t3[\"Question Type\"] == 3]\n",
    "t3 = t3.drop(\"Question Type\", 1)\n",
    "correctTotals = dict()\n",
    "correctAnswers = t3.loc[:, \"Correct Answer\"]\n",
    "actualAnswers = t3.loc[:, \"Answer\"]\n",
    "answerPairs = dict()\n",
    "for (i,j) in zip(correctAnswers, actualAnswers):\n",
    "    correctTotals[i]= correctTotals.get(i, 0) + 1\n",
    "    answerPairs[(i, j)] = answerPairs.get((i, j), 0) + 1\n",
    "#create ratios for actual/correct answers\n",
    "for (correct, actual) in answerPairs:\n",
    "    answerPairs[(correct, actual)] = answerPairs[(correct, actual)] / correctTotals[correct]\n",
    "rowNames = [\"App functionality\", \"Analytics\", \"Developer communications\", \"Advertising or marketing\", \"Fraud prevention, security, and compliance\", \"Personalization\", \"Account management\"]\n",
    "type3 = pd.DataFrame(columns=rowNames, index=rowNames)\n",
    "for i in range(len(rowNames)):\n",
    "    for j in range(len(rowNames)):\n",
    "        if (rowNames[i], rowNames[j]) in answerPairs:\n",
    "            type3.at[rowNames[i], rowNames[j]] = answerPairs[(rowNames[i], rowNames[j])]\n",
    "        else:\n",
    "            type3.at[rowNames[i], rowNames[j]] = 0\n",
    "type3 = type3.astype(float)\n",
    "sns.set(rc = {'figure.figsize':(7,5)})\n",
    "g = sns.heatmap(type3, square=True)\n",
    "g.set(xlabel= \"Answer\", ylabel = \"Correct Answer\")\n",
    "plt.savefig(\"data_purpose_heatmap.pdf\", bbox_inches='tight')\n",
    "plt.savefig(\"data_purpose_heatmap.png\", dpi=300, bbox_inches='tight')"
   ],
   "metadata": {
    "collapsed": false,
    "pycharm": {
     "name": "#%%\n",
     "is_executing": true
    }
   }
  },
  {
   "cell_type": "code",
   "execution_count": null,
   "outputs": [],
   "source": [],
   "metadata": {
    "collapsed": false,
    "pycharm": {
     "name": "#%%\n",
     "is_executing": true
    }
   }
  }
 ],
 "metadata": {
  "kernelspec": {
   "display_name": "Python 3",
   "language": "python",
   "name": "python3"
  },
  "language_info": {
   "codemirror_mode": {
    "name": "ipython",
    "version": 2
   },
   "file_extension": ".py",
   "mimetype": "text/x-python",
   "name": "python",
   "nbconvert_exporter": "python",
   "pygments_lexer": "ipython2",
   "version": "2.7.6"
  }
 },
 "nbformat": 4,
 "nbformat_minor": 0
}