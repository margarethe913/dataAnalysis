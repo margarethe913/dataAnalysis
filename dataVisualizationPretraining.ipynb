{
 "cells": [
  {
   "cell_type": "code",
   "execution_count": 1,
   "metadata": {
    "collapsed": true,
    "pycharm": {
     "name": "#%%\n"
    }
   },
   "outputs": [],
   "source": [
    "import matplotlib.pyplot as plt\n",
    "import pandas as pd\n",
    "import seaborn as sns\n",
    "import numpy as np\n",
    "\n",
    "sns.set()"
   ]
  },
  {
   "cell_type": "code",
   "execution_count": 96,
   "outputs": [
    {
     "data": {
      "text/plain": "array(['5ad0f1934d061300011b0a4d', '570e6b4fc9e604000f020a6f',\n       '612eac9f6c232dc7efccc967', '62aa265d938c612f7c8361e3',\n       '55ae64defdf99b3f864653e7', '5c35dd34be3cea000117948f',\n       '616891e25a026e1f7262116c', '5ca3cafa2707e10001a04746',\n       '610ce0a48fc7e68abc4070c1', '613116efc0cb4b7e8d532855',\n       '5b27c8c9051c6e00019d0c96', '602454a47d0d7d121a1e444b',\n       '6171e05a8bd75852eeb6b0bc', '6101c49c2727ad36a6c593af',\n       '6113a86e9e254bad97528743', '56435b83942576000a66eb5d',\n       '5f72adea4576d21f8ac889a0', '60c7c096903b9b083aa00c4f',\n       '62c3430ae19d78462af9e743', '62b29802f626d80a1caed506',\n       '627935c4e5d7e70b502e206e', '5974ce5364b35a00019dd811',\n       '5e5cc9ce92d80948da643ebc', '62b443cd6bb4a97f543cb73e',\n       '5a607a7eac56240001544493', '611622ddd8be1ac51298cb89',\n       '613aaf8a8dc36e94fa4f1ba7', '5c7cf1adc8c9920015d0bc60',\n       '6113d948bcb1f232c85bdcf3', '5a22d662d6fdbc00011c92ce',\n       '6147c45e2fd30e98355c1e52', '61015f63f9a351d3171a0f98',\n       '60a6ba026f8bd75b67b23c97'], dtype=object)"
     },
     "execution_count": 96,
     "metadata": {},
     "output_type": "execute_result"
    }
   ],
   "source": [
    "#new results\n",
    "df = pd.read_csv(\"pretrainingOutput.csv\")\n",
    "df = df[df[\"Date Category\"] == 2]\n",
    "\n",
    "df[\"Participant ID\"].unique()"
   ],
   "metadata": {
    "collapsed": false,
    "pycharm": {
     "name": "#%%\n"
    }
   }
  },
  {
   "cell_type": "code",
   "execution_count": 97,
   "outputs": [
    {
     "data": {
      "text/plain": "0.6245954692556634"
     },
     "execution_count": 97,
     "metadata": {},
     "output_type": "execute_result"
    }
   ],
   "source": [
    "# overall main question correctness rate\n",
    "df[(df[\"Correctness\"] != -1)][\"Correctness\"].mean()"
   ],
   "metadata": {
    "collapsed": false,
    "pycharm": {
     "name": "#%%\n"
    }
   }
  },
  {
   "cell_type": "code",
   "execution_count": 60,
   "outputs": [
    {
     "data": {
      "text/plain": "0.7366071428571429"
     },
     "execution_count": 60,
     "metadata": {},
     "output_type": "execute_result"
    }
   ],
   "source": [
    "#baseline main question correctness rate\n",
    "df_baseline_eval = df[(df[\"Prompt Condition\"] == 0) & (df[\"Correctness\"] != -1) & (~df[\"Question ID\"].str.contains(\"-\"))]\n",
    "df_baseline_eval[\"Correctness\"].mean()"
   ],
   "metadata": {
    "collapsed": false,
    "pycharm": {
     "name": "#%%\n"
    }
   }
  },
  {
   "cell_type": "code",
   "execution_count": 61,
   "outputs": [
    {
     "data": {
      "text/plain": "0.59375"
     },
     "execution_count": 61,
     "metadata": {},
     "output_type": "execute_result"
    }
   ],
   "source": [
    "#quiz group main question correctness rate\n",
    "df_quiz_eval = df[(df[\"Prompt Condition\"] == 1) & (df[\"Correctness\"] != -1) & (~df[\"Question ID\"].str.contains(\"-\"))]\n",
    "df_quiz_eval[\"Correctness\"].mean()"
   ],
   "metadata": {
    "collapsed": false,
    "pycharm": {
     "name": "#%%\n"
    }
   }
  },
  {
   "cell_type": "code",
   "execution_count": 62,
   "outputs": [],
   "source": [
    "#dict of collectSharePairs\n",
    "collectSharePairs = {'Q1215': 'Q1233', 'Q1263': 'Q1264', 'Q1236': 'Q1234', 'Q1241': 'Q1242', 'Q1271': 'QID1277', 'Q1265': 'Q1266', 'Q1259': 'Q1260', 'Q1253': 'Q1254', 'Q1247': 'Q1248', 'Q1245': 'Q1246', 'Q1243': 'Q1244', 'Q1249': 'Q1250', 'Q1251': 'Q1252', 'Q1214': 'Q1231', 'Q1237': 'Q1238', 'Q1239': 'QID1245', 'Q1269': 'Q1270', 'Q1267': 'Q1268', 'Q1261': 'Q1262', 'Q1257': 'Q1258', 'Q1255': 'Q1256'}"
   ],
   "metadata": {
    "collapsed": false,
    "pycharm": {
     "name": "#%%\n"
    }
   }
  },
  {
   "cell_type": "code",
   "execution_count": 63,
   "outputs": [
    {
     "name": "stdout",
     "output_type": "stream",
     "text": [
      "0.7351190476190477 0.5952380952380952\n"
     ]
    },
    {
     "data": {
      "text/plain": "<BarContainer object of 2 artists>"
     },
     "execution_count": 63,
     "metadata": {},
     "output_type": "execute_result"
    },
    {
     "data": {
      "text/plain": "<Figure size 1080x360 with 1 Axes>",
      "image/png": "[encoded data removed]"
     },
     "metadata": {},
     "output_type": "display_data"
    }
   ],
   "source": [
    "#collect and share only correctness rates\n",
    "collectAverage = 0\n",
    "shareAverage = 0\n",
    "for question in collectSharePairs:\n",
    "    shareQ = collectSharePairs[question]\n",
    "    cqOnly = df[(df[\"Question ID\"] == question)]\n",
    "    sqOnly = df[(df[\"Question ID\"] == shareQ)]\n",
    "    collectAverage += cqOnly[\"Correctness\"].mean()\n",
    "    shareAverage += sqOnly[\"Correctness\"].mean()\n",
    "collectAverage /= len(collectSharePairs)\n",
    "shareAverage /= len(collectSharePairs)\n",
    "print(collectAverage, shareAverage)\n",
    "typeDict = {\"collection\": collectAverage, \"sharing\": shareAverage}\n",
    "plt.figure(figsize=(15,5))\n",
    "plt.bar(typeDict.keys(), typeDict.values(), width=.5, color='g')"
   ],
   "metadata": {
    "collapsed": false,
    "pycharm": {
     "name": "#%%\n"
    }
   }
  },
  {
   "cell_type": "code",
   "execution_count": 49,
   "outputs": [
    {
     "name": "stdout",
     "output_type": "stream",
     "text": [
      "0.5625\n",
      "0.578125\n",
      "0.8125\n",
      "0.90625\n",
      "0.796875\n",
      "0.796875\n",
      "0.359375\n",
      "0.71875\n",
      "0.65625\n",
      "0.59375\n",
      "0.421875\n",
      "0.8125\n",
      "0.71875\n",
      "0.828125\n",
      "0.546875\n",
      "0.625\n",
      "0.734375\n",
      "0.390625\n",
      "0.4375\n",
      "0.828125\n",
      "0.84375\n"
     ]
    },
    {
     "data": {
      "text/plain": "<BarContainer object of 21 artists>"
     },
     "execution_count": 49,
     "metadata": {},
     "output_type": "execute_result"
    },
    {
     "data": {
      "text/plain": "<Figure size 1080x360 with 1 Axes>",
      "image/png": "[encoded data removed]"
     },
     "metadata": {},
     "output_type": "display_data"
    }
   ],
   "source": [
    "#correct answer rate for each question (non-pretraining)\n",
    "questionAvg = dict()\n",
    "for question in collectSharePairs:\n",
    "    shareQ = collectSharePairs[question]\n",
    "    cqOnly = df[(df[\"Question ID\"] == question)]\n",
    "    sqOnly = df[(df[\"Question ID\"] == shareQ)]\n",
    "    collectAverage = cqOnly[\"Correctness\"].mean()\n",
    "    shareAverage = sqOnly[\"Correctness\"].mean()\n",
    "    newAverage = (collectAverage + shareAverage)/2\n",
    "    print(newAverage)\n",
    "    questionAvg[question] = newAverage\n",
    "plt.figure(figsize=(15,5))\n",
    "plt.bar(questionAvg.keys(), questionAvg.values(), width=.5, color='g')\n"
   ],
   "metadata": {
    "collapsed": false,
    "pycharm": {
     "name": "#%%\n"
    }
   }
  },
  {
   "cell_type": "code",
   "execution_count": 67,
   "outputs": [
    {
     "data": {
      "text/plain": "<AxesSubplot:xlabel='Fluency Level', ylabel='Correctness'>"
     },
     "execution_count": 67,
     "metadata": {},
     "output_type": "execute_result"
    },
    {
     "data": {
      "text/plain": "<Figure size 432x288 with 1 Axes>",
      "image/png": "[encoded data removed]"
     },
     "metadata": {},
     "output_type": "display_data"
    }
   ],
   "source": [
    "#analysis of fluency level\n",
    "sns.pointplot(data=df, x=\"Fluency Level\", y=\"Correctness\", hue=\"Prompt Condition\", order=[\"Beginner\", \"Intermediate\", \"Proficient\", \"Fully Fluent\"])\n"
   ],
   "metadata": {
    "collapsed": false,
    "pycharm": {
     "name": "#%%\n"
    }
   }
  },
  {
   "cell_type": "code",
   "execution_count": 106,
   "outputs": [
    {
     "data": {
      "text/plain": "array(['56210effed6e5a000ac7f3a5', '605f064127eec9cb4494b4d9',\n       '5f761e5106b786071f45b4aa', '5be59ce3520a3300010e28a9',\n       '5de831cad4995d000c5fb540', '611cf0fcb571ffef2625d948',\n       '61365f766033bc62f92053dc', '6109482350367148ce0aa834',\n       '61006e8a4fe954de47730409', '617134f939b0aa685b96bb14',\n       '5fd50a355025422fd25bb05b', '5eb3a51f58efe718f5cffdb4',\n       '5a8d8079190420000156435d', '61363ce02e6022a741d63a6e',\n       '60d1c46dcf527589711cf768', '5e8cb59cf38a3b057a543c1e', 'sd',\n       '5e9ce0a46976671ceda6082a', '62b4a68f5a0b656aa7a07891',\n       '62a740d9c5f27d3efa9d9403', '5caa7f8c0d95570013d82f2f',\n       '5ecae16e5a125126cbb0e08b', '5eda1c91460b765ded2a52d5',\n       '613bb29f16252362f4dc11a3', '611023befc2052d878c7f50c',\n       '60fda1e636243e757ed13ab8', '5cefd79bc37f4f0018de98da',\n       '5c549c6372fd9000018b5968', '60ef4432df04da6821fec20a',\n       '58d0632c2fc72000011f8c57', '62976e7114308ee7c69d10ae',\n       '612520bd6605794b27e6a0fd', '5e63e24eaf3bd51660031dbe',\n       '5d1c9f75328d1c001af3af0f', '6171b1bc917dfe828a3130dd',\n       '5adc95a1066c510001d410d7', '5d88e9d13e9a6e0001084e80',\n       '5765c0fcf2e23200017ded5e', '60204458e6a42863349abc9f',\n       '61003e522bc23b7b3f65a8c0', '5f97e6601f6d0e016087fc91',\n       '5bf1a218f5e4460001e033c6'], dtype=object)"
     },
     "execution_count": 106,
     "metadata": {},
     "output_type": "execute_result"
    }
   ],
   "source": [
    "#old data\n",
    "df1 = pd.read_csv(\"pretrainingOutput.csv\")\n",
    "df1 = df[df[\"Date Category\"] == 1]\n",
    "\n",
    "df1[\"Participant ID\"].unique()"
   ],
   "metadata": {
    "collapsed": false,
    "pycharm": {
     "name": "#%%\n"
    }
   }
  },
  {
   "cell_type": "code",
   "execution_count": 118,
   "outputs": [
    {
     "data": {
      "text/plain": "0.3972602739726027"
     },
     "execution_count": 118,
     "metadata": {},
     "output_type": "execute_result"
    }
   ],
   "source": [
    "df1[(df1[\"Correctness\"] != -1)][\"Correctness\"].mean()"
   ],
   "metadata": {
    "collapsed": false,
    "pycharm": {
     "name": "#%%\n"
    }
   }
  },
  {
   "cell_type": "code",
   "execution_count": 125,
   "outputs": [
    {
     "name": "stdout",
     "output_type": "stream",
     "text": [
      "     Unnamed: 0 Question ID            Participant ID  \\\n",
      "239         553      Q2-1-1  5ecae16e5a125126cbb0e08b   \n",
      "240         554      Q2-1-1  5eda1c91460b765ded2a52d5   \n",
      "241         555      Q2-1-1  613bb29f16252362f4dc11a3   \n",
      "247         561      Q2-1-1  611023befc2052d878c7f50c   \n",
      "249         563      Q2-1-1  60fda1e636243e757ed13ab8   \n",
      "..          ...         ...                       ...   \n",
      "720        1058      Q2-9-1  5d88e9d13e9a6e0001084e80   \n",
      "721        1060      Q2-9-1  5765c0fcf2e23200017ded5e   \n",
      "722        1061      Q2-9-1  60204458e6a42863349abc9f   \n",
      "725        1064      Q2-9-1  5f97e6601f6d0e016087fc91   \n",
      "726        1065      Q2-9-1  5bf1a218f5e4460001e033c6   \n",
      "\n",
      "                                           Description Answer Correct Answer  \\\n",
      "239  An app opens a webview that allows users to fr...    NaN             No   \n",
      "240  An app opens a webview that allows users to fr...    NaN             No   \n",
      "241  An app opens a webview that allows users to fr...    NaN             No   \n",
      "247  An app opens a webview that allows users to fr...    NaN             No   \n",
      "249  An app opens a webview that allows users to fr...    NaN             No   \n",
      "..                                                 ...    ...            ...   \n",
      "720  An app sends the user's location data to a wea...    NaN             No   \n",
      "721  An app sends the user's location data to a wea...    NaN             No   \n",
      "722  An app sends the user's location data to a wea...    NaN             No   \n",
      "725  An app sends the user's location data to a wea...    NaN             No   \n",
      "726  An app sends the user's location data to a wea...    NaN             No   \n",
      "\n",
      "     Prompt Condition    Question Category Concept Group  \\\n",
      "239                 0  share pretraining 2      Webviews   \n",
      "240                 0  share pretraining 2      Webviews   \n",
      "241                 0  share pretraining 2      Webviews   \n",
      "247                 0  share pretraining 2      Webviews   \n",
      "249                 0  share pretraining 2      Webviews   \n",
      "..                ...                  ...           ...   \n",
      "720                 0  share pretraining 2  User Consent   \n",
      "721                 0  share pretraining 2  User Consent   \n",
      "722                 0  share pretraining 2  User Consent   \n",
      "725                 0  share pretraining 2  User Consent   \n",
      "726                 0  share pretraining 2  User Consent   \n",
      "\n",
      "                                         Question Name  Answer Index  \\\n",
      "239  An app opens a webview that allows users to fr...           NaN   \n",
      "240  An app opens a webview that allows users to fr...           NaN   \n",
      "241  An app opens a webview that allows users to fr...           NaN   \n",
      "247  An app opens a webview that allows users to fr...           NaN   \n",
      "249  An app opens a webview that allows users to fr...           NaN   \n",
      "..                                                 ...           ...   \n",
      "720  An app sends the user's location data to a wea...           NaN   \n",
      "721  An app sends the user's location data to a wea...           NaN   \n",
      "722  An app sends the user's location data to a wea...           NaN   \n",
      "725  An app sends the user's location data to a wea...           NaN   \n",
      "726  An app sends the user's location data to a wea...           NaN   \n",
      "\n",
      "     Correct Answer Index  Timings  Date Category Fluency Level  Correctness  \n",
      "239                   NaN      NaN              1           NaN           -1  \n",
      "240                   NaN      NaN              1           NaN           -1  \n",
      "241                   NaN      NaN              1           NaN           -1  \n",
      "247                   NaN      NaN              1           NaN           -1  \n",
      "249                   NaN      NaN              1           NaN           -1  \n",
      "..                    ...      ...            ...           ...          ...  \n",
      "720                   NaN      NaN              1           NaN           -1  \n",
      "721                   NaN      NaN              1           NaN           -1  \n",
      "722                   NaN      NaN              1           NaN           -1  \n",
      "725                   NaN      NaN              1           NaN           -1  \n",
      "726                   NaN      NaN              1           NaN           -1  \n",
      "\n",
      "[140 rows x 16 columns]\n"
     ]
    },
    {
     "data": {
      "text/plain": "-1.0"
     },
     "execution_count": 125,
     "metadata": {},
     "output_type": "execute_result"
    }
   ],
   "source": [
    "#baseline main question correctness rate\n",
    "df_baseline_eval = df1[(df1[\"Prompt Condition\"] == 0)]\n",
    "df_baseline_eval.to_csv(\"baseline.csv\")\n",
    "print(df_baseline_eval)\n",
    "df_baseline_eval[\"Correctness\"].mean()"
   ],
   "metadata": {
    "collapsed": false,
    "pycharm": {
     "name": "#%%\n"
    }
   }
  },
  {
   "cell_type": "code",
   "execution_count": 116,
   "outputs": [
    {
     "data": {
      "text/plain": "0.3972602739726027"
     },
     "execution_count": 116,
     "metadata": {},
     "output_type": "execute_result"
    }
   ],
   "source": [
    "#quiz group main question correctness rate\n",
    "df_quiz_eval = df1[(df1[\"Prompt Condition\"] == 1) & (df1[\"Correctness\"] != -1)]\n",
    "df_quiz_eval[\"Correctness\"].mean()"
   ],
   "metadata": {
    "collapsed": false,
    "pycharm": {
     "name": "#%%\n"
    }
   }
  },
  {
   "cell_type": "code",
   "execution_count": 92,
   "outputs": [],
   "source": [
    "# def miss_one_fn(row):\n",
    "#     if row[\"Answer Index\"] == 3 and row[\"Correct Answer Index\"] == 0 and row[\"Question Category\"] == \"share exempt\":\n",
    "#         return 1\n",
    "#     else:\n",
    "#         return 0\n",
    "#\n",
    "# baseline_miss_one = df_baseline_eval[(df_baseline_eval[\"Correct Answer Index\"] == 0) & (df_baseline_eval[\"Question Category\"] == \"share exempt\")].apply(miss_one_fn, axis=1)\n",
    "# print(baseline_miss_one.mean())\n",
    "#\n",
    "# quiz_miss_one = df_quiz_eval[(df_quiz_eval[\"Correct Answer Index\"] == 0) & (df_quiz_eval[\"Question Category\"] == \"share exempt\")].apply(miss_one_fn, axis=1)\n",
    "# print(quiz_miss_one.mean())"
   ],
   "metadata": {
    "collapsed": false,
    "pycharm": {
     "name": "#%%\n"
    }
   }
  },
  {
   "cell_type": "code",
   "execution_count": null,
   "outputs": [],
   "source": [
    "def miss_one_fn(row):\n",
    "#     if row[\"Answer Index\"] == 1 and row[\"Correct Answer Index\"] == 2 and row[\"Question Category\"] == \"share special\":\n",
    "#         return 1\n",
    "#     else:\n",
    "#         return 0\n",
    "#\n",
    "# baseline_miss_one = df_baseline_eval[(df_baseline_eval[\"Correct Answer Index\"] == 2) & (df_baseline_eval[\"Question Category\"] == \"share special\")].apply(miss_one_fn, axis=1)\n",
    "# print(baseline_miss_one.mean())\n",
    "#\n",
    "# quiz_miss_one = df_quiz_eval[(df_quiz_eval[\"Correct Answer Index\"] == 2) & (df_quiz_eval[\"Question Category\"] == \"share special\")].apply(miss_one_fn, axis=1)\n",
    "# print(quiz_miss_one.mean())"
   ],
   "metadata": {
    "collapsed": false,
    "pycharm": {
     "name": "#%%\n"
    }
   }
  },
  {
   "cell_type": "code",
   "execution_count": 165,
   "outputs": [
    {
     "data": {
      "text/plain": "<AxesSubplot:xlabel='Answer Index', ylabel='Probability'>"
     },
     "execution_count": 165,
     "metadata": {},
     "output_type": "execute_result"
    },
    {
     "data": {
      "text/plain": "<Figure size 432x288 with 1 Axes>",
      "image/png": "[encoded data removed]"
     },
     "metadata": {},
     "output_type": "display_data"
    }
   ],
   "source": [
    "# baseline answer index distribution\n",
    "sns.histplot(df[(df[\"Prompt Condition\"] == 0) & (df[\"Correctness\"] != -1) & (~df[\"Question ID\"].str.contains(\"-\"))], stat=\"probability\", x=\"Answer Index\")"
   ],
   "metadata": {
    "collapsed": false,
    "pycharm": {
     "name": "#%%\n"
    }
   }
  },
  {
   "cell_type": "code",
   "execution_count": 166,
   "outputs": [
    {
     "data": {
      "text/plain": "<AxesSubplot:xlabel='Answer Index', ylabel='Probability'>"
     },
     "execution_count": 166,
     "metadata": {},
     "output_type": "execute_result"
    },
    {
     "data": {
      "text/plain": "<Figure size 432x288 with 1 Axes>",
      "image/png": "[encoded data removed]"
     },
     "metadata": {},
     "output_type": "display_data"
    }
   ],
   "source": [
    "# quiz group answer index distribution\n",
    "sns.histplot(df[(df[\"Prompt Condition\"] == 1) & (df[\"Correctness\"] != -1) & (~df[\"Question ID\"].str.contains(\"-\"))], stat=\"probability\", x=\"Answer Index\")\n"
   ],
   "metadata": {
    "collapsed": false,
    "pycharm": {
     "name": "#%%\n"
    }
   }
  },
  {
   "cell_type": "code",
   "execution_count": 167,
   "outputs": [
    {
     "name": "stdout",
     "output_type": "stream",
     "text": [
      "0.5666666666666667\n",
      "0.42105263157894735\n"
     ]
    }
   ],
   "source": [
    "# Webviews\n",
    "df_webview = df[df[\"Concept Group\"] == \"Webviews\"]\n",
    "\n",
    "print(df_webview[(df_webview[\"Prompt Condition\"] == 0) & (df_webview[\"Correctness\"] != -1)][\"Correctness\"].mean())\n",
    "print(df_webview[(df_webview[\"Prompt Condition\"] == 1) & (df_webview[\"Correctness\"] != -1) & (~df_webview[\"Question ID\"].str.contains(\"-\"))][\"Correctness\"].mean())"
   ],
   "metadata": {
    "collapsed": false,
    "pycharm": {
     "name": "#%%\n"
    }
   }
  },
  {
   "cell_type": "code",
   "execution_count": 168,
   "outputs": [
    {
     "name": "stdout",
     "output_type": "stream",
     "text": [
      "0.4444444444444444\n",
      "0.6153846153846154\n"
     ]
    }
   ],
   "source": [
    "# Service Providers\n",
    "df_concept = df[df[\"Concept Group\"] == \"Service Providers\"]\n",
    "\n",
    "print(df_concept[(df_concept[\"Prompt Condition\"] == 0) & (df_concept[\"Correctness\"] != -1)][\"Correctness\"].mean())\n",
    "print(df_concept[(df_concept[\"Prompt Condition\"] == 1) & (df_concept[\"Correctness\"] != -1) & (~df_concept[\"Question ID\"].str.contains(\"-\"))][\"Correctness\"].mean())"
   ],
   "metadata": {
    "collapsed": false,
    "pycharm": {
     "name": "#%%\n"
    }
   }
  },
  {
   "cell_type": "code",
   "execution_count": 169,
   "outputs": [
    {
     "name": "stdout",
     "output_type": "stream",
     "text": [
      "0.375\n",
      "0.6666666666666666\n"
     ]
    }
   ],
   "source": [
    "# Optional Data Collection\n",
    "df_concept = df[df[\"Concept Group\"] == \"Optional Data Collection\"]\n",
    "\n",
    "print(df_concept[(df_concept[\"Prompt Condition\"] == 0) & (df_concept[\"Correctness\"] != -1)][\"Correctness\"].mean())\n",
    "print(df_concept[(df_concept[\"Prompt Condition\"] == 1) & (df_concept[\"Correctness\"] != -1) & (~df_concept[\"Question ID\"].str.contains(\"-\"))][\"Correctness\"].mean())"
   ],
   "metadata": {
    "collapsed": false,
    "pycharm": {
     "name": "#%%\n"
    }
   }
  },
  {
   "cell_type": "code",
   "execution_count": 170,
   "outputs": [
    {
     "name": "stdout",
     "output_type": "stream",
     "text": [
      "0.0\n",
      "0.5\n"
     ]
    }
   ],
   "source": [
    "# Anonymization\n",
    "df_concept = df[df[\"Concept Group\"] == \"Anonymization\"]\n",
    "\n",
    "print(df_concept[(df_concept[\"Prompt Condition\"] == 0) & (df_concept[\"Correctness\"] != -1)][\"Correctness\"].mean())\n",
    "print(df_concept[(df_concept[\"Prompt Condition\"] == 1) & (df_concept[\"Correctness\"] != -1) & (~df_concept[\"Question ID\"].str.contains(\"-\"))][\"Correctness\"].mean())"
   ],
   "metadata": {
    "collapsed": false,
    "pycharm": {
     "name": "#%%\n"
    }
   }
  },
  {
   "cell_type": "code",
   "execution_count": 171,
   "outputs": [
    {
     "name": "stdout",
     "output_type": "stream",
     "text": [
      "0.4\n",
      "0.25\n"
     ]
    }
   ],
   "source": [
    "# Legal Request\n",
    "df_concept = df[df[\"Concept Group\"] == \"Legal Request\"]\n",
    "\n",
    "print(df_concept[(df_concept[\"Prompt Condition\"] == 0) & (df_concept[\"Correctness\"] != -1)][\"Correctness\"].mean())\n",
    "print(df_concept[(df_concept[\"Prompt Condition\"] == 1) & (df_concept[\"Correctness\"] != -1) & (~df_concept[\"Question ID\"].str.contains(\"-\"))][\"Correctness\"].mean())"
   ],
   "metadata": {
    "collapsed": false,
    "pycharm": {
     "name": "#%%\n"
    }
   }
  },
  {
   "cell_type": "code",
   "execution_count": 172,
   "outputs": [
    {
     "name": "stdout",
     "output_type": "stream",
     "text": [
      "0.07692307692307693\n",
      "0.1\n"
     ]
    }
   ],
   "source": [
    "# User Consent\n",
    "df_concept = df[df[\"Concept Group\"] == \"User Consent\"]\n",
    "\n",
    "print(df_concept[(df_concept[\"Prompt Condition\"] == 0) & (df_concept[\"Correctness\"] != -1)][\"Correctness\"].mean())\n",
    "print(df_concept[(df_concept[\"Prompt Condition\"] == 1) & (df_concept[\"Correctness\"] != -1) & (~df_concept[\"Question ID\"].str.contains(\"-\"))][\"Correctness\"].mean())"
   ],
   "metadata": {
    "collapsed": false,
    "pycharm": {
     "name": "#%%\n"
    }
   }
  },
  {
   "cell_type": "code",
   "execution_count": 173,
   "outputs": [
    {
     "name": "stdout",
     "output_type": "stream",
     "text": [
      "0.5\n",
      "0.5\n"
     ]
    }
   ],
   "source": [
    "# Share Basic\n",
    "df_concept = df[df[\"Concept Group\"] == \"Share Basic\"]\n",
    "\n",
    "print(df_concept[(df_concept[\"Prompt Condition\"] == 0) & (df_concept[\"Correctness\"] != -1)][\"Correctness\"].mean())\n",
    "print(df_concept[(df_concept[\"Prompt Condition\"] == 1) & (df_concept[\"Correctness\"] != -1) & (~df_concept[\"Question ID\"].str.contains(\"-\"))][\"Correctness\"].mean())"
   ],
   "metadata": {
    "collapsed": false,
    "pycharm": {
     "name": "#%%\n"
    }
   }
  },
  {
   "cell_type": "code",
   "execution_count": 174,
   "outputs": [
    {
     "name": "stdout",
     "output_type": "stream",
     "text": [
      "0.8571428571428571\n",
      "0.75\n"
     ]
    }
   ],
   "source": [
    "# Collect Basic\n",
    "df_concept = df[df[\"Concept Group\"] == \"Collect Basic\"]\n",
    "\n",
    "print(df_concept[(df_concept[\"Prompt Condition\"] == 0) & (df_concept[\"Correctness\"] != -1)][\"Correctness\"].mean())\n",
    "print(df_concept[(df_concept[\"Prompt Condition\"] == 1) & (df_concept[\"Correctness\"] != -1) & (~df_concept[\"Question ID\"].str.contains(\"-\"))][\"Correctness\"].mean())"
   ],
   "metadata": {
    "collapsed": false,
    "pycharm": {
     "name": "#%%\n"
    }
   }
  },
  {
   "cell_type": "code",
   "execution_count": 175,
   "outputs": [
    {
     "name": "stdout",
     "output_type": "stream",
     "text": [
      "0.8571428571428571\n",
      "0.5\n"
     ]
    }
   ],
   "source": [
    "# Off-device Server Transfers\n",
    "df_concept = df[df[\"Concept Group\"] == \"Off-device Server Transfers\"]\n",
    "\n",
    "print(df_concept[(df_concept[\"Prompt Condition\"] == 0) & (df_concept[\"Correctness\"] != -1)][\"Correctness\"].mean())\n",
    "print(df_concept[(df_concept[\"Prompt Condition\"] == 1) & (df_concept[\"Correctness\"] != -1) & (~df_concept[\"Question ID\"].str.contains(\"-\"))][\"Correctness\"].mean())"
   ],
   "metadata": {
    "collapsed": false,
    "pycharm": {
     "name": "#%%\n"
    }
   }
  },
  {
   "cell_type": "code",
   "execution_count": 176,
   "outputs": [
    {
     "name": "stdout",
     "output_type": "stream",
     "text": [
      "0.6666666666666666\n",
      "0.2727272727272727\n"
     ]
    }
   ],
   "source": [
    "# On-device processing and transfers\n",
    "df_concept = df[df[\"Concept Group\"] == \"On-device processing and transfers\"]\n",
    "\n",
    "print(df_concept[(df_concept[\"Prompt Condition\"] == 0) & (df_concept[\"Correctness\"] != -1)][\"Correctness\"].mean())\n",
    "print(df_concept[(df_concept[\"Prompt Condition\"] == 1) & (df_concept[\"Correctness\"] != -1) & (~df_concept[\"Question ID\"].str.contains(\"-\"))][\"Correctness\"].mean())"
   ],
   "metadata": {
    "collapsed": false,
    "pycharm": {
     "name": "#%%\n"
    }
   }
  },
  {
   "cell_type": "code",
   "execution_count": 177,
   "outputs": [
    {
     "name": "stdout",
     "output_type": "stream",
     "text": [
      "0.625\n",
      "0.375\n"
     ]
    }
   ],
   "source": [
    "# Libraries/SDKs\n",
    "df_concept = df[df[\"Concept Group\"] == \"Libraries/SDKs\"]\n",
    "\n",
    "print(df_concept[(df_concept[\"Prompt Condition\"] == 0) & (df_concept[\"Correctness\"] != -1)][\"Correctness\"].mean())\n",
    "print(df_concept[(df_concept[\"Prompt Condition\"] == 1) & (df_concept[\"Correctness\"] != -1) & (~df_concept[\"Question ID\"].str.contains(\"-\"))][\"Correctness\"].mean())"
   ],
   "metadata": {
    "collapsed": false,
    "pycharm": {
     "name": "#%%\n"
    }
   }
  },
  {
   "cell_type": "code",
   "execution_count": 178,
   "outputs": [
    {
     "name": "stdout",
     "output_type": "stream",
     "text": [
      "0.5555555555555556\n",
      "1.0\n"
     ]
    }
   ],
   "source": [
    "# End to End Encryption\n",
    "df_concept = df[df[\"Concept Group\"] == \"End to End Encryption\"]\n",
    "\n",
    "print(df_concept[(df_concept[\"Prompt Condition\"] == 0) & (df_concept[\"Correctness\"] != -1)][\"Correctness\"].mean())\n",
    "print(df_concept[(df_concept[\"Prompt Condition\"] == 1) & (df_concept[\"Correctness\"] != -1) & (~df_concept[\"Question ID\"].str.contains(\"-\"))][\"Correctness\"].mean())"
   ],
   "metadata": {
    "collapsed": false,
    "pycharm": {
     "name": "#%%\n"
    }
   }
  },
  {
   "cell_type": "code",
   "execution_count": 179,
   "outputs": [
    {
     "name": "stdout",
     "output_type": "stream",
     "text": [
      "0.5\n",
      "0.3333333333333333\n"
     ]
    }
   ],
   "source": [
    "# Ephemeral Processing\n",
    "df_concept = df[df[\"Concept Group\"] == \"Ephemeral Processing\"]\n",
    "\n",
    "print(df_concept[(df_concept[\"Prompt Condition\"] == 0) & (df_concept[\"Correctness\"] != -1)][\"Correctness\"].mean())\n",
    "print(df_concept[(df_concept[\"Prompt Condition\"] == 1) & (df_concept[\"Correctness\"] != -1) & (~df_concept[\"Question ID\"].str.contains(\"-\"))][\"Correctness\"].mean())"
   ],
   "metadata": {
    "collapsed": false,
    "pycharm": {
     "name": "#%%\n"
    }
   }
  },
  {
   "cell_type": "code",
   "execution_count": 180,
   "outputs": [
    {
     "name": "stdout",
     "output_type": "stream",
     "text": [
      "0.875\n",
      "0.5\n"
     ]
    }
   ],
   "source": [
    "# Pseudynoymization\n",
    "df_concept = df[df[\"Concept Group\"] == \"Pseudynoymization\"]\n",
    "\n",
    "print(df_concept[(df_concept[\"Prompt Condition\"] == 0) & (df_concept[\"Correctness\"] != -1)][\"Correctness\"].mean())\n",
    "print(df_concept[(df_concept[\"Prompt Condition\"] == 1) & (df_concept[\"Correctness\"] != -1) & (~df_concept[\"Question ID\"].str.contains(\"-\"))][\"Correctness\"].mean())"
   ],
   "metadata": {
    "collapsed": false,
    "pycharm": {
     "name": "#%%\n"
    }
   }
  }
 ],
 "metadata": {
  "kernelspec": {
   "display_name": "Python 3",
   "language": "python",
   "name": "python3"
  },
  "language_info": {
   "codemirror_mode": {
    "name": "ipython",
    "version": 2
   },
   "file_extension": ".py",
   "mimetype": "text/x-python",
   "name": "python",
   "nbconvert_exporter": "python",
   "pygments_lexer": "ipython2",
   "version": "2.7.6"
  }
 },
 "nbformat": 4,
 "nbformat_minor": 0
}