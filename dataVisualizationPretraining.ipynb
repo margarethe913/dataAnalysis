{
 "cells": [
  {
   "cell_type": "code",
   "execution_count": 1,
   "metadata": {
    "collapsed": true,
    "pycharm": {
     "name": "#%%\n"
    }
   },
   "outputs": [],
   "source": [
    "import matplotlib.pyplot as plt\n",
    "import pandas as pd\n",
    "import seaborn as sns\n",
    "import numpy as np\n",
    "\n",
    "sns.set()"
   ]
  },
  {
   "cell_type": "code",
   "execution_count": 2,
   "outputs": [
    {
     "data": {
      "text/plain": "array(['5ad0f1934d061300011b0a4d', '570e6b4fc9e604000f020a6f',\n       '612eac9f6c232dc7efccc967', '62aa265d938c612f7c8361e3',\n       '55ae64defdf99b3f864653e7', '5c35dd34be3cea000117948f',\n       '616891e25a026e1f7262116c', '5ca3cafa2707e10001a04746',\n       '610ce0a48fc7e68abc4070c1', '613116efc0cb4b7e8d532855',\n       '5b27c8c9051c6e00019d0c96', '602454a47d0d7d121a1e444b',\n       '6171e05a8bd75852eeb6b0bc', '6101c49c2727ad36a6c593af',\n       '6113a86e9e254bad97528743', '56435b83942576000a66eb5d',\n       '5f72adea4576d21f8ac889a0', '60c7c096903b9b083aa00c4f',\n       '62c3430ae19d78462af9e743', '62b29802f626d80a1caed506',\n       '627935c4e5d7e70b502e206e', '5974ce5364b35a00019dd811',\n       '5e5cc9ce92d80948da643ebc', '62b443cd6bb4a97f543cb73e',\n       '5a607a7eac56240001544493', '611622ddd8be1ac51298cb89',\n       '613aaf8a8dc36e94fa4f1ba7', '5c7cf1adc8c9920015d0bc60',\n       '6113d948bcb1f232c85bdcf3', '5a22d662d6fdbc00011c92ce',\n       '6147c45e2fd30e98355c1e52', '61015f63f9a351d3171a0f98',\n       '60a6ba026f8bd75b67b23c97'], dtype=object)"
     },
     "execution_count": 2,
     "metadata": {},
     "output_type": "execute_result"
    }
   ],
   "source": [
    "#new results\n",
    "df = pd.read_csv(\"pretrainingOutput.csv\")\n",
    "df = df[df[\"Date Category\"] == 2]\n",
    "\n",
    "df[\"Participant ID\"].unique()"
   ],
   "metadata": {
    "collapsed": false,
    "pycharm": {
     "name": "#%%\n"
    }
   }
  },
  {
   "cell_type": "code",
   "execution_count": 3,
   "outputs": [
    {
     "data": {
      "text/plain": "0.6245954692556634"
     },
     "execution_count": 3,
     "metadata": {},
     "output_type": "execute_result"
    }
   ],
   "source": [
    "# overall main question correctness rate\n",
    "df[(df[\"Correctness\"] != -1)][\"Correctness\"].mean()"
   ],
   "metadata": {
    "collapsed": false,
    "pycharm": {
     "name": "#%%\n"
    }
   }
  },
  {
   "cell_type": "code",
   "execution_count": 4,
   "outputs": [
    {
     "data": {
      "text/plain": "0.7366071428571429"
     },
     "execution_count": 4,
     "metadata": {},
     "output_type": "execute_result"
    }
   ],
   "source": [
    "#baseline main question correctness rate\n",
    "df_baseline_eval = df[(df[\"Prompt Condition\"] == 0) & (df[\"Correctness\"] != -1) & (~df[\"Question ID\"].str.contains(\"-\"))]\n",
    "df_baseline_eval[\"Correctness\"].mean()"
   ],
   "metadata": {
    "collapsed": false,
    "pycharm": {
     "name": "#%%\n"
    }
   }
  },
  {
   "cell_type": "code",
   "execution_count": 5,
   "outputs": [
    {
     "data": {
      "text/plain": "0.59375"
     },
     "execution_count": 5,
     "metadata": {},
     "output_type": "execute_result"
    }
   ],
   "source": [
    "#quiz group main question correctness rate\n",
    "df_quiz_eval = df[(df[\"Prompt Condition\"] == 1) & (df[\"Correctness\"] != -1) & (~df[\"Question ID\"].str.contains(\"-\"))]\n",
    "df_quiz_eval[\"Correctness\"].mean()"
   ],
   "metadata": {
    "collapsed": false,
    "pycharm": {
     "name": "#%%\n"
    }
   }
  },
  {
   "cell_type": "code",
   "execution_count": 6,
   "outputs": [],
   "source": [
    "#dict of collectSharePairs\n",
    "collectSharePairs = {'Q1215': 'Q1233', 'Q1263': 'Q1264', 'Q1236': 'Q1234', 'Q1241': 'Q1242', 'Q1271': 'QID1277', 'Q1265': 'Q1266', 'Q1259': 'Q1260', 'Q1253': 'Q1254', 'Q1247': 'Q1248', 'Q1245': 'Q1246', 'Q1243': 'Q1244', 'Q1249': 'Q1250', 'Q1251': 'Q1252', 'Q1214': 'Q1231', 'Q1237': 'Q1238', 'Q1239': 'QID1245', 'Q1269': 'Q1270', 'Q1267': 'Q1268', 'Q1261': 'Q1262', 'Q1257': 'Q1258', 'Q1255': 'Q1256'}"
   ],
   "metadata": {
    "collapsed": false,
    "pycharm": {
     "name": "#%%\n"
    }
   }
  },
  {
   "cell_type": "code",
   "execution_count": 67,
   "outputs": [
    {
     "name": "stdout",
     "output_type": "stream",
     "text": [
      "{'Data usage scenario: Our app accesses GPS location and sends it to our server.': 'Q1215', \"Data usage scenario: Our app requests for the user's full name and only sends the pseudonymized name to our server. (A pseudonymized name does not allow the individual to be directly identified, but it can be re-associated with the user if additional information is provided)\": 'Q1263', \"Data usage scenario: We send the user's GPS location stored on our server to a third party server.\": 'Q1236', 'Data usage scenario: Our app accesses GPS location and sends it directly to a third party server via libraries and/or SDKs included in our app.': 'Q1241', \"Data usage scenario: Our app accesses GPS location and stores it on Google's server using Google Cloud Storage. (Assume that Google doesn't use the GPS location for other purposes)\": 'Q1271', 'Data usage scenario: Our app accesses the user’s GPS location and sends it to government agencies in response to a legal request.': 'Q1265', \"Data usage scenario: Our app accesses and processes the user's GPS location directly on the user’s device. The data never leaves the device.\": 'Q1259', \"Data usage scenario: Our app's user explicitly initiates an action that sends their full name to a third party server.\": 'Q1253', \"Data usage scenario: Our app allows users to navigate the open web via a webview. When the user opens google.com, it accesses the user's GPS location and sends the GPS location to Google's server.\": 'Q1247', \"Data usage scenario: Our app directly opens our own website in a webview, our website then accesses the user's GPS location through the webview, and sends it to our server.\": 'Q1245', 'Data usage scenario: Our app encrypts the user’s message before it is sent to another user, where it is decrypted.': 'Q1243', 'Data usage scenario: Our app directly opens our own website in a webview, our website accesses the GPS location through the webview, and sends it to a third party server.': 'Q1249', \"Data usage scenario: Our app allows users to navigate the open web via a webview. When the user opens google.com, it accesses the user's GPS location and sends the GPS location to a third party server.\": 'Q1251', 'Data usage scenario: Our app accesses GPS location and sends it to a third party server.': 'Q1214', 'Data usage scenario: Our app accesses GPS location and sends it to another app directly on the device. The data never leaves the device. (This is feasible because an app can use an Intent to perform some basic interactions with other apps, including sending data)': 'Q1237', 'Data usage scenario: Our app accesses GPS location and sends it to our server via libraries and/or SDKs included in our app.': 'Q1239', \"Data usage scenario: Our app accesses GPS location and sends it off the device to Google Maps to get real-time traffic updates. (Assume that Google doesn't use the GPS location for other purposes)\": 'Q1269', \"Data usage scenario: Our app asks for a user's birthday for marketing communication, but that info is not required – the user can still sign up without providing that information.\": 'Q1267', \"Data usage scenario: Our app sends the user's GPS location to our server to search for nearby places but does not store the GPS location after serving the request.\": 'Q1261', \"Data usage scenario: Our app sends the user's medical records that have been fully anonymized to a third party server.\": 'Q1257', \"Data usage scenario: Our app sends the user's full name to a third party server after obtaining the user's consent to it.\": 'Q1255'}\n"
     ]
    }
   ],
   "source": [
    "collectDescriptions = dict()\n",
    "description_list = df[\"Description\"].values.tolist()\n",
    "question_list = df[\"Question ID\"].values.tolist()\n",
    "for question in collectSharePairs:\n",
    "    row = question_list.index(question)\n",
    "    description = description_list[row]\n",
    "    end = description.index(\"\\n\")\n",
    "    collectDescriptions[description[:end].strip()] = question\n",
    "print(collectDescriptions)"
   ],
   "metadata": {
    "collapsed": false,
    "pycharm": {
     "name": "#%%\n"
    }
   }
  },
  {
   "cell_type": "code",
   "execution_count": 7,
   "outputs": [
    {
     "name": "stdout",
     "output_type": "stream",
     "text": [
      "0.7351190476190477 0.5952380952380952\n"
     ]
    },
    {
     "data": {
      "text/plain": "<BarContainer object of 2 artists>"
     },
     "execution_count": 7,
     "metadata": {},
     "output_type": "execute_result"
    },
    {
     "data": {
      "text/plain": "<Figure size 1080x360 with 1 Axes>",
      "image/png": "[encoded data removed]"
     },
     "metadata": {},
     "output_type": "display_data"
    }
   ],
   "source": [
    "#collect and share only correctness rates\n",
    "collectAverage = 0\n",
    "shareAverage = 0\n",
    "for question in collectSharePairs:\n",
    "    shareQ = collectSharePairs[question]\n",
    "    cqOnly = df[(df[\"Question ID\"] == question)]\n",
    "    sqOnly = df[(df[\"Question ID\"] == shareQ)]\n",
    "    collectAverage += cqOnly[\"Correctness\"].mean()\n",
    "    shareAverage += sqOnly[\"Correctness\"].mean()\n",
    "collectAverage /= len(collectSharePairs)\n",
    "shareAverage /= len(collectSharePairs)\n",
    "print(collectAverage, shareAverage)\n",
    "typeDict = {\"collection\": collectAverage, \"sharing\": shareAverage}\n",
    "plt.figure(figsize=(15,5))\n",
    "plt.bar(typeDict.keys(), typeDict.values(), width=.5, color='g')"
   ],
   "metadata": {
    "collapsed": false,
    "pycharm": {
     "name": "#%%\n"
    }
   }
  },
  {
   "cell_type": "code",
   "execution_count": 71,
   "outputs": [
    {
     "data": {
      "text/plain": "<BarContainer object of 21 artists>"
     },
     "execution_count": 71,
     "metadata": {},
     "output_type": "execute_result"
    },
    {
     "data": {
      "text/plain": "<Figure size 1080x360 with 1 Axes>",
      "image/png": "[encoded data removed]"
     },
     "metadata": {},
     "output_type": "display_data"
    }
   ],
   "source": [
    "#correct answer rate for each question (non-pretraining)\n",
    "questionAvg = dict()\n",
    "for question in collectSharePairs:\n",
    "    shareQ = collectSharePairs[question]\n",
    "    cqOnly = df[(df[\"Question ID\"] == question)]\n",
    "    sqOnly = df[(df[\"Question ID\"] == shareQ)]\n",
    "    collectAverage = cqOnly[\"Correctness\"].mean()\n",
    "    shareAverage = sqOnly[\"Correctness\"].mean()\n",
    "    newAverage = (collectAverage + shareAverage)/2\n",
    "    questionAvg[question] = newAverage\n",
    "plt.figure(figsize=(15,5))\n",
    "plt.bar(questionAvg.keys(), questionAvg.values(), width=.5, color='g')\n",
    "\n",
    "\n"
   ],
   "metadata": {
    "collapsed": false,
    "pycharm": {
     "name": "#%%\n"
    }
   }
  },
  {
   "cell_type": "code",
   "execution_count": 78,
   "outputs": [
    {
     "data": {
      "text/plain": "array(['5ad0f1934d061300011b0a4d', '570e6b4fc9e604000f020a6f',\n       '612eac9f6c232dc7efccc967', '62aa265d938c612f7c8361e3',\n       '55ae64defdf99b3f864653e7', '5c35dd34be3cea000117948f',\n       '616891e25a026e1f7262116c', '5ca3cafa2707e10001a04746',\n       '610ce0a48fc7e68abc4070c1', '613116efc0cb4b7e8d532855',\n       '5b27c8c9051c6e00019d0c96', '602454a47d0d7d121a1e444b',\n       '6171e05a8bd75852eeb6b0bc', '6101c49c2727ad36a6c593af',\n       '6113a86e9e254bad97528743', '56435b83942576000a66eb5d',\n       '5f72adea4576d21f8ac889a0', '60c7c096903b9b083aa00c4f',\n       '62c3430ae19d78462af9e743', '62b29802f626d80a1caed506',\n       '627935c4e5d7e70b502e206e', '5974ce5364b35a00019dd811',\n       '5e5cc9ce92d80948da643ebc', '62b443cd6bb4a97f543cb73e',\n       '5a607a7eac56240001544493', '611622ddd8be1ac51298cb89',\n       '613aaf8a8dc36e94fa4f1ba7', '5c7cf1adc8c9920015d0bc60',\n       '6113d948bcb1f232c85bdcf3', '5a22d662d6fdbc00011c92ce',\n       '6147c45e2fd30e98355c1e52', '61015f63f9a351d3171a0f98',\n       '60a6ba026f8bd75b67b23c97'], dtype=object)"
     },
     "execution_count": 78,
     "metadata": {},
     "output_type": "execute_result"
    }
   ],
   "source": [
    "#new results\n",
    "df = pd.read_csv(\"pretrainingOutput.csv\")\n",
    "df = df[df[\"Date Category\"] == 2]\n",
    "\n",
    "df[\"Participant ID\"].unique()"
   ],
   "metadata": {
    "collapsed": false,
    "pycharm": {
     "name": "#%%\n"
    }
   }
  },
  {
   "cell_type": "code",
   "execution_count": 83,
   "outputs": [
    {
     "data": {
      "text/plain": "<BarContainer object of 21 artists>"
     },
     "execution_count": 83,
     "metadata": {},
     "output_type": "execute_result"
    },
    {
     "data": {
      "text/plain": "<Figure size 1080x360 with 1 Axes>",
      "image/png": "[encoded data removed]"
     },
     "metadata": {},
     "output_type": "display_data"
    }
   ],
   "source": [
    "#correctness for baseline vs. quiz group, each question\n",
    "questionAvgBaseline = dict()\n",
    "df_baseline_eval = df[(df[\"Prompt Condition\"] == 0) & (df[\"Correctness\"] != -1) & (~df[\"Question ID\"].str.contains(\"-\"))]\n",
    "for question in collectSharePairs:\n",
    "    shareQ = collectSharePairs[question]\n",
    "    cqOnly = df_baseline_eval[(df_baseline_eval[\"Question ID\"] == question)]\n",
    "    sqOnly = df_baseline_eval[(df_baseline_eval[\"Question ID\"] == shareQ)]\n",
    "    collectAverage = cqOnly[\"Correctness\"].mean()\n",
    "    shareAverage = sqOnly[\"Correctness\"].mean()\n",
    "    newAverage = (collectAverage + shareAverage)/2\n",
    "    questionAvgBaseline[question] = newAverage\n",
    "plt.figure(figsize=(15,5))\n",
    "plt.bar(questionAvgBaseline.keys(), questionAvgBaseline.values(), width=.5, color='g')\n"
   ],
   "metadata": {
    "collapsed": false,
    "pycharm": {
     "name": "#%%\n"
    }
   }
  },
  {
   "cell_type": "code",
   "execution_count": 84,
   "outputs": [
    {
     "data": {
      "text/plain": "<BarContainer object of 21 artists>"
     },
     "execution_count": 84,
     "metadata": {},
     "output_type": "execute_result"
    },
    {
     "data": {
      "text/plain": "<Figure size 1080x360 with 1 Axes>",
      "image/png": "[encoded data removed]"
     },
     "metadata": {},
     "output_type": "display_data"
    }
   ],
   "source": [
    "df_quiz_eval = df[(df[\"Prompt Condition\"] == 1) & (df[\"Correctness\"] != -1) & (~df[\"Question ID\"].str.contains(\"-\"))]\n",
    "questionAvgQuiz = dict()\n",
    "for question in collectSharePairs:\n",
    "    shareQ = collectSharePairs[question]\n",
    "    cqOnly = df_quiz_eval[(df_quiz_eval[\"Question ID\"] == question)]\n",
    "    sqOnly = df_quiz_eval[(df_quiz_eval[\"Question ID\"] == shareQ)]\n",
    "    collectAverage = cqOnly[\"Correctness\"].mean()\n",
    "    shareAverage = sqOnly[\"Correctness\"].mean()\n",
    "    newAverage = (collectAverage + shareAverage)/2\n",
    "    questionAvgQuiz[question] = newAverage\n",
    "plt.figure(figsize=(15,5))\n",
    "plt.bar(questionAvgQuiz.keys(), questionAvgQuiz.values(), width=.5, color='g')"
   ],
   "metadata": {
    "collapsed": false,
    "pycharm": {
     "name": "#%%\n"
    }
   }
  },
  {
   "cell_type": "code",
   "execution_count": 90,
   "outputs": [
    {
     "data": {
      "text/plain": "<Figure size 1080x360 with 1 Axes>",
      "image/png": "[encoded data removed]"
     },
     "metadata": {},
     "output_type": "display_data"
    }
   ],
   "source": [
    "X_axis = np.arange(len(questionAvgQuiz.keys()))\n",
    "plt.figure(figsize=(15,5))\n",
    "\n",
    "plt.bar(X_axis - 0.2, questionAvgQuiz.values(), width=.5, color='g', label = \"Quiz\")\n",
    "plt.bar(X_axis + 0.2, questionAvgBaseline.values(), width=.5, color='b', label = \"Baseline\")\n",
    "plt.xticks(X_axis, questionAvgQuiz.keys())\n",
    "plt.show()"
   ],
   "metadata": {
    "collapsed": false,
    "pycharm": {
     "name": "#%%\n"
    }
   }
  },
  {
   "cell_type": "code",
   "execution_count": 9,
   "outputs": [
    {
     "data": {
      "text/plain": "<AxesSubplot:xlabel='Fluency Level', ylabel='Correctness'>"
     },
     "execution_count": 9,
     "metadata": {},
     "output_type": "execute_result"
    },
    {
     "data": {
      "text/plain": "<Figure size 432x288 with 1 Axes>",
      "image/png": "[encoded data removed]"
     },
     "metadata": {},
     "output_type": "display_data"
    }
   ],
   "source": [
    "#analysis of fluency level\n",
    "df[\"Fluency Level\"] = df[\"Fluency Level\"].map({\"Intermediate\": \"Intermediate/Proficient\", \"Proficient\":\"Intermediate/Proficient\", \"Fully Fluent\" : \"Fully Fluent\", \"Beginner\":\"Beginner\"})\n",
    "df[\"Prompt Condition\"] = df[\"Prompt Condition\"].map({0: \"Baseline\", 1:\"Quiz\"})\n",
    "df = df[(df[\"Correctness\"] != -1) & (~df[\"Question ID\"].str.contains(\"-\"))]\n",
    "sns.pointplot(data=df, x=\"Fluency Level\", y=\"Correctness\", hue=\"Prompt Condition\", order=[\"Beginner\", \"Intermediate/Proficient\", \"Fully Fluent\"])\n"
   ],
   "metadata": {
    "collapsed": false,
    "pycharm": {
     "name": "#%%\n"
    }
   }
  },
  {
   "cell_type": "code",
   "execution_count": 12,
   "outputs": [],
   "source": [
    "#old data\n",
    "df1 = pd.read_csv(\"pretrainingOutputOld.csv\")"
   ],
   "metadata": {
    "collapsed": false,
    "pycharm": {
     "name": "#%%\n"
    }
   }
  },
  {
   "cell_type": "code",
   "execution_count": 13,
   "outputs": [
    {
     "data": {
      "text/plain": "0.42363636363636364"
     },
     "execution_count": 13,
     "metadata": {},
     "output_type": "execute_result"
    }
   ],
   "source": [
    "df1[(df1[\"Correctness\"] != -1)][\"Correctness\"].mean()"
   ],
   "metadata": {
    "collapsed": false,
    "pycharm": {
     "name": "#%%\n"
    }
   }
  },
  {
   "cell_type": "code",
   "execution_count": 14,
   "outputs": [
    {
     "data": {
      "text/plain": "0.5"
     },
     "execution_count": 14,
     "metadata": {},
     "output_type": "execute_result"
    }
   ],
   "source": [
    "#baseline main question correctness rate\n",
    "df_baseline_eval = df1[(df1[\"Prompt Condition\"] == 0) & (df1[\"Correctness\"] != -1) & (~df1[\"Question ID\"].str.contains(\"-\"))]\n",
    "df_baseline_eval[\"Correctness\"].mean()"
   ],
   "metadata": {
    "collapsed": false,
    "pycharm": {
     "name": "#%%\n"
    }
   }
  },
  {
   "cell_type": "code",
   "execution_count": 15,
   "outputs": [
    {
     "data": {
      "text/plain": "0.3877005347593583"
     },
     "execution_count": 15,
     "metadata": {},
     "output_type": "execute_result"
    }
   ],
   "source": [
    "#quiz group main question correctness rate\n",
    "df_quiz_eval = df1[(df1[\"Prompt Condition\"] == 1) & (df1[\"Correctness\"] != -1)]\n",
    "df_quiz_eval[\"Correctness\"].mean()"
   ],
   "metadata": {
    "collapsed": false,
    "pycharm": {
     "name": "#%%\n"
    }
   }
  },
  {
   "cell_type": "code",
   "execution_count": 25,
   "outputs": [
    {
     "data": {
      "text/plain": "<BarContainer object of 21 artists>"
     },
     "execution_count": 25,
     "metadata": {},
     "output_type": "execute_result"
    },
    {
     "data": {
      "text/plain": "<Figure size 1080x360 with 1 Axes>",
      "image/png": "[encoded data removed]"
     },
     "metadata": {},
     "output_type": "display_data"
    }
   ],
   "source": [
    "#correct answer rate for each question (non-pretraining)\n",
    "questionAvg1 = dict()\n",
    "df1 = df1[(df1[\"Correctness\"] != -1) & (~df1[\"Question ID\"].str.contains(\"-\"))]\n",
    "for question in df1.loc[:,\"Question ID\"]:\n",
    "    if question in questionAvg1:\n",
    "        continue\n",
    "    currDf = df1[df1[\"Question ID\"] == question]\n",
    "    questionAvg1[question] = currDf[\"Correctness\"].mean()\n",
    "plt.figure(figsize=(15,5))\n",
    "plt.bar(questionAvg1.keys(), questionAvg1.values(), width=.5, color='g')\n",
    "\n"
   ],
   "metadata": {
    "collapsed": false,
    "pycharm": {
     "name": "#%%\n"
    }
   }
  },
  {
   "cell_type": "code",
   "execution_count": 69,
   "outputs": [
    {
     "name": "stdout",
     "output_type": "stream",
     "text": [
      "Q205\n",
      "Q278\n",
      "Q279\n",
      "Q280\n",
      "Q281\n",
      "Q282\n",
      "Q283\n",
      "Q285\n",
      "Q286\n",
      "Q287\n",
      "Q288\n",
      "Q289\n",
      "Q290\n",
      "Q291\n",
      "Q292\n",
      "Q293\n",
      "Q294\n",
      "QID300\n",
      "Q296\n",
      "Q297\n",
      "Q298\n"
     ]
    },
    {
     "data": {
      "text/plain": "<BarContainer object of 21 artists>"
     },
     "execution_count": 69,
     "metadata": {},
     "output_type": "execute_result"
    },
    {
     "data": {
      "text/plain": "<Figure size 1080x360 with 1 Axes>",
      "image/png": "[encoded data removed]"
     },
     "metadata": {},
     "output_type": "display_data"
    }
   ],
   "source": [
    "df1 = pd.read_csv(\"pretrainingOutputOld.csv\")\n",
    "descriptionOld = df1[\"Description\"].values.tolist()\n",
    "question_listOld = df1[\"Question ID\"].values.tolist()\n",
    "collectDescriptionsOld = dict()\n",
    "for question in questionAvg1:\n",
    "    row = question_listOld.index(question)\n",
    "    end = descriptionOld[row].index(\"\\n\")\n",
    "    collectDescriptionsOld[question] = descriptionOld[row][:end].strip()\n",
    "change = dict()\n",
    "for question in collectDescriptionsOld:\n",
    "    print(question)\n",
    "    description = collectDescriptionsOld[question]\n",
    "    newQID = collectDescriptions[description]\n",
    "    change[newQID] = questionAvg[newQID] - questionAvg1[question]\n",
    "plt.figure(figsize=(15,5))\n",
    "plt.bar(change.keys(), change.values(), width=.5, color='b')"
   ],
   "metadata": {
    "collapsed": false,
    "pycharm": {
     "name": "#%%\n"
    }
   }
  },
  {
   "cell_type": "code",
   "execution_count": 92,
   "outputs": [],
   "source": [
    "# def miss_one_fn(row):\n",
    "#     if row[\"Answer Index\"] == 3 and row[\"Correct Answer Index\"] == 0 and row[\"Question Category\"] == \"share exempt\":\n",
    "#         return 1\n",
    "#     else:\n",
    "#         return 0\n",
    "#\n",
    "# baseline_miss_one = df_baseline_eval[(df_baseline_eval[\"Correct Answer Index\"] == 0) & (df_baseline_eval[\"Question Category\"] == \"share exempt\")].apply(miss_one_fn, axis=1)\n",
    "# print(baseline_miss_one.mean())\n",
    "#\n",
    "# quiz_miss_one = df_quiz_eval[(df_quiz_eval[\"Correct Answer Index\"] == 0) & (df_quiz_eval[\"Question Category\"] == \"share exempt\")].apply(miss_one_fn, axis=1)\n",
    "# print(quiz_miss_one.mean())"
   ],
   "metadata": {
    "collapsed": false,
    "pycharm": {
     "name": "#%%\n"
    }
   }
  },
  {
   "cell_type": "code",
   "execution_count": null,
   "outputs": [],
   "source": [
    "def miss_one_fn(row):\n",
    "#     if row[\"Answer Index\"] == 1 and row[\"Correct Answer Index\"] == 2 and row[\"Question Category\"] == \"share special\":\n",
    "#         return 1\n",
    "#     else:\n",
    "#         return 0\n",
    "#\n",
    "# baseline_miss_one = df_baseline_eval[(df_baseline_eval[\"Correct Answer Index\"] == 2) & (df_baseline_eval[\"Question Category\"] == \"share special\")].apply(miss_one_fn, axis=1)\n",
    "# print(baseline_miss_one.mean())\n",
    "#\n",
    "# quiz_miss_one = df_quiz_eval[(df_quiz_eval[\"Correct Answer Index\"] == 2) & (df_quiz_eval[\"Question Category\"] == \"share special\")].apply(miss_one_fn, axis=1)\n",
    "# print(quiz_miss_one.mean())"
   ],
   "metadata": {
    "collapsed": false,
    "pycharm": {
     "name": "#%%\n"
    }
   }
  },
  {
   "cell_type": "code",
   "execution_count": 165,
   "outputs": [
    {
     "data": {
      "text/plain": "<AxesSubplot:xlabel='Answer Index', ylabel='Probability'>"
     },
     "execution_count": 165,
     "metadata": {},
     "output_type": "execute_result"
    },
    {
     "data": {
      "text/plain": "<Figure size 432x288 with 1 Axes>",
      "image/png": "[encoded data removed]"
     },
     "metadata": {},
     "output_type": "display_data"
    }
   ],
   "source": [
    "# baseline answer index distribution\n",
    "sns.histplot(df[(df[\"Prompt Condition\"] == 0) & (df[\"Correctness\"] != -1) & (~df[\"Question ID\"].str.contains(\"-\"))], stat=\"probability\", x=\"Answer Index\")"
   ],
   "metadata": {
    "collapsed": false,
    "pycharm": {
     "name": "#%%\n"
    }
   }
  },
  {
   "cell_type": "code",
   "execution_count": 166,
   "outputs": [
    {
     "data": {
      "text/plain": "<AxesSubplot:xlabel='Answer Index', ylabel='Probability'>"
     },
     "execution_count": 166,
     "metadata": {},
     "output_type": "execute_result"
    },
    {
     "data": {
      "text/plain": "<Figure size 432x288 with 1 Axes>",
      "image/png": "[encoded data removed]"
     },
     "metadata": {},
     "output_type": "display_data"
    }
   ],
   "source": [
    "# quiz group answer index distribution\n",
    "sns.histplot(df[(df[\"Prompt Condition\"] == 1) & (df[\"Correctness\"] != -1) & (~df[\"Question ID\"].str.contains(\"-\"))], stat=\"probability\", x=\"Answer Index\")\n"
   ],
   "metadata": {
    "collapsed": false,
    "pycharm": {
     "name": "#%%\n"
    }
   }
  },
  {
   "cell_type": "code",
   "execution_count": 167,
   "outputs": [
    {
     "name": "stdout",
     "output_type": "stream",
     "text": [
      "0.5666666666666667\n",
      "0.42105263157894735\n"
     ]
    }
   ],
   "source": [
    "# Webviews\n",
    "df_webview = df[df[\"Concept Group\"] == \"Webviews\"]\n",
    "\n",
    "print(df_webview[(df_webview[\"Prompt Condition\"] == 0) & (df_webview[\"Correctness\"] != -1)][\"Correctness\"].mean())\n",
    "print(df_webview[(df_webview[\"Prompt Condition\"] == 1) & (df_webview[\"Correctness\"] != -1) & (~df_webview[\"Question ID\"].str.contains(\"-\"))][\"Correctness\"].mean())"
   ],
   "metadata": {
    "collapsed": false,
    "pycharm": {
     "name": "#%%\n"
    }
   }
  },
  {
   "cell_type": "code",
   "execution_count": 168,
   "outputs": [
    {
     "name": "stdout",
     "output_type": "stream",
     "text": [
      "0.4444444444444444\n",
      "0.6153846153846154\n"
     ]
    }
   ],
   "source": [
    "# Service Providers\n",
    "df_concept = df[df[\"Concept Group\"] == \"Service Providers\"]\n",
    "\n",
    "print(df_concept[(df_concept[\"Prompt Condition\"] == 0) & (df_concept[\"Correctness\"] != -1)][\"Correctness\"].mean())\n",
    "print(df_concept[(df_concept[\"Prompt Condition\"] == 1) & (df_concept[\"Correctness\"] != -1) & (~df_concept[\"Question ID\"].str.contains(\"-\"))][\"Correctness\"].mean())"
   ],
   "metadata": {
    "collapsed": false,
    "pycharm": {
     "name": "#%%\n"
    }
   }
  },
  {
   "cell_type": "code",
   "execution_count": 169,
   "outputs": [
    {
     "name": "stdout",
     "output_type": "stream",
     "text": [
      "0.375\n",
      "0.6666666666666666\n"
     ]
    }
   ],
   "source": [
    "# Optional Data Collection\n",
    "df_concept = df[df[\"Concept Group\"] == \"Optional Data Collection\"]\n",
    "\n",
    "print(df_concept[(df_concept[\"Prompt Condition\"] == 0) & (df_concept[\"Correctness\"] != -1)][\"Correctness\"].mean())\n",
    "print(df_concept[(df_concept[\"Prompt Condition\"] == 1) & (df_concept[\"Correctness\"] != -1) & (~df_concept[\"Question ID\"].str.contains(\"-\"))][\"Correctness\"].mean())"
   ],
   "metadata": {
    "collapsed": false,
    "pycharm": {
     "name": "#%%\n"
    }
   }
  },
  {
   "cell_type": "code",
   "execution_count": 170,
   "outputs": [
    {
     "name": "stdout",
     "output_type": "stream",
     "text": [
      "0.0\n",
      "0.5\n"
     ]
    }
   ],
   "source": [
    "# Anonymization\n",
    "df_concept = df[df[\"Concept Group\"] == \"Anonymization\"]\n",
    "\n",
    "print(df_concept[(df_concept[\"Prompt Condition\"] == 0) & (df_concept[\"Correctness\"] != -1)][\"Correctness\"].mean())\n",
    "print(df_concept[(df_concept[\"Prompt Condition\"] == 1) & (df_concept[\"Correctness\"] != -1) & (~df_concept[\"Question ID\"].str.contains(\"-\"))][\"Correctness\"].mean())"
   ],
   "metadata": {
    "collapsed": false,
    "pycharm": {
     "name": "#%%\n"
    }
   }
  },
  {
   "cell_type": "code",
   "execution_count": 171,
   "outputs": [
    {
     "name": "stdout",
     "output_type": "stream",
     "text": [
      "0.4\n",
      "0.25\n"
     ]
    }
   ],
   "source": [
    "# Legal Request\n",
    "df_concept = df[df[\"Concept Group\"] == \"Legal Request\"]\n",
    "\n",
    "print(df_concept[(df_concept[\"Prompt Condition\"] == 0) & (df_concept[\"Correctness\"] != -1)][\"Correctness\"].mean())\n",
    "print(df_concept[(df_concept[\"Prompt Condition\"] == 1) & (df_concept[\"Correctness\"] != -1) & (~df_concept[\"Question ID\"].str.contains(\"-\"))][\"Correctness\"].mean())"
   ],
   "metadata": {
    "collapsed": false,
    "pycharm": {
     "name": "#%%\n"
    }
   }
  },
  {
   "cell_type": "code",
   "execution_count": 172,
   "outputs": [
    {
     "name": "stdout",
     "output_type": "stream",
     "text": [
      "0.07692307692307693\n",
      "0.1\n"
     ]
    }
   ],
   "source": [
    "# User Consent\n",
    "df_concept = df[df[\"Concept Group\"] == \"User Consent\"]\n",
    "\n",
    "print(df_concept[(df_concept[\"Prompt Condition\"] == 0) & (df_concept[\"Correctness\"] != -1)][\"Correctness\"].mean())\n",
    "print(df_concept[(df_concept[\"Prompt Condition\"] == 1) & (df_concept[\"Correctness\"] != -1) & (~df_concept[\"Question ID\"].str.contains(\"-\"))][\"Correctness\"].mean())"
   ],
   "metadata": {
    "collapsed": false,
    "pycharm": {
     "name": "#%%\n"
    }
   }
  },
  {
   "cell_type": "code",
   "execution_count": 173,
   "outputs": [
    {
     "name": "stdout",
     "output_type": "stream",
     "text": [
      "0.5\n",
      "0.5\n"
     ]
    }
   ],
   "source": [
    "# Share Basic\n",
    "df_concept = df[df[\"Concept Group\"] == \"Share Basic\"]\n",
    "\n",
    "print(df_concept[(df_concept[\"Prompt Condition\"] == 0) & (df_concept[\"Correctness\"] != -1)][\"Correctness\"].mean())\n",
    "print(df_concept[(df_concept[\"Prompt Condition\"] == 1) & (df_concept[\"Correctness\"] != -1) & (~df_concept[\"Question ID\"].str.contains(\"-\"))][\"Correctness\"].mean())"
   ],
   "metadata": {
    "collapsed": false,
    "pycharm": {
     "name": "#%%\n"
    }
   }
  },
  {
   "cell_type": "code",
   "execution_count": 174,
   "outputs": [
    {
     "name": "stdout",
     "output_type": "stream",
     "text": [
      "0.8571428571428571\n",
      "0.75\n"
     ]
    }
   ],
   "source": [
    "# Collect Basic\n",
    "df_concept = df[df[\"Concept Group\"] == \"Collect Basic\"]\n",
    "\n",
    "print(df_concept[(df_concept[\"Prompt Condition\"] == 0) & (df_concept[\"Correctness\"] != -1)][\"Correctness\"].mean())\n",
    "print(df_concept[(df_concept[\"Prompt Condition\"] == 1) & (df_concept[\"Correctness\"] != -1) & (~df_concept[\"Question ID\"].str.contains(\"-\"))][\"Correctness\"].mean())"
   ],
   "metadata": {
    "collapsed": false,
    "pycharm": {
     "name": "#%%\n"
    }
   }
  },
  {
   "cell_type": "code",
   "execution_count": 175,
   "outputs": [
    {
     "name": "stdout",
     "output_type": "stream",
     "text": [
      "0.8571428571428571\n",
      "0.5\n"
     ]
    }
   ],
   "source": [
    "# Off-device Server Transfers\n",
    "df_concept = df[df[\"Concept Group\"] == \"Off-device Server Transfers\"]\n",
    "\n",
    "print(df_concept[(df_concept[\"Prompt Condition\"] == 0) & (df_concept[\"Correctness\"] != -1)][\"Correctness\"].mean())\n",
    "print(df_concept[(df_concept[\"Prompt Condition\"] == 1) & (df_concept[\"Correctness\"] != -1) & (~df_concept[\"Question ID\"].str.contains(\"-\"))][\"Correctness\"].mean())"
   ],
   "metadata": {
    "collapsed": false,
    "pycharm": {
     "name": "#%%\n"
    }
   }
  },
  {
   "cell_type": "code",
   "execution_count": 176,
   "outputs": [
    {
     "name": "stdout",
     "output_type": "stream",
     "text": [
      "0.6666666666666666\n",
      "0.2727272727272727\n"
     ]
    }
   ],
   "source": [
    "# On-device processing and transfers\n",
    "df_concept = df[df[\"Concept Group\"] == \"On-device processing and transfers\"]\n",
    "\n",
    "print(df_concept[(df_concept[\"Prompt Condition\"] == 0) & (df_concept[\"Correctness\"] != -1)][\"Correctness\"].mean())\n",
    "print(df_concept[(df_concept[\"Prompt Condition\"] == 1) & (df_concept[\"Correctness\"] != -1) & (~df_concept[\"Question ID\"].str.contains(\"-\"))][\"Correctness\"].mean())"
   ],
   "metadata": {
    "collapsed": false,
    "pycharm": {
     "name": "#%%\n"
    }
   }
  },
  {
   "cell_type": "code",
   "execution_count": 177,
   "outputs": [
    {
     "name": "stdout",
     "output_type": "stream",
     "text": [
      "0.625\n",
      "0.375\n"
     ]
    }
   ],
   "source": [
    "# Libraries/SDKs\n",
    "df_concept = df[df[\"Concept Group\"] == \"Libraries/SDKs\"]\n",
    "\n",
    "print(df_concept[(df_concept[\"Prompt Condition\"] == 0) & (df_concept[\"Correctness\"] != -1)][\"Correctness\"].mean())\n",
    "print(df_concept[(df_concept[\"Prompt Condition\"] == 1) & (df_concept[\"Correctness\"] != -1) & (~df_concept[\"Question ID\"].str.contains(\"-\"))][\"Correctness\"].mean())"
   ],
   "metadata": {
    "collapsed": false,
    "pycharm": {
     "name": "#%%\n"
    }
   }
  },
  {
   "cell_type": "code",
   "execution_count": 178,
   "outputs": [
    {
     "name": "stdout",
     "output_type": "stream",
     "text": [
      "0.5555555555555556\n",
      "1.0\n"
     ]
    }
   ],
   "source": [
    "# End to End Encryption\n",
    "df_concept = df[df[\"Concept Group\"] == \"End to End Encryption\"]\n",
    "\n",
    "print(df_concept[(df_concept[\"Prompt Condition\"] == 0) & (df_concept[\"Correctness\"] != -1)][\"Correctness\"].mean())\n",
    "print(df_concept[(df_concept[\"Prompt Condition\"] == 1) & (df_concept[\"Correctness\"] != -1) & (~df_concept[\"Question ID\"].str.contains(\"-\"))][\"Correctness\"].mean())"
   ],
   "metadata": {
    "collapsed": false,
    "pycharm": {
     "name": "#%%\n"
    }
   }
  },
  {
   "cell_type": "code",
   "execution_count": 179,
   "outputs": [
    {
     "name": "stdout",
     "output_type": "stream",
     "text": [
      "0.5\n",
      "0.3333333333333333\n"
     ]
    }
   ],
   "source": [
    "# Ephemeral Processing\n",
    "df_concept = df[df[\"Concept Group\"] == \"Ephemeral Processing\"]\n",
    "\n",
    "print(df_concept[(df_concept[\"Prompt Condition\"] == 0) & (df_concept[\"Correctness\"] != -1)][\"Correctness\"].mean())\n",
    "print(df_concept[(df_concept[\"Prompt Condition\"] == 1) & (df_concept[\"Correctness\"] != -1) & (~df_concept[\"Question ID\"].str.contains(\"-\"))][\"Correctness\"].mean())"
   ],
   "metadata": {
    "collapsed": false,
    "pycharm": {
     "name": "#%%\n"
    }
   }
  },
  {
   "cell_type": "code",
   "execution_count": 180,
   "outputs": [
    {
     "name": "stdout",
     "output_type": "stream",
     "text": [
      "0.875\n",
      "0.5\n"
     ]
    }
   ],
   "source": [
    "# Pseudynoymization\n",
    "df_concept = df[df[\"Concept Group\"] == \"Pseudynoymization\"]\n",
    "\n",
    "print(df_concept[(df_concept[\"Prompt Condition\"] == 0) & (df_concept[\"Correctness\"] != -1)][\"Correctness\"].mean())\n",
    "print(df_concept[(df_concept[\"Prompt Condition\"] == 1) & (df_concept[\"Correctness\"] != -1) & (~df_concept[\"Question ID\"].str.contains(\"-\"))][\"Correctness\"].mean())"
   ],
   "metadata": {
    "collapsed": false,
    "pycharm": {
     "name": "#%%\n"
    }
   }
  }
 ],
 "metadata": {
  "kernelspec": {
   "display_name": "Python 3",
   "language": "python",
   "name": "python3"
  },
  "language_info": {
   "codemirror_mode": {
    "name": "ipython",
    "version": 2
   },
   "file_extension": ".py",
   "mimetype": "text/x-python",
   "name": "python",
   "nbconvert_exporter": "python",
   "pygments_lexer": "ipython2",
   "version": "2.7.6"
  }
 },
 "nbformat": 4,
 "nbformat_minor": 0
}