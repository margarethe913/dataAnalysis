{
 "cells": [
  {
   "cell_type": "code",
   "execution_count": 157,
   "metadata": {
    "collapsed": true
   },
   "outputs": [],
   "source": [
    "import matplotlib.pyplot as plt\n",
    "import pandas as pd\n",
    "import seaborn as sns\n",
    "import numpy as np\n",
    "\n",
    "sns.set()"
   ]
  },
  {
   "cell_type": "code",
   "execution_count": 158,
   "outputs": [
    {
     "data": {
      "text/plain": "array(['6109482350367148ce0aa834', '61006e8a4fe954de47730409',\n       '617134f939b0aa685b96bb14', '5fd50a355025422fd25bb05b',\n       '5eb3a51f58efe718f5cffdb4', '5a8d8079190420000156435d',\n       '61363ce02e6022a741d63a6e', '60d1c46dcf527589711cf768',\n       '5e8cb59cf38a3b057a543c1e', '5cefd79bc37f4f0018de98da',\n       '5c549c6372fd9000018b5968', '60ef4432df04da6821fec20a',\n       '58d0632c2fc72000011f8c57', '62976e7114308ee7c69d10ae',\n       '612520bd6605794b27e6a0fd', '5e63e24eaf3bd51660031dbe',\n       '5d1c9f75328d1c001af3af0f', '6171b1bc917dfe828a3130dd',\n       '5adc95a1066c510001d410d7', '5d88e9d13e9a6e0001084e80',\n       '5765c0fcf2e23200017ded5e', '60204458e6a42863349abc9f'],\n      dtype=object)"
     },
     "execution_count": 158,
     "metadata": {},
     "output_type": "execute_result"
    }
   ],
   "source": [
    "df = pd.read_csv(\"pretrainingOutput.csv\")\n",
    "\n",
    "df[\"Participant ID\"].unique()"
   ],
   "metadata": {
    "collapsed": false,
    "pycharm": {
     "name": "#%%\n"
    }
   }
  },
  {
   "cell_type": "code",
   "execution_count": 159,
   "outputs": [
    {
     "data": {
      "text/plain": "0.49173553719008267"
     },
     "execution_count": 159,
     "metadata": {},
     "output_type": "execute_result"
    }
   ],
   "source": [
    "# overall main question correctness rate\n",
    "df[(df[\"Correctness\"] != -1) & (~df[\"Question ID\"].str.contains(\"-\"))][\"Correctness\"].mean()"
   ],
   "metadata": {
    "collapsed": false,
    "pycharm": {
     "name": "#%%\n"
    }
   }
  },
  {
   "cell_type": "code",
   "execution_count": 160,
   "outputs": [
    {
     "data": {
      "text/plain": "0.5314685314685315"
     },
     "execution_count": 160,
     "metadata": {},
     "output_type": "execute_result"
    }
   ],
   "source": [
    "#baseline main question correctness rate\n",
    "df_baseline_eval = df[(df[\"Prompt Condition\"] == 0) & (df[\"Correctness\"] != -1) & (~df[\"Question ID\"].str.contains(\"-\"))]\n",
    "df_baseline_eval[\"Correctness\"].mean()"
   ],
   "metadata": {
    "collapsed": false,
    "pycharm": {
     "name": "#%%\n"
    }
   }
  },
  {
   "cell_type": "code",
   "execution_count": 161,
   "outputs": [
    {
     "data": {
      "text/plain": "0.43434343434343436"
     },
     "execution_count": 161,
     "metadata": {},
     "output_type": "execute_result"
    }
   ],
   "source": [
    "#quiz group main question correctness rate\n",
    "df_quiz_eval = df[(df[\"Prompt Condition\"] == 1) & (df[\"Correctness\"] != -1) & (~df[\"Question ID\"].str.contains(\"-\"))]\n",
    "df_quiz_eval[\"Correctness\"].mean()"
   ],
   "metadata": {
    "collapsed": false,
    "pycharm": {
     "name": "#%%\n"
    }
   }
  },
  {
   "cell_type": "code",
   "execution_count": 162,
   "outputs": [
    {
     "name": "stdout",
     "output_type": "stream",
     "text": [
      "0.0625\n",
      "0.24242424242424243\n"
     ]
    }
   ],
   "source": [
    "def miss_one_fn(row):\n",
    "    if row[\"Answer Index\"] == 3 and row[\"Correct Answer Index\"] == 0 and row[\"Question Category\"] == \"share exempt\":\n",
    "        return 1\n",
    "    else:\n",
    "        return 0\n",
    "\n",
    "baseline_miss_one = df_baseline_eval[(df_baseline_eval[\"Correct Answer Index\"] == 0) & (df_baseline_eval[\"Question Category\"] == \"share exempt\")].apply(miss_one_fn, axis=1)\n",
    "print(baseline_miss_one.mean())\n",
    "\n",
    "quiz_miss_one = df_quiz_eval[(df_quiz_eval[\"Correct Answer Index\"] == 0) & (df_quiz_eval[\"Question Category\"] == \"share exempt\")].apply(miss_one_fn, axis=1)\n",
    "print(quiz_miss_one.mean())"
   ],
   "metadata": {
    "collapsed": false,
    "pycharm": {
     "name": "#%%\n"
    }
   }
  },
  {
   "cell_type": "code",
   "execution_count": 163,
   "outputs": [
    {
     "name": "stdout",
     "output_type": "stream",
     "text": [
      "0.21739130434782608\n",
      "0.5833333333333334\n"
     ]
    }
   ],
   "source": [
    "def miss_one_fn(row):\n",
    "    if row[\"Answer Index\"] == 1 and row[\"Correct Answer Index\"] == 2 and row[\"Question Category\"] == \"share special\":\n",
    "        return 1\n",
    "    else:\n",
    "        return 0\n",
    "\n",
    "baseline_miss_one = df_baseline_eval[(df_baseline_eval[\"Correct Answer Index\"] == 2) & (df_baseline_eval[\"Question Category\"] == \"share special\")].apply(miss_one_fn, axis=1)\n",
    "print(baseline_miss_one.mean())\n",
    "\n",
    "quiz_miss_one = df_quiz_eval[(df_quiz_eval[\"Correct Answer Index\"] == 2) & (df_quiz_eval[\"Question Category\"] == \"share special\")].apply(miss_one_fn, axis=1)\n",
    "print(quiz_miss_one.mean())"
   ],
   "metadata": {
    "collapsed": false,
    "pycharm": {
     "name": "#%%\n"
    }
   }
  },
  {
   "cell_type": "code",
   "execution_count": 164,
   "outputs": [
    {
     "data": {
      "text/plain": "<AxesSubplot:xlabel='Correct Answer Index', ylabel='Probability'>"
     },
     "execution_count": 164,
     "metadata": {},
     "output_type": "execute_result"
    },
    {
     "data": {
      "text/plain": "<Figure size 432x288 with 1 Axes>",
      "image/png": "[encoded data removed]"
     },
     "metadata": {},
     "output_type": "display_data"
    }
   ],
   "source": [
    "# correct answer index distribution\n",
    "sns.histplot(df[(df[\"Correctness\"] != -1) & (~df[\"Question ID\"].str.contains(\"-\"))], stat=\"probability\", x=\"Correct Answer Index\")"
   ],
   "metadata": {
    "collapsed": false,
    "pycharm": {
     "name": "#%%\n"
    }
   }
  },
  {
   "cell_type": "code",
   "execution_count": 165,
   "outputs": [
    {
     "data": {
      "text/plain": "<AxesSubplot:xlabel='Answer Index', ylabel='Probability'>"
     },
     "execution_count": 165,
     "metadata": {},
     "output_type": "execute_result"
    },
    {
     "data": {
      "text/plain": "<Figure size 432x288 with 1 Axes>",
      "image/png": "[encoded data removed]"
     },
     "metadata": {},
     "output_type": "display_data"
    }
   ],
   "source": [
    "# baseline answer index distribution\n",
    "sns.histplot(df[(df[\"Prompt Condition\"] == 0) & (df[\"Correctness\"] != -1) & (~df[\"Question ID\"].str.contains(\"-\"))], stat=\"probability\", x=\"Answer Index\")"
   ],
   "metadata": {
    "collapsed": false,
    "pycharm": {
     "name": "#%%\n"
    }
   }
  },
  {
   "cell_type": "code",
   "execution_count": 166,
   "outputs": [
    {
     "data": {
      "text/plain": "<AxesSubplot:xlabel='Answer Index', ylabel='Probability'>"
     },
     "execution_count": 166,
     "metadata": {},
     "output_type": "execute_result"
    },
    {
     "data": {
      "text/plain": "<Figure size 432x288 with 1 Axes>",
      "image/png": "[encoded data removed]"
     },
     "metadata": {},
     "output_type": "display_data"
    }
   ],
   "source": [
    "# quiz group answer index distribution\n",
    "sns.histplot(df[(df[\"Prompt Condition\"] == 1) & (df[\"Correctness\"] != -1) & (~df[\"Question ID\"].str.contains(\"-\"))], stat=\"probability\", x=\"Answer Index\")\n"
   ],
   "metadata": {
    "collapsed": false,
    "pycharm": {
     "name": "#%%\n"
    }
   }
  },
  {
   "cell_type": "code",
   "execution_count": 167,
   "outputs": [
    {
     "name": "stdout",
     "output_type": "stream",
     "text": [
      "0.5666666666666667\n",
      "0.42105263157894735\n"
     ]
    }
   ],
   "source": [
    "# Webviews\n",
    "df_webview = df[df[\"Concept Group\"] == \"Webviews\"]\n",
    "\n",
    "print(df_webview[(df_webview[\"Prompt Condition\"] == 0) & (df_webview[\"Correctness\"] != -1)][\"Correctness\"].mean())\n",
    "print(df_webview[(df_webview[\"Prompt Condition\"] == 1) & (df_webview[\"Correctness\"] != -1) & (~df_webview[\"Question ID\"].str.contains(\"-\"))][\"Correctness\"].mean())"
   ],
   "metadata": {
    "collapsed": false,
    "pycharm": {
     "name": "#%%\n"
    }
   }
  },
  {
   "cell_type": "code",
   "execution_count": 168,
   "outputs": [
    {
     "name": "stdout",
     "output_type": "stream",
     "text": [
      "0.4444444444444444\n",
      "0.6153846153846154\n"
     ]
    }
   ],
   "source": [
    "# Service Providers\n",
    "df_concept = df[df[\"Concept Group\"] == \"Service Providers\"]\n",
    "\n",
    "print(df_concept[(df_concept[\"Prompt Condition\"] == 0) & (df_concept[\"Correctness\"] != -1)][\"Correctness\"].mean())\n",
    "print(df_concept[(df_concept[\"Prompt Condition\"] == 1) & (df_concept[\"Correctness\"] != -1) & (~df_concept[\"Question ID\"].str.contains(\"-\"))][\"Correctness\"].mean())"
   ],
   "metadata": {
    "collapsed": false,
    "pycharm": {
     "name": "#%%\n"
    }
   }
  },
  {
   "cell_type": "code",
   "execution_count": 169,
   "outputs": [
    {
     "name": "stdout",
     "output_type": "stream",
     "text": [
      "0.375\n",
      "0.6666666666666666\n"
     ]
    }
   ],
   "source": [
    "# Optional Data Collection\n",
    "df_concept = df[df[\"Concept Group\"] == \"Optional Data Collection\"]\n",
    "\n",
    "print(df_concept[(df_concept[\"Prompt Condition\"] == 0) & (df_concept[\"Correctness\"] != -1)][\"Correctness\"].mean())\n",
    "print(df_concept[(df_concept[\"Prompt Condition\"] == 1) & (df_concept[\"Correctness\"] != -1) & (~df_concept[\"Question ID\"].str.contains(\"-\"))][\"Correctness\"].mean())"
   ],
   "metadata": {
    "collapsed": false,
    "pycharm": {
     "name": "#%%\n"
    }
   }
  },
  {
   "cell_type": "code",
   "execution_count": 170,
   "outputs": [
    {
     "name": "stdout",
     "output_type": "stream",
     "text": [
      "0.0\n",
      "0.5\n"
     ]
    }
   ],
   "source": [
    "# Anonymization\n",
    "df_concept = df[df[\"Concept Group\"] == \"Anonymization\"]\n",
    "\n",
    "print(df_concept[(df_concept[\"Prompt Condition\"] == 0) & (df_concept[\"Correctness\"] != -1)][\"Correctness\"].mean())\n",
    "print(df_concept[(df_concept[\"Prompt Condition\"] == 1) & (df_concept[\"Correctness\"] != -1) & (~df_concept[\"Question ID\"].str.contains(\"-\"))][\"Correctness\"].mean())"
   ],
   "metadata": {
    "collapsed": false,
    "pycharm": {
     "name": "#%%\n"
    }
   }
  },
  {
   "cell_type": "code",
   "execution_count": 171,
   "outputs": [
    {
     "name": "stdout",
     "output_type": "stream",
     "text": [
      "0.4\n",
      "0.25\n"
     ]
    }
   ],
   "source": [
    "# Legal Request\n",
    "df_concept = df[df[\"Concept Group\"] == \"Legal Request\"]\n",
    "\n",
    "print(df_concept[(df_concept[\"Prompt Condition\"] == 0) & (df_concept[\"Correctness\"] != -1)][\"Correctness\"].mean())\n",
    "print(df_concept[(df_concept[\"Prompt Condition\"] == 1) & (df_concept[\"Correctness\"] != -1) & (~df_concept[\"Question ID\"].str.contains(\"-\"))][\"Correctness\"].mean())"
   ],
   "metadata": {
    "collapsed": false,
    "pycharm": {
     "name": "#%%\n"
    }
   }
  },
  {
   "cell_type": "code",
   "execution_count": 172,
   "outputs": [
    {
     "name": "stdout",
     "output_type": "stream",
     "text": [
      "0.07692307692307693\n",
      "0.1\n"
     ]
    }
   ],
   "source": [
    "# User Consent\n",
    "df_concept = df[df[\"Concept Group\"] == \"User Consent\"]\n",
    "\n",
    "print(df_concept[(df_concept[\"Prompt Condition\"] == 0) & (df_concept[\"Correctness\"] != -1)][\"Correctness\"].mean())\n",
    "print(df_concept[(df_concept[\"Prompt Condition\"] == 1) & (df_concept[\"Correctness\"] != -1) & (~df_concept[\"Question ID\"].str.contains(\"-\"))][\"Correctness\"].mean())"
   ],
   "metadata": {
    "collapsed": false,
    "pycharm": {
     "name": "#%%\n"
    }
   }
  },
  {
   "cell_type": "code",
   "execution_count": 173,
   "outputs": [
    {
     "name": "stdout",
     "output_type": "stream",
     "text": [
      "0.5\n",
      "0.5\n"
     ]
    }
   ],
   "source": [
    "# Share Basic\n",
    "df_concept = df[df[\"Concept Group\"] == \"Share Basic\"]\n",
    "\n",
    "print(df_concept[(df_concept[\"Prompt Condition\"] == 0) & (df_concept[\"Correctness\"] != -1)][\"Correctness\"].mean())\n",
    "print(df_concept[(df_concept[\"Prompt Condition\"] == 1) & (df_concept[\"Correctness\"] != -1) & (~df_concept[\"Question ID\"].str.contains(\"-\"))][\"Correctness\"].mean())"
   ],
   "metadata": {
    "collapsed": false,
    "pycharm": {
     "name": "#%%\n"
    }
   }
  },
  {
   "cell_type": "code",
   "execution_count": 174,
   "outputs": [
    {
     "name": "stdout",
     "output_type": "stream",
     "text": [
      "0.8571428571428571\n",
      "0.75\n"
     ]
    }
   ],
   "source": [
    "# Collect Basic\n",
    "df_concept = df[df[\"Concept Group\"] == \"Collect Basic\"]\n",
    "\n",
    "print(df_concept[(df_concept[\"Prompt Condition\"] == 0) & (df_concept[\"Correctness\"] != -1)][\"Correctness\"].mean())\n",
    "print(df_concept[(df_concept[\"Prompt Condition\"] == 1) & (df_concept[\"Correctness\"] != -1) & (~df_concept[\"Question ID\"].str.contains(\"-\"))][\"Correctness\"].mean())"
   ],
   "metadata": {
    "collapsed": false,
    "pycharm": {
     "name": "#%%\n"
    }
   }
  },
  {
   "cell_type": "code",
   "execution_count": 175,
   "outputs": [
    {
     "name": "stdout",
     "output_type": "stream",
     "text": [
      "0.8571428571428571\n",
      "0.5\n"
     ]
    }
   ],
   "source": [
    "# Off-device Server Transfers\n",
    "df_concept = df[df[\"Concept Group\"] == \"Off-device Server Transfers\"]\n",
    "\n",
    "print(df_concept[(df_concept[\"Prompt Condition\"] == 0) & (df_concept[\"Correctness\"] != -1)][\"Correctness\"].mean())\n",
    "print(df_concept[(df_concept[\"Prompt Condition\"] == 1) & (df_concept[\"Correctness\"] != -1) & (~df_concept[\"Question ID\"].str.contains(\"-\"))][\"Correctness\"].mean())"
   ],
   "metadata": {
    "collapsed": false,
    "pycharm": {
     "name": "#%%\n"
    }
   }
  },
  {
   "cell_type": "code",
   "execution_count": 176,
   "outputs": [
    {
     "name": "stdout",
     "output_type": "stream",
     "text": [
      "0.6666666666666666\n",
      "0.2727272727272727\n"
     ]
    }
   ],
   "source": [
    "# On-device processing and transfers\n",
    "df_concept = df[df[\"Concept Group\"] == \"On-device processing and transfers\"]\n",
    "\n",
    "print(df_concept[(df_concept[\"Prompt Condition\"] == 0) & (df_concept[\"Correctness\"] != -1)][\"Correctness\"].mean())\n",
    "print(df_concept[(df_concept[\"Prompt Condition\"] == 1) & (df_concept[\"Correctness\"] != -1) & (~df_concept[\"Question ID\"].str.contains(\"-\"))][\"Correctness\"].mean())"
   ],
   "metadata": {
    "collapsed": false,
    "pycharm": {
     "name": "#%%\n"
    }
   }
  },
  {
   "cell_type": "code",
   "execution_count": 177,
   "outputs": [
    {
     "name": "stdout",
     "output_type": "stream",
     "text": [
      "0.625\n",
      "0.375\n"
     ]
    }
   ],
   "source": [
    "# Libraries/SDKs\n",
    "df_concept = df[df[\"Concept Group\"] == \"Libraries/SDKs\"]\n",
    "\n",
    "print(df_concept[(df_concept[\"Prompt Condition\"] == 0) & (df_concept[\"Correctness\"] != -1)][\"Correctness\"].mean())\n",
    "print(df_concept[(df_concept[\"Prompt Condition\"] == 1) & (df_concept[\"Correctness\"] != -1) & (~df_concept[\"Question ID\"].str.contains(\"-\"))][\"Correctness\"].mean())"
   ],
   "metadata": {
    "collapsed": false,
    "pycharm": {
     "name": "#%%\n"
    }
   }
  },
  {
   "cell_type": "code",
   "execution_count": 178,
   "outputs": [
    {
     "name": "stdout",
     "output_type": "stream",
     "text": [
      "0.5555555555555556\n",
      "1.0\n"
     ]
    }
   ],
   "source": [
    "# End to End Encryption\n",
    "df_concept = df[df[\"Concept Group\"] == \"End to End Encryption\"]\n",
    "\n",
    "print(df_concept[(df_concept[\"Prompt Condition\"] == 0) & (df_concept[\"Correctness\"] != -1)][\"Correctness\"].mean())\n",
    "print(df_concept[(df_concept[\"Prompt Condition\"] == 1) & (df_concept[\"Correctness\"] != -1) & (~df_concept[\"Question ID\"].str.contains(\"-\"))][\"Correctness\"].mean())"
   ],
   "metadata": {
    "collapsed": false,
    "pycharm": {
     "name": "#%%\n"
    }
   }
  },
  {
   "cell_type": "code",
   "execution_count": 179,
   "outputs": [
    {
     "name": "stdout",
     "output_type": "stream",
     "text": [
      "0.5\n",
      "0.3333333333333333\n"
     ]
    }
   ],
   "source": [
    "# Ephemeral Processing\n",
    "df_concept = df[df[\"Concept Group\"] == \"Ephemeral Processing\"]\n",
    "\n",
    "print(df_concept[(df_concept[\"Prompt Condition\"] == 0) & (df_concept[\"Correctness\"] != -1)][\"Correctness\"].mean())\n",
    "print(df_concept[(df_concept[\"Prompt Condition\"] == 1) & (df_concept[\"Correctness\"] != -1) & (~df_concept[\"Question ID\"].str.contains(\"-\"))][\"Correctness\"].mean())"
   ],
   "metadata": {
    "collapsed": false,
    "pycharm": {
     "name": "#%%\n"
    }
   }
  },
  {
   "cell_type": "code",
   "execution_count": 180,
   "outputs": [
    {
     "name": "stdout",
     "output_type": "stream",
     "text": [
      "0.875\n",
      "0.5\n"
     ]
    }
   ],
   "source": [
    "# Pseudynoymization\n",
    "df_concept = df[df[\"Concept Group\"] == \"Pseudynoymization\"]\n",
    "\n",
    "print(df_concept[(df_concept[\"Prompt Condition\"] == 0) & (df_concept[\"Correctness\"] != -1)][\"Correctness\"].mean())\n",
    "print(df_concept[(df_concept[\"Prompt Condition\"] == 1) & (df_concept[\"Correctness\"] != -1) & (~df_concept[\"Question ID\"].str.contains(\"-\"))][\"Correctness\"].mean())"
   ],
   "metadata": {
    "collapsed": false,
    "pycharm": {
     "name": "#%%\n"
    }
   }
  }
 ],
 "metadata": {
  "kernelspec": {
   "display_name": "Python 3",
   "language": "python",
   "name": "python3"
  },
  "language_info": {
   "codemirror_mode": {
    "name": "ipython",
    "version": 2
   },
   "file_extension": ".py",
   "mimetype": "text/x-python",
   "name": "python",
   "nbconvert_exporter": "python",
   "pygments_lexer": "ipython2",
   "version": "2.7.6"
  }
 },
 "nbformat": 4,
 "nbformat_minor": 0
}